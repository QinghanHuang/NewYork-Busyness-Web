{
  "nbformat": 4,
  "nbformat_minor": 0,
  "metadata": {
    "colab": {
      "provenance": [],
      "machine_shape": "hm"
    },
    "kernelspec": {
      "name": "python3",
      "display_name": "Python 3"
    },
    "language_info": {
      "name": "python"
    }
  },
  "cells": [
    {
      "cell_type": "code",
      "execution_count": 1,
      "metadata": {
        "colab": {
          "base_uri": "https://localhost:8080/"
        },
        "id": "4Aq1L9BorA9d",
        "outputId": "871b0fbc-04cf-412b-bc8d-bcf35bc02c44"
      },
      "outputs": [
        {
          "output_type": "stream",
          "name": "stdout",
          "text": [
            "Drive already mounted at /content/drive; to attempt to forcibly remount, call drive.mount(\"/content/drive\", force_remount=True).\n",
            "   trip_distance  fare_amount  total_amount  extra  tip_amount  \\\n",
            "0           3.15         15.0     19.560000    0.5    3.260000   \n",
            "1           0.83          5.5      6.800000    0.5    0.000000   \n",
            "2           1.00          5.0      6.300000    0.5    0.000000   \n",
            "3           2.32         11.0     12.786667    0.5    0.486667   \n",
            "4           1.46          7.5     11.440000    0.5    2.640000   \n",
            "\n",
            "   congestion_surcharge  ride_duration  average_speed  DOLocation_area  \\\n",
            "0                     1      21.150000       8.936170         0.000114   \n",
            "1                     1       5.550000       8.972973         0.000438   \n",
            "2                     1       3.816667      15.720524         0.000143   \n",
            "3                     1      13.788889       9.586343         0.000094   \n",
            "4                     1       7.850000      11.159236         0.000111   \n",
            "\n",
            "   DOLocation_perimeter  ...  dropoff_month_3  dropoff_month_4  \\\n",
            "0              0.047584  ...                0                0   \n",
            "1              0.094331  ...                0                0   \n",
            "2              0.052793  ...                0                0   \n",
            "3              0.043747  ...                0                0   \n",
            "4              0.049337  ...                0                0   \n",
            "\n",
            "   dropoff_month_5  dropoff_month_6  dropoff_month_7  dropoff_month_8  \\\n",
            "0                0                0                0                0   \n",
            "1                0                0                0                0   \n",
            "2                0                0                0                0   \n",
            "3                0                0                0                0   \n",
            "4                0                0                0                0   \n",
            "\n",
            "   dropoff_month_9  dropoff_month_10  dropoff_month_11  dropoff_month_12  \n",
            "0                0                 0                 0                 1  \n",
            "1                0                 0                 0                 1  \n",
            "2                0                 0                 0                 1  \n",
            "3                0                 0                 0                 1  \n",
            "4                0                 0                 0                 1  \n",
            "\n",
            "[5 rows x 164 columns]\n"
          ]
        }
      ],
      "source": [
        "import pandas as panda\n",
        "\n",
        "from sklearn import metrics\n",
        "from sklearn.model_selection import train_test_split\n",
        "\n",
        "\n",
        "\n",
        "\n",
        "from google.colab import drive\n",
        "drive.mount('/content/drive')\n",
        "\n",
        "df = panda.read_csv('/content/drive/MyDrive/feature_complete1.3manhattenyellowtaxis.csv')\n",
        "\n",
        "\n",
        "\n",
        "print(df.head())\n",
        "\n",
        "\n",
        "\n",
        "\n",
        "\n"
      ]
    },
    {
      "cell_type": "code",
      "source": [
        "from sklearn.preprocessing import StandardScaler\n",
        "\n",
        "continuous_feats = [\"average_speed\", \"ride_duration\", \"tip_amount\", \"trip_distance\",\n",
        "                       \"extra\", \"passenger_count\", \"fare_amount\", \"total_amount\",\n",
        "                       \"DOLocation_area\", \"DOLocation_perimeter\", \"congestion_surcharge\"]\n",
        "\n",
        "\n",
        "\n",
        "s = StandardScaler()\n",
        "\n",
        "\n",
        "\n",
        "df[continuous_feats]   = s.fit_transform(df[continuous_feats])\n",
        "\n",
        "\n",
        "\n",
        "\n",
        "correlated_feats = [\"DOLocation_perimeter\",    \"fare_amount\",   \"total_amount\",\n",
        "  \"VendorID_1.0\",   \"VendorID_2.0\",   \"VendorID_4.0\"] +    [f\"payment_type_{i}.0\" for i in range(1, 5)]\n",
        "\n",
        "\n",
        "df = df.drop(columns=correlated_feats)"
      ],
      "metadata": {
        "id": "47_PmVE32b0-"
      },
      "execution_count": 2,
      "outputs": []
    },
    {
      "cell_type": "code",
      "source": [
        "import numpy as nump\n",
        "from sklearn.neighbors import KNeighborsClassifier\n",
        "from sklearn import metrics\n",
        "\n",
        "training_size =  int(0.8 *  len(df))\n",
        "\n",
        "training_df = df.iloc[:training_size]\n",
        "\n",
        "testing_df = df.iloc[training_size:]\n",
        "\n",
        "X_training =   training_df.drop('busyness',  axis=1)\n",
        "y_training =   training_df['busyness']\n",
        "\n",
        "X_testing =     testing_df.drop('busyness',  axis=1)\n",
        "y_testing =     testing_df['busyness']\n",
        "\n",
        "\n",
        "model =    KNeighborsClassifier(n_neighbors=30)\n",
        "\n",
        "\n",
        "\n",
        "model.fit(X_training,    y_training)\n",
        "\n",
        "y_predict = model.predict(X_testing)\n",
        "\n",
        "\n",
        "accuracy =   metrics.accuracy_score(y_testing,  y_predict)\n",
        "f1_score =   metrics.f1_score(y_testing,   y_predict,   average='macro')\n",
        "\n",
        "recall =   metrics.recall_score(y_testing,   y_predict,   average='macro')\n",
        "precision =   metrics.precision_score(y_testing,   y_predict,   average='macro')\n",
        "\n",
        "# print the metrics\n",
        "print(\"accuracy:\", accuracy)\n",
        "print(\"f1:\", f1_score)\n",
        "print(\"recall:\", recall)\n",
        "print(\"precision:\", precision)\n",
        "\n",
        "\n"
      ],
      "metadata": {
        "id": "auk00kFKrT9V",
        "colab": {
          "base_uri": "https://localhost:8080/"
        },
        "outputId": "10a644c8-deff-4c31-9703-e273f454696a"
      },
      "execution_count": 3,
      "outputs": [
        {
          "output_type": "stream",
          "name": "stdout",
          "text": [
            "accuracy: 0.828399379800238\n",
            "f1: 0.8282165190867173\n",
            "recall: 0.8286726803852849\n",
            "precision: 0.8302071965468784\n"
          ]
        }
      ]
    },
    {
      "cell_type": "code",
      "source": [
        "import pickle\n",
        "\n",
        "\n",
        "\n",
        "with open('/content/drive/My Drive/t8KNeighborsClassifier.pkl', 'wb') as file:\n",
        "    pickle.dump(model, file)\n",
        "\n",
        "\n",
        "\n",
        "\n"
      ],
      "metadata": {
        "id": "Q_vLlxhrrUAT"
      },
      "execution_count": 4,
      "outputs": []
    }
  ]
}