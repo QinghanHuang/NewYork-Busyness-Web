{
  "nbformat": 4,
  "nbformat_minor": 0,
  "metadata": {
    "colab": {
      "provenance": [],
      "machine_shape": "hm"
    },
    "kernelspec": {
      "name": "python3",
      "display_name": "Python 3"
    },
    "language_info": {
      "name": "python"
    }
  },
  "cells": [
    {
      "cell_type": "code",
      "execution_count": 1,
      "metadata": {
        "colab": {
          "base_uri": "https://localhost:8080/"
        },
        "id": "4Aq1L9BorA9d",
        "outputId": "05462ea1-29c1-4296-b2a2-92fc0c940347"
      },
      "outputs": [
        {
          "output_type": "stream",
          "name": "stdout",
          "text": [
            "Mounted at /content/drive\n",
            "   trip_distance  fare_amount  total_amount  extra  tip_amount  \\\n",
            "0           3.15         15.0     19.560000    0.5    3.260000   \n",
            "1           0.83          5.5      6.800000    0.5    0.000000   \n",
            "2           1.00          5.0      6.300000    0.5    0.000000   \n",
            "3           2.32         11.0     12.786667    0.5    0.486667   \n",
            "4           1.46          7.5     11.440000    0.5    2.640000   \n",
            "\n",
            "   congestion_surcharge  ride_duration  average_speed  DOLocation_area  \\\n",
            "0                     1      21.150000       8.936170         0.000114   \n",
            "1                     1       5.550000       8.972973         0.000438   \n",
            "2                     1       3.816667      15.720524         0.000143   \n",
            "3                     1      13.788889       9.586343         0.000094   \n",
            "4                     1       7.850000      11.159236         0.000111   \n",
            "\n",
            "   DOLocation_perimeter  ...  dropoff_month_3  dropoff_month_4  \\\n",
            "0              0.047584  ...                0                0   \n",
            "1              0.094331  ...                0                0   \n",
            "2              0.052793  ...                0                0   \n",
            "3              0.043747  ...                0                0   \n",
            "4              0.049337  ...                0                0   \n",
            "\n",
            "   dropoff_month_5  dropoff_month_6  dropoff_month_7  dropoff_month_8  \\\n",
            "0                0                0                0                0   \n",
            "1                0                0                0                0   \n",
            "2                0                0                0                0   \n",
            "3                0                0                0                0   \n",
            "4                0                0                0                0   \n",
            "\n",
            "   dropoff_month_9  dropoff_month_10  dropoff_month_11  dropoff_month_12  \n",
            "0                0                 0                 0                 1  \n",
            "1                0                 0                 0                 1  \n",
            "2                0                 0                 0                 1  \n",
            "3                0                 0                 0                 1  \n",
            "4                0                 0                 0                 1  \n",
            "\n",
            "[5 rows x 164 columns]\n"
          ]
        }
      ],
      "source": [
        "import pandas as panda\n",
        "\n",
        "from sklearn import metrics\n",
        "from sklearn.model_selection import train_test_split\n",
        "\n",
        "\n",
        "\n",
        "\n",
        "from google.colab import drive\n",
        "drive.mount('/content/drive')\n",
        "\n",
        "df = panda.read_csv('/content/drive/MyDrive/feature_complete1.3manhattenyellowtaxis.csv')\n",
        "\n",
        "\n",
        "\n",
        "print(df.head())\n",
        "\n",
        "\n",
        "\n",
        "\n",
        "\n"
      ]
    },
    {
      "cell_type": "code",
      "source": [
        "import numpy as nump\n",
        "from sklearn.tree import DecisionTreeClassifier\n",
        "from sklearn import metrics\n",
        "\n",
        "training_size =  int(0.8 *   len(df))\n",
        "\n",
        "training_df =   df.iloc[:training_size]\n",
        "testing_df =  df.iloc[training_size:]\n",
        "\n",
        "\n",
        "X_training =   training_df.drop('busyness',  axis=1)\n",
        "y_training =  training_df['busyness']\n",
        "\n",
        "\n",
        "X_testing =   testing_df.drop('busyness',  axis=1)\n",
        "y_testing =  testing_df['busyness']\n",
        "\n",
        "model = DecisionTreeClassifier(random_state=40)\n",
        "model.fit(X_training, y_training)\n",
        "\n",
        "y_predict = model.predict(X_testing)\n",
        "\n",
        "# make metrics\n",
        "accuracy =  metrics.accuracy_score(y_testing, y_predict)\n",
        "f1_score =    metrics.f1_score(y_testing, y_predict, average='macro')\n",
        "recall =   metrics.recall_score(y_testing, y_predict, average='macro')\n",
        "precision =   metrics.precision_score(y_testing, y_predict, average='macro')\n",
        "\n",
        "# print the metrics\n",
        "print(\"accuracy:\",  accuracy)\n",
        "print(\"f1:\",   f1_score)\n",
        "print(\"recall:\",   recall)\n",
        "print(\"precision:\",   precision)\n",
        "\n",
        "\n",
        "\n"
      ],
      "metadata": {
        "id": "auk00kFKrT9V",
        "colab": {
          "base_uri": "https://localhost:8080/"
        },
        "outputId": "684aedb3-0698-42cc-8b0f-3b3e1b94d54a"
      },
      "execution_count": 2,
      "outputs": [
        {
          "output_type": "stream",
          "name": "stdout",
          "text": [
            "accuracy: 0.7879151191721054\n",
            "f1: 0.7871268096529469\n",
            "recall: 0.7876502776603871\n",
            "precision: 0.7869315046146481\n"
          ]
        }
      ]
    },
    {
      "cell_type": "code",
      "source": [
        "import pickle\n",
        "\n",
        "\n",
        "\n",
        "with open('/content/drive/My Drive/t9.3decisiontreeclassifiermodel.pkl', 'wb') as file:\n",
        "    pickle.dump(model, file)\n",
        "\n",
        "\n",
        "\n",
        "\n"
      ],
      "metadata": {
        "id": "Q_vLlxhrrUAT"
      },
      "execution_count": 3,
      "outputs": []
    },
    {
      "cell_type": "code",
      "source": [
        "i = model.feature_importances_\n",
        "\n",
        "\n",
        "\n",
        "how_important_df = panda.DataFrame({\n",
        "    'Feature': X_training.columns,\n",
        "    'Importance': i\n",
        "})\n",
        "\n",
        "\n",
        "how_important_df.sort_values('Importance', ascending=False, inplace=True)\n",
        "\n",
        "\n",
        "how_important_df.to_csv('/content/drive/My Drive/t9.3feature_importances.csv',  index=False)\n"
      ],
      "metadata": {
        "id": "8zlG8Ob5y3ez"
      },
      "execution_count": 4,
      "outputs": []
    }
  ]
}