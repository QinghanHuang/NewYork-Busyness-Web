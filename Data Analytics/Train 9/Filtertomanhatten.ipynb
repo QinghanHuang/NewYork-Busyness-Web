{
 "cells": [
  {
   "cell_type": "code",
   "execution_count": 1,
   "id": "4ae52062",
   "metadata": {},
   "outputs": [],
   "source": [
    "import pandas as pd\n",
    "x = pd.read_csv(\"C:\\\\Users\\\\krmch\\\\OneDrive\\\\Desktop\\\\taxi_zones (1).csv\")"
   ]
  },
  {
   "cell_type": "code",
   "execution_count": 2,
   "id": "c9335160",
   "metadata": {},
   "outputs": [
    {
     "name": "stdout",
     "output_type": "stream",
     "text": [
      "Index(['OBJECTID', 'Shape_Leng', 'the_geom', 'Shape_Area', 'zone',\n",
      "       'LocationID', 'borough'],\n",
      "      dtype='object')\n"
     ]
    }
   ],
   "source": [
    "print(x.columns)"
   ]
  },
  {
   "cell_type": "code",
   "execution_count": 3,
   "id": "1956a5a0",
   "metadata": {},
   "outputs": [],
   "source": [
    "manhattantaxizones = x[x['borough'] == 'Manhattan']\n",
    "\n",
    "themanhattan_ids = manhattantaxizones['LocationID'].tolist()"
   ]
  },
  {
   "cell_type": "code",
   "execution_count": 4,
   "id": "a0093065",
   "metadata": {},
   "outputs": [
    {
     "name": "stdout",
     "output_type": "stream",
     "text": [
      "[4, 24, 12, 13, 41, 45, 42, 43, 48, 50, 68, 79, 74, 75, 87, 88, 90, 125, 100, 103, 103, 103, 107, 113, 114, 116, 120, 127, 128, 151, 140, 137, 141, 142, 152, 143, 144, 148, 153, 158, 161, 162, 163, 164, 170, 166, 186, 194, 202, 209, 211, 224, 229, 230, 231, 239, 232, 233, 234, 236, 237, 238, 263, 243, 244, 246, 249, 261, 262]\n"
     ]
    }
   ],
   "source": [
    "print(themanhattan_ids)"
   ]
  },
  {
   "cell_type": "code",
   "execution_count": 5,
   "id": "9d2b9753",
   "metadata": {},
   "outputs": [],
   "source": [
    "import os"
   ]
  },
  {
   "cell_type": "code",
   "execution_count": 6,
   "id": "8a07d3bb",
   "metadata": {},
   "outputs": [],
   "source": [
    "file = \"C:\\\\Users\\\\krmch\\\\OneDrive\\\\Desktop\\\\2019_Yellow_Taxi_Trip_Data (1).csv\""
   ]
  },
  {
   "cell_type": "code",
   "execution_count": 7,
   "id": "2aa49692",
   "metadata": {},
   "outputs": [],
   "source": [
    "y = sum(1 for row in open(file , 'r'))"
   ]
  },
  {
   "cell_type": "code",
   "execution_count": 8,
   "id": "56658f1e",
   "metadata": {},
   "outputs": [
    {
     "name": "stdout",
     "output_type": "stream",
     "text": [
      "Number of lines = : 84399020\n"
     ]
    }
   ],
   "source": [
    "print(f\"Number of lines = : {y}\")"
   ]
  },
  {
   "cell_type": "code",
   "execution_count": 9,
   "id": "7c593e42",
   "metadata": {},
   "outputs": [],
   "source": [
    "filtered_x = pd.DataFrame()\n",
    "\n",
    "chunksize = 10 ** 6\n",
    "\n",
    "for i in pd.read_csv(file , chunksize=chunksize):\n",
    "\n",
    "    i = i[ (i['DOLocationID'].isin(themanhattan_ids))]\n",
    "    filtered_x = pd.concat([filtered_x, i])"
   ]
  },
  {
   "cell_type": "code",
   "execution_count": 10,
   "id": "8eaf73f8",
   "metadata": {},
   "outputs": [],
   "source": [
    "rows = filtered_x.shape[0]"
   ]
  },
  {
   "cell_type": "code",
   "execution_count": 11,
   "id": "1561be41",
   "metadata": {},
   "outputs": [
    {
     "name": "stdout",
     "output_type": "stream",
     "text": [
      "The number of rows is : 74658534\n"
     ]
    }
   ],
   "source": [
    "print(f\"The number of rows is : {rows}\")"
   ]
  },
  {
   "cell_type": "code",
   "execution_count": 12,
   "id": "b8a80375",
   "metadata": {},
   "outputs": [],
   "source": [
    "path = r\"C:\\Users\\krmch\\OneDrive\\Desktop\\10manhattenyellowtaxis.csv\""
   ]
  },
  {
   "cell_type": "code",
   "execution_count": 13,
   "id": "4949e471",
   "metadata": {},
   "outputs": [],
   "source": [
    "filtered_x.to_csv(path, index=False)"
   ]
  }
 ],
 "metadata": {
  "kernelspec": {
   "display_name": "Python 3 (ipykernel)",
   "language": "python",
   "name": "python3"
  },
  "language_info": {
   "codemirror_mode": {
    "name": "ipython",
    "version": 3
   },
   "file_extension": ".py",
   "mimetype": "text/x-python",
   "name": "python",
   "nbconvert_exporter": "python",
   "pygments_lexer": "ipython3",
   "version": "3.10.9"
  }
 },
 "nbformat": 4,
 "nbformat_minor": 5
}
