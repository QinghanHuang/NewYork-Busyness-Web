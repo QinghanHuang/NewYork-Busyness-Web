{
 "cells": [
  {
   "cell_type": "code",
   "execution_count": 1,
   "id": "602d1ee2",
   "metadata": {},
   "outputs": [],
   "source": [
    "import pandas as pd\n",
    "\n",
    "df =  pd.read_csv(r'C:\\Users\\krmch\\OneDrive\\Desktop\\10manhattenyellowtaxis.csv')"
   ]
  },
  {
   "cell_type": "code",
   "execution_count": 2,
   "id": "528c64db",
   "metadata": {},
   "outputs": [
    {
     "data": {
      "text/plain": [
       "VendorID                 float64\n",
       "tpep_pickup_datetime      object\n",
       "tpep_dropoff_datetime     object\n",
       "passenger_count          float64\n",
       "trip_distance            float64\n",
       "RatecodeID               float64\n",
       "store_and_fwd_flag        object\n",
       "PULocationID               int64\n",
       "DOLocationID               int64\n",
       "payment_type             float64\n",
       "fare_amount              float64\n",
       "extra                    float64\n",
       "mta_tax                  float64\n",
       "tip_amount               float64\n",
       "tolls_amount             float64\n",
       "improvement_surcharge    float64\n",
       "total_amount             float64\n",
       "congestion_surcharge     float64\n",
       "dtype: object"
      ]
     },
     "execution_count": 2,
     "metadata": {},
     "output_type": "execute_result"
    }
   ],
   "source": [
    "df.dtypes"
   ]
  },
  {
   "cell_type": "code",
   "execution_count": 3,
   "id": "408087ce",
   "metadata": {},
   "outputs": [
    {
     "name": "stdout",
     "output_type": "stream",
     "text": [
      "74658534\n"
     ]
    }
   ],
   "source": [
    "print(len(df))"
   ]
  },
  {
   "cell_type": "code",
   "execution_count": 4,
   "id": "8a1381e7",
   "metadata": {},
   "outputs": [],
   "source": [
    "df['tpep_pickup_datetime']  = pd.to_datetime(df['tpep_pickup_datetime'] ,  format ='%m/%d/%Y %I:%M:%S %p')\n",
    "df['tpep_dropoff_datetime'] = pd.to_datetime(df['tpep_dropoff_datetime'] ,  format ='%m/%d/%Y %I:%M:%S %p')"
   ]
  },
  {
   "cell_type": "code",
   "execution_count": 5,
   "id": "416364f5",
   "metadata": {},
   "outputs": [
    {
     "name": "stdout",
     "output_type": "stream",
     "text": [
      "VendorID                        float64\n",
      "tpep_pickup_datetime     datetime64[ns]\n",
      "tpep_dropoff_datetime    datetime64[ns]\n",
      "passenger_count                 float64\n",
      "trip_distance                   float64\n",
      "RatecodeID                      float64\n",
      "store_and_fwd_flag               object\n",
      "PULocationID                      int64\n",
      "DOLocationID                      int64\n",
      "payment_type                    float64\n",
      "fare_amount                     float64\n",
      "extra                           float64\n",
      "mta_tax                         float64\n",
      "tip_amount                      float64\n",
      "tolls_amount                    float64\n",
      "improvement_surcharge           float64\n",
      "total_amount                    float64\n",
      "congestion_surcharge            float64\n",
      "dtype: object\n"
     ]
    }
   ],
   "source": [
    "print(df.dtypes)"
   ]
  },
  {
   "cell_type": "code",
   "execution_count": 6,
   "id": "0279be07",
   "metadata": {},
   "outputs": [
    {
     "name": "stdout",
     "output_type": "stream",
     "text": [
      "VendorID                   88879\n",
      "tpep_pickup_datetime           0\n",
      "tpep_dropoff_datetime          0\n",
      "passenger_count            88879\n",
      "trip_distance                  0\n",
      "RatecodeID                 88879\n",
      "store_and_fwd_flag         88879\n",
      "PULocationID                   0\n",
      "DOLocationID                   0\n",
      "payment_type               88879\n",
      "fare_amount                    0\n",
      "extra                          0\n",
      "mta_tax                        0\n",
      "tip_amount                     0\n",
      "tolls_amount                   0\n",
      "improvement_surcharge          0\n",
      "total_amount                   0\n",
      "congestion_surcharge     4306303\n",
      "dtype: int64\n"
     ]
    }
   ],
   "source": [
    "print(df.isnull().sum())"
   ]
  },
  {
   "cell_type": "code",
   "execution_count": 7,
   "id": "f69f75f4",
   "metadata": {},
   "outputs": [],
   "source": [
    "df = df.dropna(subset=['passenger_count'])"
   ]
  },
  {
   "cell_type": "code",
   "execution_count": 8,
   "id": "8fb7d53d",
   "metadata": {},
   "outputs": [
    {
     "name": "stdout",
     "output_type": "stream",
     "text": [
      "74569655\n"
     ]
    }
   ],
   "source": [
    "print(len(df))"
   ]
  },
  {
   "cell_type": "code",
   "execution_count": 9,
   "id": "f4b302de",
   "metadata": {},
   "outputs": [
    {
     "name": "stdout",
     "output_type": "stream",
     "text": [
      "VendorID                       0\n",
      "tpep_pickup_datetime           0\n",
      "tpep_dropoff_datetime          0\n",
      "passenger_count                0\n",
      "trip_distance                  0\n",
      "RatecodeID                     0\n",
      "store_and_fwd_flag             0\n",
      "PULocationID                   0\n",
      "DOLocationID                   0\n",
      "payment_type                   0\n",
      "fare_amount                    0\n",
      "extra                          0\n",
      "mta_tax                        0\n",
      "tip_amount                     0\n",
      "tolls_amount                   0\n",
      "improvement_surcharge          0\n",
      "total_amount                   0\n",
      "congestion_surcharge     4306303\n",
      "dtype: int64\n"
     ]
    }
   ],
   "source": [
    "print(df.isnull().sum())"
   ]
  },
  {
   "cell_type": "markdown",
   "id": "17e1fae2",
   "metadata": {},
   "source": [
    "congestion_surcharge has a mode  of 2.50 based on the histogram in the data quality report. As such I will impute the mode for the missing values in congestion_surcharge."
   ]
  },
  {
   "cell_type": "code",
   "execution_count": 10,
   "id": "89b1afc7",
   "metadata": {},
   "outputs": [
    {
     "name": "stdout",
     "output_type": "stream",
     "text": [
      "[ 2.5   0.   -2.5   0.75  2.75  2.25 -0.75  0.5   1.     nan -1.5   1.5\n",
      "  3.    4.5 ]\n"
     ]
    }
   ],
   "source": [
    "print(df['congestion_surcharge'].unique())"
   ]
  },
  {
   "cell_type": "code",
   "execution_count": 11,
   "id": "8d67dbd4",
   "metadata": {},
   "outputs": [
    {
     "name": "stdout",
     "output_type": "stream",
     "text": [
      "65153407\n"
     ]
    }
   ],
   "source": [
    "print((df['congestion_surcharge'] ==  2.50).sum())"
   ]
  },
  {
   "cell_type": "code",
   "execution_count": 12,
   "id": "aca6af7b",
   "metadata": {},
   "outputs": [],
   "source": [
    "df['congestion_surcharge'].fillna(2.50, inplace=True)"
   ]
  },
  {
   "cell_type": "code",
   "execution_count": 13,
   "id": "6c8388af",
   "metadata": {},
   "outputs": [
    {
     "name": "stdout",
     "output_type": "stream",
     "text": [
      "VendorID                 0\n",
      "tpep_pickup_datetime     0\n",
      "tpep_dropoff_datetime    0\n",
      "passenger_count          0\n",
      "trip_distance            0\n",
      "RatecodeID               0\n",
      "store_and_fwd_flag       0\n",
      "PULocationID             0\n",
      "DOLocationID             0\n",
      "payment_type             0\n",
      "fare_amount              0\n",
      "extra                    0\n",
      "mta_tax                  0\n",
      "tip_amount               0\n",
      "tolls_amount             0\n",
      "improvement_surcharge    0\n",
      "total_amount             0\n",
      "congestion_surcharge     0\n",
      "dtype: int64\n"
     ]
    }
   ],
   "source": [
    "print(df.isnull().sum())"
   ]
  },
  {
   "cell_type": "markdown",
   "id": "734f34d7",
   "metadata": {},
   "source": [
    "dealing with negative values "
   ]
  },
  {
   "cell_type": "code",
   "execution_count": 14,
   "id": "fdee3622",
   "metadata": {},
   "outputs": [
    {
     "name": "stdout",
     "output_type": "stream",
     "text": [
      "payment_type: 0\n",
      "VendorID: 0\n",
      "passenger_count: 0\n",
      "trip_distance: 23\n",
      "RatecodeID: 0\n",
      "PULocationID: 0\n",
      "DOLocationID: 0\n",
      "fare_amount: 131705\n",
      "extra: 65222\n",
      "mta_tax: 129750\n",
      "tip_amount: 699\n",
      "tolls_amount: 1860\n",
      "improvement_surcharge: 131677\n",
      "total_amount: 131696\n",
      "congestion_surcharge: 114075\n"
     ]
    }
   ],
   "source": [
    "x = [\n",
    "    \"payment_type\", \"VendorID\", \"passenger_count\", \"trip_distance\",\n",
    "    \"RatecodeID\",\"PULocationID\",\"DOLocationID\",\"fare_amount\",\n",
    "    \"extra\",\"mta_tax\",\"tip_amount\",\"tolls_amount\",\"improvement_surcharge\",\n",
    "    \"total_amount\", \"congestion_surcharge\"\n",
    "]\n",
    "\n",
    "\n",
    "d = {}\n",
    "\n",
    "\n",
    "for feature in x:\n",
    "    if feature in df.columns:\n",
    "        d[feature] = (df[feature] < 0).sum()\n",
    "        \n",
    "for feature,  count in d.items():\n",
    "    print(f'{feature}: {count}')"
   ]
  },
  {
   "cell_type": "code",
   "execution_count": 15,
   "id": "48be0795",
   "metadata": {},
   "outputs": [],
   "source": [
    "for i in x:\n",
    "    if i in df.columns:\n",
    "        df[i] = df[i].apply(lambda y: abs(y) if y < 0 else y)"
   ]
  },
  {
   "cell_type": "code",
   "execution_count": 16,
   "id": "86c81477",
   "metadata": {},
   "outputs": [
    {
     "name": "stdout",
     "output_type": "stream",
     "text": [
      "payment_type: 0\n",
      "VendorID: 0\n",
      "passenger_count: 0\n",
      "trip_distance: 0\n",
      "RatecodeID: 0\n",
      "PULocationID: 0\n",
      "DOLocationID: 0\n",
      "fare_amount: 0\n",
      "extra: 0\n",
      "mta_tax: 0\n",
      "tip_amount: 0\n",
      "tolls_amount: 0\n",
      "improvement_surcharge: 0\n",
      "total_amount: 0\n",
      "congestion_surcharge: 0\n"
     ]
    }
   ],
   "source": [
    "x = [\n",
    "    \"payment_type\", \"VendorID\", \"passenger_count\", \"trip_distance\",\n",
    "    \"RatecodeID\",\"PULocationID\",\"DOLocationID\",\"fare_amount\",\n",
    "    \"extra\",\"mta_tax\",\"tip_amount\",\"tolls_amount\",\"improvement_surcharge\",\n",
    "    \"total_amount\", \"congestion_surcharge\"\n",
    "]\n",
    "\n",
    "\n",
    "d = {}\n",
    "\n",
    "\n",
    "for feature in x:\n",
    "    if feature in df.columns:\n",
    "        d[feature] = (df[feature] < 0).sum()\n",
    "        \n",
    "for feature,  count in d.items():\n",
    "    print(f'{feature}: {count}')"
   ]
  },
  {
   "cell_type": "markdown",
   "id": "359960dc",
   "metadata": {},
   "source": [
    "Next we are going to remove values that are incoherent based on domain knowledge. As discussed in the data quality report NYC taxis can only take 6 passengers including a child under 7 and the base fare for 2019 was 2.50$\n",
    "\n",
    "we will count hte number of rows with incoherent values. If many compared to the large 80 million row dataset we may choose imputation or if there are only a few rows we may just remove them.\n",
    "\n",
    "References\n",
    "\n",
    "Bloomberg (2022) 'NYC Taxi Cab Fares to Rise 23% in First Increase Since 2012', Bloomberg. Available at: https://www.bloomberg.com/news/articles/2022-11-15/nyc-taxi-cab-fares-to-rise-23-in-firs t-increase-since-2012 (Accessed: 7 July 2023).\n",
    "NYC.gov (n.d.) 'TLC Rules', NYC.gov. Available at: https://www.nyc.gov/site/tlc/about/tlc-rules.page (Accessed: 7 July 2023)."
   ]
  },
  {
   "cell_type": "code",
   "execution_count": 17,
   "id": "7810a3a3",
   "metadata": {},
   "outputs": [
    {
     "name": "stdout",
     "output_type": "stream",
     "text": [
      "296\n"
     ]
    }
   ],
   "source": [
    "o1 = df[df['passenger_count'] > 6 ].shape[0]\n",
    "print(o1)"
   ]
  },
  {
   "cell_type": "code",
   "execution_count": 18,
   "id": "bd7899e8",
   "metadata": {},
   "outputs": [],
   "source": [
    "df = df[ df['passenger_count']  <= 6]"
   ]
  },
  {
   "cell_type": "code",
   "execution_count": 19,
   "id": "771fbdf2",
   "metadata": {},
   "outputs": [
    {
     "name": "stdout",
     "output_type": "stream",
     "text": [
      "0\n"
     ]
    }
   ],
   "source": [
    "o1 = df[df['passenger_count'] > 6 ].shape[0]\n",
    "print(o1)"
   ]
  },
  {
   "cell_type": "code",
   "execution_count": 20,
   "id": "0961a39e",
   "metadata": {},
   "outputs": [
    {
     "name": "stdout",
     "output_type": "stream",
     "text": [
      "1346863\n"
     ]
    }
   ],
   "source": [
    "o2 = df[df['passenger_count'] == 0].shape[0]\n",
    "print(o2)"
   ]
  },
  {
   "cell_type": "code",
   "execution_count": 21,
   "id": "15b431df",
   "metadata": {},
   "outputs": [],
   "source": [
    "df['passenger_count'].replace(0 , 1 ,  inplace=True)"
   ]
  },
  {
   "cell_type": "code",
   "execution_count": 22,
   "id": "3d8b99a7",
   "metadata": {},
   "outputs": [
    {
     "name": "stdout",
     "output_type": "stream",
     "text": [
      "0\n"
     ]
    }
   ],
   "source": [
    "o2 = df[df['passenger_count'] == 0].shape[0]\n",
    "print(o2)"
   ]
  },
  {
   "cell_type": "code",
   "execution_count": 23,
   "id": "279a07c1",
   "metadata": {},
   "outputs": [
    {
     "name": "stdout",
     "output_type": "stream",
     "text": [
      "2910\n"
     ]
    }
   ],
   "source": [
    "o3 = (df['tpep_pickup_datetime']  >=  df['tpep_dropoff_datetime']).sum()\n",
    "print(o3)"
   ]
  },
  {
   "cell_type": "code",
   "execution_count": 24,
   "id": "90fa7771",
   "metadata": {},
   "outputs": [],
   "source": [
    "df =   df[df['tpep_pickup_datetime']   < df['tpep_dropoff_datetime']]"
   ]
  },
  {
   "cell_type": "code",
   "execution_count": 25,
   "id": "61bb0e6f",
   "metadata": {},
   "outputs": [],
   "source": [
    "start = pd.Timestamp('2018-12-31')\n",
    "end = pd.Timestamp('2020-01-01')"
   ]
  },
  {
   "cell_type": "code",
   "execution_count": 26,
   "id": "b9d62693",
   "metadata": {},
   "outputs": [
    {
     "name": "stdout",
     "output_type": "stream",
     "text": [
      "1733\n"
     ]
    }
   ],
   "source": [
    "out = ((df['tpep_pickup_datetime'] < start)  | (df['tpep_pickup_datetime'] > end)) | ((df['tpep_dropoff_datetime'] < start) |  (df['tpep_dropoff_datetime']  > end))\n",
    "print(out.sum())"
   ]
  },
  {
   "cell_type": "code",
   "execution_count": 27,
   "id": "0a8ba7c2",
   "metadata": {},
   "outputs": [],
   "source": [
    "df = df[((df['tpep_pickup_datetime']  >= start)    & (df['tpep_pickup_datetime']  <= end))   & ((df['tpep_dropoff_datetime'] >= start)    & (df['tpep_dropoff_datetime']  <= end))]"
   ]
  },
  {
   "cell_type": "code",
   "execution_count": 28,
   "id": "1e9e2441",
   "metadata": {},
   "outputs": [
    {
     "name": "stdout",
     "output_type": "stream",
     "text": [
      "0\n"
     ]
    }
   ],
   "source": [
    "out = ((df['tpep_pickup_datetime'] < start)  | (df['tpep_pickup_datetime'] > end)) | ((df['tpep_dropoff_datetime'] < start) |  (df['tpep_dropoff_datetime']  > end))\n",
    "print(out.sum())"
   ]
  },
  {
   "cell_type": "code",
   "execution_count": 29,
   "id": "d6e8e345",
   "metadata": {},
   "outputs": [
    {
     "name": "stdout",
     "output_type": "stream",
     "text": [
      "241732\n"
     ]
    }
   ],
   "source": [
    "print((df['VendorID'] == 4).sum())"
   ]
  },
  {
   "cell_type": "markdown",
   "id": "ec5086b8",
   "metadata": {},
   "source": [
    "even though theres no mention of a 4 for vendorID in the data dictionary I find it highly unlikely that this particular value was entered 250,000 times incorrectly and no other incorrect values were added. As such I will keep the vendorIDs that are 4 because I suspect it constitutes a valid 3rd vendor."
   ]
  },
  {
   "cell_type": "code",
   "execution_count": 30,
   "id": "d3080fb4",
   "metadata": {},
   "outputs": [
    {
     "name": "stdout",
     "output_type": "stream",
     "text": [
      "2121\n"
     ]
    }
   ],
   "source": [
    "print((df['RatecodeID'] == 99).sum())"
   ]
  },
  {
   "cell_type": "code",
   "execution_count": 31,
   "id": "aabe82e2",
   "metadata": {},
   "outputs": [],
   "source": [
    "df['RatecodeID'].replace(99 , 1 , inplace=True)"
   ]
  },
  {
   "cell_type": "code",
   "execution_count": 32,
   "id": "5cdf16c3",
   "metadata": {},
   "outputs": [
    {
     "name": "stdout",
     "output_type": "stream",
     "text": [
      "0\n"
     ]
    }
   ],
   "source": [
    "print((df['RatecodeID'] == 99).sum())"
   ]
  },
  {
   "cell_type": "code",
   "execution_count": 33,
   "id": "b72e6d4d",
   "metadata": {},
   "outputs": [
    {
     "name": "stdout",
     "output_type": "stream",
     "text": [
      "74564716\n"
     ]
    }
   ],
   "source": [
    "print(len(df))"
   ]
  },
  {
   "cell_type": "code",
   "execution_count": 34,
   "id": "cf6a16e6",
   "metadata": {},
   "outputs": [
    {
     "name": "stdout",
     "output_type": "stream",
     "text": [
      "[0.3  0.   0.03]\n"
     ]
    }
   ],
   "source": [
    "print(df['improvement_surcharge'].unique())"
   ]
  },
  {
   "cell_type": "markdown",
   "id": "c230deb3",
   "metadata": {},
   "source": [
    "0.03 is likely a mistake since data dictionary states its a standard 30% tax."
   ]
  },
  {
   "cell_type": "code",
   "execution_count": 35,
   "id": "d1f2d85b",
   "metadata": {},
   "outputs": [
    {
     "name": "stdout",
     "output_type": "stream",
     "text": [
      "5\n"
     ]
    }
   ],
   "source": [
    "print((df['improvement_surcharge'] == 0.03).sum())"
   ]
  },
  {
   "cell_type": "code",
   "execution_count": 36,
   "id": "1b0084d7",
   "metadata": {},
   "outputs": [],
   "source": [
    "df['improvement_surcharge'].replace(0.03 , 0.3 , inplace=True)"
   ]
  },
  {
   "cell_type": "code",
   "execution_count": 37,
   "id": "0f4c99d8",
   "metadata": {},
   "outputs": [
    {
     "name": "stdout",
     "output_type": "stream",
     "text": [
      "0\n"
     ]
    }
   ],
   "source": [
    "print((df['improvement_surcharge'] == 0.03).sum())"
   ]
  },
  {
   "cell_type": "code",
   "execution_count": 38,
   "id": "623ec8f2",
   "metadata": {},
   "outputs": [
    {
     "name": "stdout",
     "output_type": "stream",
     "text": [
      "[2.5  0.   0.75 2.75 2.25 0.5  1.   1.5  3.   4.5 ]\n",
      "[5.000e-01 0.000e+00 3.500e-01 6.080e+01 2.745e+01 3.300e+00 9.300e-01\n",
      " 3.300e-01 1.100e+00 3.080e+01 8.600e-01 1.440e+00 1.539e+01 6.800e+00\n",
      " 2.452e+01 2.240e+00 2.780e+00 5.000e-02 3.800e+00 1.942e+01 2.500e-01\n",
      " 2.750e+00 8.500e-01 8.700e-01 3.200e-01 3.000e+00 3.253e+01 8.900e-01\n",
      " 2.439e+01]\n"
     ]
    }
   ],
   "source": [
    "print(df['congestion_surcharge'].unique())\n",
    "print(df['mta_tax'].unique())"
   ]
  },
  {
   "cell_type": "code",
   "execution_count": 39,
   "id": "e473bb73",
   "metadata": {},
   "outputs": [
    {
     "name": "stdout",
     "output_type": "stream",
     "text": [
      "69569613\n",
      "4992948\n"
     ]
    }
   ],
   "source": [
    "# count number of rows for congestion surcharge being 0 or 2.5\n",
    "\n",
    "print((df['congestion_surcharge'] ==  2.50).sum())\n",
    "print((df['congestion_surcharge'] ==  0).sum())"
   ]
  },
  {
   "cell_type": "code",
   "execution_count": 40,
   "id": "72683f35",
   "metadata": {},
   "outputs": [],
   "source": [
    "mode_congestion_surcharge = df['congestion_surcharge'].mode()[0]\n",
    "\n",
    "# since almost all the values are in one of these categories congestion surchage is likely a standard charge\n",
    "df.loc[~df['congestion_surcharge'].isin([0, 2.50]), 'congestion_surcharge'] = mode_congestion_surcharge"
   ]
  },
  {
   "cell_type": "code",
   "execution_count": 41,
   "id": "9672f9ad",
   "metadata": {},
   "outputs": [],
   "source": [
    "mode_mta_tax = df['mta_tax'].mode()[0]\n",
    "\n",
    "# mta tax is a standard 50 cent charge \n",
    "df.loc[~df['mta_tax'].isin([0, 0.50]), 'mta_tax'] = mode_mta_tax"
   ]
  },
  {
   "cell_type": "code",
   "execution_count": 42,
   "id": "e664d12b",
   "metadata": {},
   "outputs": [
    {
     "data": {
      "text/plain": [
       "{'trip_distance': 6466530,\n",
       " 'fare_amount': 5076973,\n",
       " 'tip_amount': 2247761,\n",
       " 'tolls_amount': 2653029,\n",
       " 'total_amount': 5100167}"
      ]
     },
     "execution_count": 42,
     "metadata": {},
     "output_type": "execute_result"
    }
   ],
   "source": [
    "\n",
    "def detectouts(z):\n",
    "    Q1 = z.quantile(0.25)\n",
    "    Q3 = z.quantile(0.75)\n",
    "    IQR = Q3 - Q1\n",
    "    outliers = ((z < (Q1 - 1.5 * IQR)) | (z > (Q3 + 1.5 * IQR)))\n",
    "    return outliers.sum()\n",
    "\n",
    "outcols1 = ['trip_distance', 'fare_amount', 'tip_amount',  'tolls_amount', 'total_amount']\n",
    "\n",
    "\n",
    "outcounts = {col: detectouts(df[col]) for col in outcols1}\n",
    "\n",
    "outcounts\n"
   ]
  },
  {
   "cell_type": "code",
   "execution_count": 44,
   "id": "ee70fbc8",
   "metadata": {},
   "outputs": [
    {
     "data": {
      "text/html": [
       "<div>\n",
       "<style scoped>\n",
       "    .dataframe tbody tr th:only-of-type {\n",
       "        vertical-align: middle;\n",
       "    }\n",
       "\n",
       "    .dataframe tbody tr th {\n",
       "        vertical-align: top;\n",
       "    }\n",
       "\n",
       "    .dataframe thead th {\n",
       "        text-align: right;\n",
       "    }\n",
       "</style>\n",
       "<table border=\"1\" class=\"dataframe\">\n",
       "  <thead>\n",
       "    <tr style=\"text-align: right;\">\n",
       "      <th></th>\n",
       "      <th>VendorID</th>\n",
       "      <th>tpep_pickup_datetime</th>\n",
       "      <th>tpep_dropoff_datetime</th>\n",
       "      <th>passenger_count</th>\n",
       "      <th>trip_distance</th>\n",
       "      <th>RatecodeID</th>\n",
       "      <th>store_and_fwd_flag</th>\n",
       "      <th>PULocationID</th>\n",
       "      <th>DOLocationID</th>\n",
       "      <th>payment_type</th>\n",
       "      <th>fare_amount</th>\n",
       "      <th>extra</th>\n",
       "      <th>mta_tax</th>\n",
       "      <th>tip_amount</th>\n",
       "      <th>tolls_amount</th>\n",
       "      <th>improvement_surcharge</th>\n",
       "      <th>total_amount</th>\n",
       "      <th>congestion_surcharge</th>\n",
       "    </tr>\n",
       "  </thead>\n",
       "  <tbody>\n",
       "    <tr>\n",
       "      <th>0</th>\n",
       "      <td>2.0</td>\n",
       "      <td>2019-03-30 02:55:16</td>\n",
       "      <td>2019-03-30 03:07:53</td>\n",
       "      <td>1.0</td>\n",
       "      <td>1.57</td>\n",
       "      <td>1.0</td>\n",
       "      <td>N</td>\n",
       "      <td>107</td>\n",
       "      <td>90</td>\n",
       "      <td>1.0</td>\n",
       "      <td>6.5</td>\n",
       "      <td>0.5</td>\n",
       "      <td>0.5</td>\n",
       "      <td>1.70</td>\n",
       "      <td>0.0</td>\n",
       "      <td>0.3</td>\n",
       "      <td>12.00</td>\n",
       "      <td>2.5</td>\n",
       "    </tr>\n",
       "    <tr>\n",
       "      <th>1</th>\n",
       "      <td>2.0</td>\n",
       "      <td>2019-03-30 03:23:54</td>\n",
       "      <td>2019-03-30 03:28:05</td>\n",
       "      <td>1.0</td>\n",
       "      <td>1.10</td>\n",
       "      <td>1.0</td>\n",
       "      <td>N</td>\n",
       "      <td>249</td>\n",
       "      <td>234</td>\n",
       "      <td>1.0</td>\n",
       "      <td>5.5</td>\n",
       "      <td>0.5</td>\n",
       "      <td>0.5</td>\n",
       "      <td>1.50</td>\n",
       "      <td>0.0</td>\n",
       "      <td>0.3</td>\n",
       "      <td>10.80</td>\n",
       "      <td>2.5</td>\n",
       "    </tr>\n",
       "    <tr>\n",
       "      <th>2</th>\n",
       "      <td>1.0</td>\n",
       "      <td>2019-03-30 03:44:03</td>\n",
       "      <td>2019-03-30 03:52:47</td>\n",
       "      <td>1.0</td>\n",
       "      <td>2.00</td>\n",
       "      <td>1.0</td>\n",
       "      <td>N</td>\n",
       "      <td>137</td>\n",
       "      <td>246</td>\n",
       "      <td>1.0</td>\n",
       "      <td>8.5</td>\n",
       "      <td>3.0</td>\n",
       "      <td>0.5</td>\n",
       "      <td>1.00</td>\n",
       "      <td>0.0</td>\n",
       "      <td>0.3</td>\n",
       "      <td>13.30</td>\n",
       "      <td>2.5</td>\n",
       "    </tr>\n",
       "    <tr>\n",
       "      <th>3</th>\n",
       "      <td>2.0</td>\n",
       "      <td>2019-03-30 03:03:05</td>\n",
       "      <td>2019-03-30 03:11:01</td>\n",
       "      <td>1.0</td>\n",
       "      <td>1.76</td>\n",
       "      <td>1.0</td>\n",
       "      <td>N</td>\n",
       "      <td>263</td>\n",
       "      <td>229</td>\n",
       "      <td>1.0</td>\n",
       "      <td>8.5</td>\n",
       "      <td>0.5</td>\n",
       "      <td>0.5</td>\n",
       "      <td>2.46</td>\n",
       "      <td>0.0</td>\n",
       "      <td>0.3</td>\n",
       "      <td>14.76</td>\n",
       "      <td>2.5</td>\n",
       "    </tr>\n",
       "    <tr>\n",
       "      <th>4</th>\n",
       "      <td>2.0</td>\n",
       "      <td>2019-03-30 03:04:36</td>\n",
       "      <td>2019-03-30 03:20:21</td>\n",
       "      <td>1.0</td>\n",
       "      <td>1.89</td>\n",
       "      <td>1.0</td>\n",
       "      <td>N</td>\n",
       "      <td>158</td>\n",
       "      <td>144</td>\n",
       "      <td>1.0</td>\n",
       "      <td>11.5</td>\n",
       "      <td>0.5</td>\n",
       "      <td>0.5</td>\n",
       "      <td>3.06</td>\n",
       "      <td>0.0</td>\n",
       "      <td>0.3</td>\n",
       "      <td>18.36</td>\n",
       "      <td>2.5</td>\n",
       "    </tr>\n",
       "  </tbody>\n",
       "</table>\n",
       "</div>"
      ],
      "text/plain": [
       "   VendorID tpep_pickup_datetime tpep_dropoff_datetime  passenger_count  \\\n",
       "0       2.0  2019-03-30 02:55:16   2019-03-30 03:07:53              1.0   \n",
       "1       2.0  2019-03-30 03:23:54   2019-03-30 03:28:05              1.0   \n",
       "2       1.0  2019-03-30 03:44:03   2019-03-30 03:52:47              1.0   \n",
       "3       2.0  2019-03-30 03:03:05   2019-03-30 03:11:01              1.0   \n",
       "4       2.0  2019-03-30 03:04:36   2019-03-30 03:20:21              1.0   \n",
       "\n",
       "   trip_distance  RatecodeID store_and_fwd_flag  PULocationID  DOLocationID  \\\n",
       "0           1.57         1.0                  N           107            90   \n",
       "1           1.10         1.0                  N           249           234   \n",
       "2           2.00         1.0                  N           137           246   \n",
       "3           1.76         1.0                  N           263           229   \n",
       "4           1.89         1.0                  N           158           144   \n",
       "\n",
       "   payment_type  fare_amount  extra  mta_tax  tip_amount  tolls_amount  \\\n",
       "0           1.0          6.5    0.5      0.5        1.70           0.0   \n",
       "1           1.0          5.5    0.5      0.5        1.50           0.0   \n",
       "2           1.0          8.5    3.0      0.5        1.00           0.0   \n",
       "3           1.0          8.5    0.5      0.5        2.46           0.0   \n",
       "4           1.0         11.5    0.5      0.5        3.06           0.0   \n",
       "\n",
       "   improvement_surcharge  total_amount  congestion_surcharge  \n",
       "0                    0.3         12.00                   2.5  \n",
       "1                    0.3         10.80                   2.5  \n",
       "2                    0.3         13.30                   2.5  \n",
       "3                    0.3         14.76                   2.5  \n",
       "4                    0.3         18.36                   2.5  "
      ]
     },
     "execution_count": 44,
     "metadata": {},
     "output_type": "execute_result"
    }
   ],
   "source": [
    "def cappy(df, w):\n",
    "    \n",
    "    \n",
    "    Q1 = df[w].quantile(0.25)\n",
    "    Q3 = df[w].quantile(0.75)\n",
    "    \n",
    "    #subtract the 2 \n",
    "    IQR = Q3 - Q1\n",
    "    \n",
    "    \n",
    "    lower_bound = Q1 - 1.5 * IQR\n",
    "    upper_bound = Q3 + 1.5 * IQR\n",
    "\n",
    "\n",
    "    df[w] = df[w].clip(lower=lower_bound, upper=upper_bound)\n",
    "\n",
    "    return df\n",
    "\n",
    "outcols = ['trip_distance',   'fare_amount', 'tip_amount',   'tolls_amount', 'total_amount']\n",
    "\n",
    "for col in outcols:\n",
    "    \n",
    "    \n",
    "    df =  cappy(df, col)\n",
    "\n",
    "df.head()\n",
    "\n",
    "\n"
   ]
  },
  {
   "cell_type": "code",
   "execution_count": 45,
   "id": "66e68fca",
   "metadata": {},
   "outputs": [
    {
     "name": "stdout",
     "output_type": "stream",
     "text": [
      "13242\n"
     ]
    }
   ],
   "source": [
    "print(df.duplicated().sum())"
   ]
  },
  {
   "cell_type": "code",
   "execution_count": 46,
   "id": "6e83e0fe",
   "metadata": {},
   "outputs": [
    {
     "name": "stdout",
     "output_type": "stream",
     "text": [
      "74564716\n"
     ]
    }
   ],
   "source": [
    "print(len(df))"
   ]
  },
  {
   "cell_type": "code",
   "execution_count": 47,
   "id": "1cb0659c",
   "metadata": {},
   "outputs": [],
   "source": [
    "df.drop_duplicates(inplace=True)"
   ]
  },
  {
   "cell_type": "code",
   "execution_count": 48,
   "id": "e3f53bb8",
   "metadata": {},
   "outputs": [
    {
     "name": "stdout",
     "output_type": "stream",
     "text": [
      "74551474\n"
     ]
    }
   ],
   "source": [
    "print(len(df))"
   ]
  },
  {
   "cell_type": "code",
   "execution_count": 49,
   "id": "a8204631",
   "metadata": {},
   "outputs": [],
   "source": [
    "df.to_csv(r'C:\\Users\\krmch\\OneDrive\\Desktop\\25manhattenyellowtaxis.csv' ,  index=False)"
   ]
  },
  {
   "cell_type": "code",
   "execution_count": null,
   "id": "c677f6ae",
   "metadata": {},
   "outputs": [],
   "source": []
  }
 ],
 "metadata": {
  "kernelspec": {
   "display_name": "Python 3 (ipykernel)",
   "language": "python",
   "name": "python3"
  },
  "language_info": {
   "codemirror_mode": {
    "name": "ipython",
    "version": 3
   },
   "file_extension": ".py",
   "mimetype": "text/x-python",
   "name": "python",
   "nbconvert_exporter": "python",
   "pygments_lexer": "ipython3",
   "version": "3.10.9"
  }
 },
 "nbformat": 4,
 "nbformat_minor": 5
}
