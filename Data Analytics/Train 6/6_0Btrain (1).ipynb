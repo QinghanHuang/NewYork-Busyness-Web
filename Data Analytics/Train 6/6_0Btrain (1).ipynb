{
  "nbformat": 4,
  "nbformat_minor": 0,
  "metadata": {
    "colab": {
      "provenance": [],
      "machine_shape": "hm"
    },
    "kernelspec": {
      "name": "python3",
      "display_name": "Python 3"
    },
    "language_info": {
      "name": "python"
    }
  },
  "cells": [
    {
      "cell_type": "code",
      "execution_count": 1,
      "metadata": {
        "colab": {
          "base_uri": "https://localhost:8080/"
        },
        "id": "4Aq1L9BorA9d",
        "outputId": "c1347a5a-032b-4a54-9799-4ed39a62a8b0"
      },
      "outputs": [
        {
          "output_type": "stream",
          "name": "stdout",
          "text": [
            "Collecting sklearn2pmml\n",
            "  Downloading sklearn2pmml-0.96.0.tar.gz (7.0 MB)\n",
            "\u001b[2K     \u001b[90m━━━━━━━━━━━━━━━━━━━━━━━━━━━━━━━━━━━━━━━━\u001b[0m \u001b[32m7.0/7.0 MB\u001b[0m \u001b[31m10.6 MB/s\u001b[0m eta \u001b[36m0:00:00\u001b[0m\n",
            "\u001b[?25h  Preparing metadata (setup.py) ... \u001b[?25l\u001b[?25hdone\n",
            "Collecting dill>=0.3.4 (from sklearn2pmml)\n",
            "  Downloading dill-0.3.7-py3-none-any.whl (115 kB)\n",
            "\u001b[2K     \u001b[90m━━━━━━━━━━━━━━━━━━━━━━━━━━━━━━━━━━━━━━\u001b[0m \u001b[32m115.3/115.3 kB\u001b[0m \u001b[31m12.1 MB/s\u001b[0m eta \u001b[36m0:00:00\u001b[0m\n",
            "\u001b[?25hRequirement already satisfied: joblib>=0.13.0 in /usr/local/lib/python3.10/dist-packages (from sklearn2pmml) (1.3.1)\n",
            "Requirement already satisfied: scikit-learn>=0.18.0 in /usr/local/lib/python3.10/dist-packages (from sklearn2pmml) (1.2.2)\n",
            "Requirement already satisfied: sklearn-pandas>=0.0.10 in /usr/local/lib/python3.10/dist-packages (from sklearn2pmml) (2.2.0)\n",
            "Requirement already satisfied: numpy>=1.17.3 in /usr/local/lib/python3.10/dist-packages (from scikit-learn>=0.18.0->sklearn2pmml) (1.22.4)\n",
            "Requirement already satisfied: scipy>=1.3.2 in /usr/local/lib/python3.10/dist-packages (from scikit-learn>=0.18.0->sklearn2pmml) (1.10.1)\n",
            "Requirement already satisfied: threadpoolctl>=2.0.0 in /usr/local/lib/python3.10/dist-packages (from scikit-learn>=0.18.0->sklearn2pmml) (3.2.0)\n",
            "Requirement already satisfied: pandas>=1.1.4 in /usr/local/lib/python3.10/dist-packages (from sklearn-pandas>=0.0.10->sklearn2pmml) (1.5.3)\n",
            "Requirement already satisfied: python-dateutil>=2.8.1 in /usr/local/lib/python3.10/dist-packages (from pandas>=1.1.4->sklearn-pandas>=0.0.10->sklearn2pmml) (2.8.2)\n",
            "Requirement already satisfied: pytz>=2020.1 in /usr/local/lib/python3.10/dist-packages (from pandas>=1.1.4->sklearn-pandas>=0.0.10->sklearn2pmml) (2022.7.1)\n",
            "Requirement already satisfied: six>=1.5 in /usr/local/lib/python3.10/dist-packages (from python-dateutil>=2.8.1->pandas>=1.1.4->sklearn-pandas>=0.0.10->sklearn2pmml) (1.16.0)\n",
            "Building wheels for collected packages: sklearn2pmml\n",
            "  Building wheel for sklearn2pmml (setup.py) ... \u001b[?25l\u001b[?25hdone\n",
            "  Created wheel for sklearn2pmml: filename=sklearn2pmml-0.96.0-py3-none-any.whl size=7011434 sha256=ff91128e69d4c210d77bef29e49e0e6b55d3470d606461d4cdf39dc840eea7bf\n",
            "  Stored in directory: /root/.cache/pip/wheels/19/59/3e/fd83bd2afab7b665089b82babf3c7c1c04950d53135f92257c\n",
            "Successfully built sklearn2pmml\n",
            "Installing collected packages: dill, sklearn2pmml\n",
            "Successfully installed dill-0.3.7 sklearn2pmml-0.96.0\n",
            "Mounted at /content/drive\n",
            "   DOLocationID  dropoff_hour  DOLocation_area  DOLocation_perimeter  \\\n",
            "0           140            13         0.000114              0.047584   \n",
            "1           243            13         0.000438              0.094331   \n",
            "2            41            14         0.000143              0.052793   \n",
            "3            48            14         0.000094              0.043747   \n",
            "4            68            14         0.000111              0.049337   \n",
            "\n",
            "   dropoff_day_of_week  dropoff_day_of_month  dropoff_month  busyness  \n",
            "0                    0                    31             12         1  \n",
            "1                    0                    31             12         1  \n",
            "2                    0                    31             12         1  \n",
            "3                    0                    31             12         1  \n",
            "4                    0                    31             12         1  \n"
          ]
        }
      ],
      "source": [
        "!pip install sklearn2pmml\n",
        "\n",
        "import pandas as panda\n",
        "\n",
        "from sklearn import metrics\n",
        "from sklearn.model_selection import train_test_split\n",
        "\n",
        "\n",
        "\n",
        "\n",
        "from google.colab import drive\n",
        "drive.mount('/content/drive')\n",
        "\n",
        "df = panda.read_csv('/content/drive/MyDrive/feature_complete6.0manhattenyellowtaxis.csv')\n",
        "\n",
        "\n",
        "\n",
        "print(df.head())\n",
        "\n",
        "\n",
        "\n",
        "\n",
        "\n",
        "\n",
        "\n"
      ]
    },
    {
      "cell_type": "code",
      "source": [
        "#make the features into more efficient datatypes\n",
        "\n",
        "df['DOLocationID'] =  df['DOLocationID'].astype('uint16')\n",
        "df['dropoff_hour'] =   df['dropoff_hour'].astype('uint8')\n",
        "\n",
        "df['dropoff_day_of_week'] =   df['dropoff_day_of_week'].astype('uint8')\n",
        "df['dropoff_day_of_month'] =   df['dropoff_day_of_month'].astype('uint8')\n",
        "\n",
        "\n",
        "df['dropoff_month'] =  df['dropoff_month'].astype('uint8')\n",
        "df['busyness'] =  df['busyness'].astype('uint8')\n"
      ],
      "metadata": {
        "id": "kdgvNF2j18Z6"
      },
      "execution_count": 2,
      "outputs": []
    },
    {
      "cell_type": "code",
      "source": [
        "!pip install nyoka\n"
      ],
      "metadata": {
        "colab": {
          "base_uri": "https://localhost:8080/"
        },
        "id": "bsye5J_J66bD",
        "outputId": "1f8a9390-ae79-42df-d4e2-28d7d0f46c88"
      },
      "execution_count": 3,
      "outputs": [
        {
          "output_type": "stream",
          "name": "stdout",
          "text": [
            "Collecting nyoka\n",
            "  Downloading nyoka-5.5.0-py3-none-any.whl (303 kB)\n",
            "\u001b[2K     \u001b[90m━━━━━━━━━━━━━━━━━━━━━━━━━━━━━━━━━━━━━━━\u001b[0m \u001b[32m304.0/304.0 kB\u001b[0m \u001b[31m3.4 MB/s\u001b[0m eta \u001b[36m0:00:00\u001b[0m\n",
            "\u001b[?25hRequirement already satisfied: lxml in /usr/local/lib/python3.10/dist-packages (from nyoka) (4.9.3)\n",
            "Installing collected packages: nyoka\n",
            "Successfully installed nyoka-5.5.0\n"
          ]
        }
      ]
    },
    {
      "cell_type": "code",
      "source": [
        "from nyoka import skl_to_pmml"
      ],
      "metadata": {
        "id": "kBAtyx0O7q10"
      },
      "execution_count": 4,
      "outputs": []
    },
    {
      "cell_type": "code",
      "source": [
        "from sklearn.ensemble import RandomForestClassifier\n",
        "from sklearn.preprocessing import StandardScaler\n",
        "from sklearn.pipeline import Pipeline\n",
        "\n",
        "\n",
        "\n",
        "\n",
        "training_size = int(0.8 *   len(df))\n",
        "\n",
        "\n",
        "training_df = df.iloc[:training_size]\n",
        "\n",
        "\n",
        "testing_df =  df.iloc[training_size:]\n",
        "\n",
        "X_training =   training_df.drop('busyness',   axis=1)\n",
        "\n",
        "\n",
        "y_training =   training_df['busyness']\n",
        "\n",
        "X_testing =   testing_df.drop('busyness',   axis=1)\n",
        "y_testing =  testing_df['busyness']\n",
        "\n",
        "pipeline =   Pipeline([\n",
        "    ('classifier',   RandomForestClassifier(n_estimators=15,   max_depth=10,  random_state=40))\n",
        "])\n",
        "\n",
        "pipeline.fit(X_training, y_training)\n",
        "\n",
        "\n",
        "y_pred = pipeline.predict(X_testing)\n",
        "\n",
        "# make the metrics for the model\n",
        "accuracy = metrics.accuracy_score(y_testing , y_pred)\n",
        "f1=    metrics.f1_score(y_testing , y_pred, average='macro')\n",
        "\n",
        "\n",
        "recall = metrics.recall_score(y_testing , y_pred, average='macro')\n",
        "precision = metrics.precision_score(y_testing , y_pred, average='macro')\n",
        "\n",
        "# print the metrics for the model..\n",
        "print(\"Accuracy:\",   accuracy)\n",
        "print(\"F1 score:\",    f1)\n",
        "print(\"Recall:\",    recall)\n",
        "print(\"Precision:\",  precision)\n",
        "\n",
        "\n",
        "\n",
        "\n"
      ],
      "metadata": {
        "id": "auk00kFKrT9V",
        "colab": {
          "base_uri": "https://localhost:8080/"
        },
        "outputId": "bb5ef7a1-7704-43c3-b5ae-1db66a550844"
      },
      "execution_count": 5,
      "outputs": [
        {
          "output_type": "stream",
          "name": "stdout",
          "text": [
            "Accuracy: 0.7391645332275628\n",
            "F1 score: 0.7336668365479697\n",
            "Recall: 0.737764784316713\n",
            "Precision: 0.7380010873195806\n"
          ]
        }
      ]
    },
    {
      "cell_type": "code",
      "source": [
        "from sklearn2pmml  import make_pmml_pipeline,  sklearn2pmml\n",
        "\n",
        "\n",
        "\n",
        "\n",
        "\n",
        "from nyoka import skl_to_pmml\n",
        "\n",
        "\n",
        "\n",
        "cols   =  X_training.columns.tolist()\n",
        "targ = 'busyness'\n",
        "\n",
        "\n",
        "file2 =   \"/content/drive/MyDrive/model6.012B.pmml\"\n",
        "skl_to_pmml(pipeline,  col_names=cols, target_name=targ,   pmml_f_name=file2)"
      ],
      "metadata": {
        "id": "xYD89XSY9tad"
      },
      "execution_count": 6,
      "outputs": []
    },
    {
      "cell_type": "code",
      "source": [],
      "metadata": {
        "id": "Yg6-mgVi8d4f"
      },
      "execution_count": 6,
      "outputs": []
    },
    {
      "cell_type": "code",
      "source": [
        "\n",
        "\n",
        "\n"
      ],
      "metadata": {
        "id": "Q_vLlxhrrUAT"
      },
      "execution_count": 6,
      "outputs": []
    },
    {
      "cell_type": "code",
      "source": [
        "\n"
      ],
      "metadata": {
        "id": "8zlG8Ob5y3ez"
      },
      "execution_count": 6,
      "outputs": []
    }
  ]
}