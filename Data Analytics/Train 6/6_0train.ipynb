{
  "nbformat": 4,
  "nbformat_minor": 0,
  "metadata": {
    "colab": {
      "provenance": [],
      "machine_shape": "hm"
    },
    "kernelspec": {
      "name": "python3",
      "display_name": "Python 3"
    },
    "language_info": {
      "name": "python"
    }
  },
  "cells": [
    {
      "cell_type": "code",
      "execution_count": 1,
      "metadata": {
        "colab": {
          "base_uri": "https://localhost:8080/"
        },
        "id": "4Aq1L9BorA9d",
        "outputId": "10942d33-4f6f-4d3c-a317-52864721aed1"
      },
      "outputs": [
        {
          "output_type": "stream",
          "name": "stdout",
          "text": [
            "Drive already mounted at /content/drive; to attempt to forcibly remount, call drive.mount(\"/content/drive\", force_remount=True).\n",
            "   DOLocationID  dropoff_hour  DOLocation_area  DOLocation_perimeter  \\\n",
            "0           140            13         0.000114              0.047584   \n",
            "1           243            13         0.000438              0.094331   \n",
            "2            41            14         0.000143              0.052793   \n",
            "3            48            14         0.000094              0.043747   \n",
            "4            68            14         0.000111              0.049337   \n",
            "\n",
            "   dropoff_day_of_week  dropoff_day_of_month  dropoff_month  busyness  \n",
            "0                    0                    31             12         1  \n",
            "1                    0                    31             12         1  \n",
            "2                    0                    31             12         1  \n",
            "3                    0                    31             12         1  \n",
            "4                    0                    31             12         1  \n"
          ]
        }
      ],
      "source": [
        "import pandas as panda\n",
        "\n",
        "from sklearn import metrics\n",
        "from sklearn.model_selection import train_test_split\n",
        "\n",
        "\n",
        "\n",
        "\n",
        "from google.colab import drive\n",
        "drive.mount('/content/drive')\n",
        "\n",
        "df = panda.read_csv('/content/drive/MyDrive/feature_complete6.0manhattenyellowtaxis.csv')\n",
        "\n",
        "\n",
        "\n",
        "print(df.head())\n",
        "\n",
        "\n",
        "\n",
        "\n",
        "\n"
      ]
    },
    {
      "cell_type": "code",
      "source": [
        "#make the features into more efficient datatypes\n",
        "\n",
        "df['DOLocationID'] =  df['DOLocationID'].astype('uint16')\n",
        "df['dropoff_hour'] =   df['dropoff_hour'].astype('uint8')\n",
        "\n",
        "df['dropoff_day_of_week'] =   df['dropoff_day_of_week'].astype('uint8')\n",
        "df['dropoff_day_of_month'] =   df['dropoff_day_of_month'].astype('uint8')\n",
        "\n",
        "\n",
        "df['dropoff_month'] =  df['dropoff_month'].astype('uint8')\n",
        "df['busyness'] =  df['busyness'].astype('uint8')\n"
      ],
      "metadata": {
        "id": "kdgvNF2j18Z6"
      },
      "execution_count": 2,
      "outputs": []
    },
    {
      "cell_type": "code",
      "source": [
        "!pip install nyoka\n"
      ],
      "metadata": {
        "colab": {
          "base_uri": "https://localhost:8080/"
        },
        "id": "bsye5J_J66bD",
        "outputId": "a31d8b3b-9076-4b45-dc1e-8a2327865486"
      },
      "execution_count": 3,
      "outputs": [
        {
          "output_type": "stream",
          "name": "stdout",
          "text": [
            "Requirement already satisfied: nyoka in /usr/local/lib/python3.10/dist-packages (5.4.0)\n",
            "Requirement already satisfied: lxml in /usr/local/lib/python3.10/dist-packages (from nyoka) (4.9.3)\n"
          ]
        }
      ]
    },
    {
      "cell_type": "code",
      "source": [
        "from nyoka import skl_to_pmml"
      ],
      "metadata": {
        "id": "kBAtyx0O7q10"
      },
      "execution_count": 4,
      "outputs": []
    },
    {
      "cell_type": "code",
      "source": [
        "import numpy as nump\n",
        "from sklearn.ensemble import RandomForestClassifier\n",
        "\n",
        "\n",
        "\n",
        "training_size =  int(0.8 * len(df))\n",
        "\n",
        "training_df =   df.iloc[:training_size]\n",
        "\n",
        "testing_df =  df.iloc[training_size:]\n",
        "\n",
        "\n",
        "\n",
        "\n",
        "\n",
        "\n",
        "\n",
        "X_training = training_df.drop('busyness',  axis=1)\n",
        "y_training = training_df['busyness']\n",
        "\n",
        "X_testing = testing_df.drop('busyness',  axis=1)\n",
        "y_testing = testing_df['busyness']\n",
        "\n",
        "\n",
        "\n",
        "\n",
        "\n",
        "\n",
        "\n",
        "\n",
        "model = RandomForestClassifier(n_estimators=1, random_state=40)\n",
        "\n",
        "model.fit(X_training, y_training)\n",
        "\n",
        "\n",
        "\n",
        "\n",
        "y_predict = model.predict(X_testing)\n",
        "\n",
        "\n",
        "# make metrics\n",
        "accuracy =  metrics.accuracy_score(y_testing, y_predict)\n",
        "\n",
        "f1_score =    metrics.f1_score(y_testing, y_predict, average='macro')\n",
        "recall =   metrics.recall_score(y_testing, y_predict, average='macro')\n",
        "precision =   metrics.precision_score(y_testing, y_predict, average='macro')\n",
        "\n",
        "\n",
        "\n",
        "# print the metrics\n",
        "print(\"accuracy:\",  accuracy)\n",
        "print(\"f1:\",   f1_score)\n",
        "print(\"recall:\",   recall)\n",
        "print(\"pecision:\",   precision)\n",
        "\n",
        "\n"
      ],
      "metadata": {
        "id": "auk00kFKrT9V",
        "colab": {
          "base_uri": "https://localhost:8080/"
        },
        "outputId": "baaa13ab-bb16-42bb-e582-9ca4776b7e6d"
      },
      "execution_count": 5,
      "outputs": [
        {
          "output_type": "stream",
          "name": "stdout",
          "text": [
            "accuracy: 0.7555529513575885\n",
            "f1: 0.7541171350829725\n",
            "recall: 0.7544918840557091\n",
            "pecision: 0.7561608186631122\n"
          ]
        }
      ]
    },
    {
      "cell_type": "code",
      "source": [
        "from sklearn.preprocessing import StandardScaler\n",
        "from sklearn.pipeline import Pipeline\n",
        "\n",
        "\n",
        "s =  StandardScaler()\n",
        "\n",
        "pipe = Pipeline(steps=[('scaler', s),\n",
        "                       ('model', model)])\n",
        "\n",
        "\n",
        "pipe.fit(X_training, y_training)"
      ],
      "metadata": {
        "colab": {
          "base_uri": "https://localhost:8080/",
          "height": 124
        },
        "id": "xYD89XSY9tad",
        "outputId": "c70d2a52-14b5-4b79-9408-55aca6d4250e"
      },
      "execution_count": 6,
      "outputs": [
        {
          "output_type": "execute_result",
          "data": {
            "text/plain": [
              "Pipeline(steps=[('scaler', StandardScaler()),\n",
              "                ('model',\n",
              "                 RandomForestClassifier(n_estimators=1, random_state=40))])"
            ],
            "text/html": [
              "<style>#sk-container-id-1 {color: black;background-color: white;}#sk-container-id-1 pre{padding: 0;}#sk-container-id-1 div.sk-toggleable {background-color: white;}#sk-container-id-1 label.sk-toggleable__label {cursor: pointer;display: block;width: 100%;margin-bottom: 0;padding: 0.3em;box-sizing: border-box;text-align: center;}#sk-container-id-1 label.sk-toggleable__label-arrow:before {content: \"▸\";float: left;margin-right: 0.25em;color: #696969;}#sk-container-id-1 label.sk-toggleable__label-arrow:hover:before {color: black;}#sk-container-id-1 div.sk-estimator:hover label.sk-toggleable__label-arrow:before {color: black;}#sk-container-id-1 div.sk-toggleable__content {max-height: 0;max-width: 0;overflow: hidden;text-align: left;background-color: #f0f8ff;}#sk-container-id-1 div.sk-toggleable__content pre {margin: 0.2em;color: black;border-radius: 0.25em;background-color: #f0f8ff;}#sk-container-id-1 input.sk-toggleable__control:checked~div.sk-toggleable__content {max-height: 200px;max-width: 100%;overflow: auto;}#sk-container-id-1 input.sk-toggleable__control:checked~label.sk-toggleable__label-arrow:before {content: \"▾\";}#sk-container-id-1 div.sk-estimator input.sk-toggleable__control:checked~label.sk-toggleable__label {background-color: #d4ebff;}#sk-container-id-1 div.sk-label input.sk-toggleable__control:checked~label.sk-toggleable__label {background-color: #d4ebff;}#sk-container-id-1 input.sk-hidden--visually {border: 0;clip: rect(1px 1px 1px 1px);clip: rect(1px, 1px, 1px, 1px);height: 1px;margin: -1px;overflow: hidden;padding: 0;position: absolute;width: 1px;}#sk-container-id-1 div.sk-estimator {font-family: monospace;background-color: #f0f8ff;border: 1px dotted black;border-radius: 0.25em;box-sizing: border-box;margin-bottom: 0.5em;}#sk-container-id-1 div.sk-estimator:hover {background-color: #d4ebff;}#sk-container-id-1 div.sk-parallel-item::after {content: \"\";width: 100%;border-bottom: 1px solid gray;flex-grow: 1;}#sk-container-id-1 div.sk-label:hover label.sk-toggleable__label {background-color: #d4ebff;}#sk-container-id-1 div.sk-serial::before {content: \"\";position: absolute;border-left: 1px solid gray;box-sizing: border-box;top: 0;bottom: 0;left: 50%;z-index: 0;}#sk-container-id-1 div.sk-serial {display: flex;flex-direction: column;align-items: center;background-color: white;padding-right: 0.2em;padding-left: 0.2em;position: relative;}#sk-container-id-1 div.sk-item {position: relative;z-index: 1;}#sk-container-id-1 div.sk-parallel {display: flex;align-items: stretch;justify-content: center;background-color: white;position: relative;}#sk-container-id-1 div.sk-item::before, #sk-container-id-1 div.sk-parallel-item::before {content: \"\";position: absolute;border-left: 1px solid gray;box-sizing: border-box;top: 0;bottom: 0;left: 50%;z-index: -1;}#sk-container-id-1 div.sk-parallel-item {display: flex;flex-direction: column;z-index: 1;position: relative;background-color: white;}#sk-container-id-1 div.sk-parallel-item:first-child::after {align-self: flex-end;width: 50%;}#sk-container-id-1 div.sk-parallel-item:last-child::after {align-self: flex-start;width: 50%;}#sk-container-id-1 div.sk-parallel-item:only-child::after {width: 0;}#sk-container-id-1 div.sk-dashed-wrapped {border: 1px dashed gray;margin: 0 0.4em 0.5em 0.4em;box-sizing: border-box;padding-bottom: 0.4em;background-color: white;}#sk-container-id-1 div.sk-label label {font-family: monospace;font-weight: bold;display: inline-block;line-height: 1.2em;}#sk-container-id-1 div.sk-label-container {text-align: center;}#sk-container-id-1 div.sk-container {/* jupyter's `normalize.less` sets `[hidden] { display: none; }` but bootstrap.min.css set `[hidden] { display: none !important; }` so we also need the `!important` here to be able to override the default hidden behavior on the sphinx rendered scikit-learn.org. See: https://github.com/scikit-learn/scikit-learn/issues/21755 */display: inline-block !important;position: relative;}#sk-container-id-1 div.sk-text-repr-fallback {display: none;}</style><div id=\"sk-container-id-1\" class=\"sk-top-container\"><div class=\"sk-text-repr-fallback\"><pre>Pipeline(steps=[(&#x27;scaler&#x27;, StandardScaler()),\n",
              "                (&#x27;model&#x27;,\n",
              "                 RandomForestClassifier(n_estimators=1, random_state=40))])</pre><b>In a Jupyter environment, please rerun this cell to show the HTML representation or trust the notebook. <br />On GitHub, the HTML representation is unable to render, please try loading this page with nbviewer.org.</b></div><div class=\"sk-container\" hidden><div class=\"sk-item sk-dashed-wrapped\"><div class=\"sk-label-container\"><div class=\"sk-label sk-toggleable\"><input class=\"sk-toggleable__control sk-hidden--visually\" id=\"sk-estimator-id-1\" type=\"checkbox\" ><label for=\"sk-estimator-id-1\" class=\"sk-toggleable__label sk-toggleable__label-arrow\">Pipeline</label><div class=\"sk-toggleable__content\"><pre>Pipeline(steps=[(&#x27;scaler&#x27;, StandardScaler()),\n",
              "                (&#x27;model&#x27;,\n",
              "                 RandomForestClassifier(n_estimators=1, random_state=40))])</pre></div></div></div><div class=\"sk-serial\"><div class=\"sk-item\"><div class=\"sk-estimator sk-toggleable\"><input class=\"sk-toggleable__control sk-hidden--visually\" id=\"sk-estimator-id-2\" type=\"checkbox\" ><label for=\"sk-estimator-id-2\" class=\"sk-toggleable__label sk-toggleable__label-arrow\">StandardScaler</label><div class=\"sk-toggleable__content\"><pre>StandardScaler()</pre></div></div></div><div class=\"sk-item\"><div class=\"sk-estimator sk-toggleable\"><input class=\"sk-toggleable__control sk-hidden--visually\" id=\"sk-estimator-id-3\" type=\"checkbox\" ><label for=\"sk-estimator-id-3\" class=\"sk-toggleable__label sk-toggleable__label-arrow\">RandomForestClassifier</label><div class=\"sk-toggleable__content\"><pre>RandomForestClassifier(n_estimators=1, random_state=40)</pre></div></div></div></div></div></div></div>"
            ]
          },
          "metadata": {},
          "execution_count": 6
        }
      ]
    },
    {
      "cell_type": "code",
      "source": [
        "path_pmml =  \"/content/drive/MyDrive/model6.91.pmml\"\n",
        "\n",
        "skl_to_pmml(pipeline=pipe,  col_names=X_training.columns.tolist(),  target_name='busyness',  pmml_f_name=path_pmml)"
      ],
      "metadata": {
        "id": "Yg6-mgVi8d4f"
      },
      "execution_count": 7,
      "outputs": []
    },
    {
      "cell_type": "code",
      "source": [
        "import pickle\n",
        "\n",
        "\n",
        "\n",
        "with open('/content/drive/My Drive/t6.91random_forest_model.pkl', 'wb') as file:\n",
        "    pickle.dump(model, file)\n",
        "\n",
        "\n",
        "\n",
        "\n"
      ],
      "metadata": {
        "id": "Q_vLlxhrrUAT"
      },
      "execution_count": 8,
      "outputs": []
    },
    {
      "cell_type": "code",
      "source": [
        "i = model.feature_importances_\n",
        "\n",
        "\n",
        "\n",
        "how_important_df = panda.DataFrame({\n",
        "    'Feature': X_training.columns,\n",
        "    'Importance': i\n",
        "})\n",
        "\n",
        "\n",
        "how_important_df.sort_values('Importance', ascending=False, inplace=True)\n",
        "\n",
        "\n",
        "how_important_df.to_csv('/content/drive/My Drive/t6.91feature_importances.csv',  index=False)\n"
      ],
      "metadata": {
        "id": "8zlG8Ob5y3ez"
      },
      "execution_count": 9,
      "outputs": []
    }
  ]
}