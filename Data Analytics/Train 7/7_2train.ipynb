{
  "cells": [
    {
      "cell_type": "code",
      "execution_count": 1,
      "metadata": {
        "colab": {
          "base_uri": "https://localhost:8080/"
        },
        "id": "4Aq1L9BorA9d",
        "outputId": "1a6a260c-52c5-4cc0-efdf-daf86039b200"
      },
      "outputs": [
        {
          "output_type": "stream",
          "name": "stdout",
          "text": [
            "Mounted at /content/drive\n",
            "   trip_distance  fare_amount  total_amount  extra  tip_amount  \\\n",
            "0           3.15         15.0     19.560000    0.5    3.260000   \n",
            "1           0.83          5.5      6.800000    0.5    0.000000   \n",
            "2           1.00          5.0      6.300000    0.5    0.000000   \n",
            "3           2.32         11.0     12.786667    0.5    0.486667   \n",
            "4           1.46          7.5     11.440000    0.5    2.640000   \n",
            "\n",
            "   congestion_surcharge  ride_duration  average_speed  DOLocation_area  \\\n",
            "0                     1      21.150000       8.936170         0.000114   \n",
            "1                     1       5.550000       8.972973         0.000438   \n",
            "2                     1       3.816667      15.720524         0.000143   \n",
            "3                     1      13.788889       9.586343         0.000094   \n",
            "4                     1       7.850000      11.159236         0.000111   \n",
            "\n",
            "   DOLocation_perimeter  ...  dropoff_month_3  dropoff_month_4  \\\n",
            "0              0.047584  ...                0                0   \n",
            "1              0.094331  ...                0                0   \n",
            "2              0.052793  ...                0                0   \n",
            "3              0.043747  ...                0                0   \n",
            "4              0.049337  ...                0                0   \n",
            "\n",
            "   dropoff_month_5  dropoff_month_6  dropoff_month_7  dropoff_month_8  \\\n",
            "0                0                0                0                0   \n",
            "1                0                0                0                0   \n",
            "2                0                0                0                0   \n",
            "3                0                0                0                0   \n",
            "4                0                0                0                0   \n",
            "\n",
            "   dropoff_month_9  dropoff_month_10  dropoff_month_11  dropoff_month_12  \n",
            "0                0                 0                 0                 1  \n",
            "1                0                 0                 0                 1  \n",
            "2                0                 0                 0                 1  \n",
            "3                0                 0                 0                 1  \n",
            "4                0                 0                 0                 1  \n",
            "\n",
            "[5 rows x 164 columns]\n"
          ]
        }
      ],
      "source": [
        "import pandas as panda\n",
        "\n",
        "from sklearn import metrics\n",
        "from sklearn.model_selection import train_test_split\n",
        "\n",
        "\n",
        "\n",
        "\n",
        "from google.colab import drive\n",
        "drive.mount('/content/drive')\n",
        "\n",
        "df = panda.read_csv('/content/drive/MyDrive/feature_complete1.3manhattenyellowtaxis.csv')\n",
        "\n",
        "\n",
        "\n",
        "print(df.head())\n",
        "\n",
        "\n",
        "\n",
        "\n",
        "\n"
      ]
    },
    {
      "cell_type": "code",
      "execution_count": 2,
      "metadata": {
        "colab": {
          "base_uri": "https://localhost:8080/"
        },
        "id": "auk00kFKrT9V",
        "outputId": "c11413d9-e48d-4e4b-fadc-68833927a196"
      },
      "outputs": [
        {
          "output_type": "stream",
          "name": "stderr",
          "text": [
            "/usr/local/lib/python3.10/dist-packages/sklearn/linear_model/_logistic.py:458: ConvergenceWarning: lbfgs failed to converge (status=1):\n",
            "STOP: TOTAL NO. of ITERATIONS REACHED LIMIT.\n",
            "\n",
            "Increase the number of iterations (max_iter) or scale the data as shown in:\n",
            "    https://scikit-learn.org/stable/modules/preprocessing.html\n",
            "Please also refer to the documentation for alternative solver options:\n",
            "    https://scikit-learn.org/stable/modules/linear_model.html#logistic-regression\n",
            "  n_iter_i = _check_optimize_result(\n"
          ]
        },
        {
          "output_type": "stream",
          "name": "stdout",
          "text": [
            "accuracy: 0.7188367648649623\n",
            "f1: 0.7080058040785036\n",
            "recall: 0.7178851575938421\n",
            "pecision: 0.7178014113101803\n"
          ]
        }
      ],
      "source": [
        "import numpy as nump\n",
        "from sklearn.linear_model import LogisticRegression\n",
        "\n",
        "\n",
        "\n",
        "training_size =  int(0.8 * len(df))\n",
        "\n",
        "training_df =   df.iloc[:training_size]\n",
        "\n",
        "testing_df =  df.iloc[training_size:]\n",
        "\n",
        "\n",
        "\n",
        "\n",
        "\n",
        "\n",
        "\n",
        "X_training = training_df.drop('busyness',  axis=1)\n",
        "y_training = training_df['busyness']\n",
        "\n",
        "X_testing = testing_df.drop('busyness',  axis=1)\n",
        "y_testing = testing_df['busyness']\n",
        "\n",
        "\n",
        "\n",
        "\n",
        "\n",
        "\n",
        "\n",
        "model =   LogisticRegression(solver='lbfgs',   multi_class='auto',  max_iter=1000)\n",
        "\n",
        "model.fit(X_training,   y_training)\n",
        "\n",
        "y_predict =   model.predict(X_testing)\n",
        "\n",
        "\n",
        "# make metrics\n",
        "accuracy =  metrics.accuracy_score(y_testing, y_predict)\n",
        "\n",
        "f1_score =    metrics.f1_score(y_testing, y_predict, average='macro')\n",
        "recall =   metrics.recall_score(y_testing, y_predict, average='macro')\n",
        "precision =   metrics.precision_score(y_testing, y_predict, average='macro')\n",
        "\n",
        "\n",
        "\n",
        "# print the metrics\n",
        "print(\"accuracy:\",  accuracy)\n",
        "print(\"f1:\",   f1_score)\n",
        "print(\"recall:\",   recall)\n",
        "print(\"pecision:\",   precision)\n",
        "\n",
        "\n"
      ]
    },
    {
      "cell_type": "code",
      "execution_count": 3,
      "metadata": {
        "id": "Q_vLlxhrrUAT"
      },
      "outputs": [],
      "source": [
        "import pickle\n",
        "\n",
        "\n",
        "\n",
        "with open('/content/drive/My Drive/t7logisticregression.pkl', 'wb') as file:\n",
        "    pickle.dump(model, file)\n",
        "\n",
        "\n",
        "\n",
        "\n"
      ]
    }
  ],
  "metadata": {
    "colab": {
      "machine_shape": "hm",
      "provenance": []
    },
    "kernelspec": {
      "display_name": "Python 3",
      "name": "python3"
    },
    "language_info": {
      "name": "python"
    }
  },
  "nbformat": 4,
  "nbformat_minor": 0
}