{
  "cells": [
    {
      "cell_type": "code",
      "execution_count": 1,
      "metadata": {
        "colab": {
          "base_uri": "https://localhost:8080/"
        },
        "id": "602d1ee2",
        "outputId": "35e9dacc-5629-44d9-c995-472937079b5b"
      },
      "outputs": [
        {
          "output_type": "stream",
          "name": "stdout",
          "text": [
            "Drive already mounted at /content/drive; to attempt to forcibly remount, call drive.mount(\"/content/drive\", force_remount=True).\n"
          ]
        }
      ],
      "source": [
        "import pandas as pd\n",
        "\n",
        "\n",
        "from google.colab import drive\n",
        "drive.mount('/content/drive')\n",
        "\n",
        "\n",
        "df = pd.read_csv('/content/drive/MyDrive/2018.1manhattenyellowtaxis.csv')"
      ],
      "id": "602d1ee2"
    },
    {
      "cell_type": "code",
      "execution_count": 2,
      "metadata": {
        "id": "528c64db",
        "colab": {
          "base_uri": "https://localhost:8080/"
        },
        "outputId": "15d9b3fc-6712-47ff-99a4-f8900bc5d14e"
      },
      "outputs": [
        {
          "output_type": "execute_result",
          "data": {
            "text/plain": [
              "VendorID                   int64\n",
              "tpep_pickup_datetime      object\n",
              "tpep_dropoff_datetime     object\n",
              "passenger_count            int64\n",
              "trip_distance            float64\n",
              "RatecodeID                 int64\n",
              "store_and_fwd_flag        object\n",
              "PULocationID               int64\n",
              "DOLocationID               int64\n",
              "payment_type               int64\n",
              "fare_amount              float64\n",
              "extra                    float64\n",
              "mta_tax                  float64\n",
              "tip_amount               float64\n",
              "tolls_amount             float64\n",
              "improvement_surcharge    float64\n",
              "total_amount             float64\n",
              "dtype: object"
            ]
          },
          "metadata": {},
          "execution_count": 2
        }
      ],
      "source": [
        "df.dtypes"
      ],
      "id": "528c64db"
    },
    {
      "cell_type": "code",
      "execution_count": 3,
      "metadata": {
        "id": "408087ce",
        "colab": {
          "base_uri": "https://localhost:8080/"
        },
        "outputId": "b51067cb-e06c-4a5c-e48c-9bb9dfd4830a"
      },
      "outputs": [
        {
          "output_type": "stream",
          "name": "stdout",
          "text": [
            "99177964\n"
          ]
        }
      ],
      "source": [
        "print(len(df))"
      ],
      "id": "408087ce"
    },
    {
      "cell_type": "code",
      "execution_count": 4,
      "metadata": {
        "id": "8a1381e7"
      },
      "outputs": [],
      "source": [
        "df['tpep_pickup_datetime']  = pd.to_datetime(df['tpep_pickup_datetime'] ,  format ='%m/%d/%Y %I:%M:%S %p')\n",
        "df['tpep_dropoff_datetime'] = pd.to_datetime(df['tpep_dropoff_datetime'] ,  format ='%m/%d/%Y %I:%M:%S %p')"
      ],
      "id": "8a1381e7"
    },
    {
      "cell_type": "code",
      "execution_count": 5,
      "metadata": {
        "id": "416364f5",
        "colab": {
          "base_uri": "https://localhost:8080/"
        },
        "outputId": "003a8b70-f80b-4f1d-ebc2-c790a38deed2"
      },
      "outputs": [
        {
          "output_type": "stream",
          "name": "stdout",
          "text": [
            "VendorID                          int64\n",
            "tpep_pickup_datetime     datetime64[ns]\n",
            "tpep_dropoff_datetime    datetime64[ns]\n",
            "passenger_count                   int64\n",
            "trip_distance                   float64\n",
            "RatecodeID                        int64\n",
            "store_and_fwd_flag               object\n",
            "PULocationID                      int64\n",
            "DOLocationID                      int64\n",
            "payment_type                      int64\n",
            "fare_amount                     float64\n",
            "extra                           float64\n",
            "mta_tax                         float64\n",
            "tip_amount                      float64\n",
            "tolls_amount                    float64\n",
            "improvement_surcharge           float64\n",
            "total_amount                    float64\n",
            "dtype: object\n"
          ]
        }
      ],
      "source": [
        "print(df.dtypes)"
      ],
      "id": "416364f5"
    },
    {
      "cell_type": "code",
      "execution_count": 6,
      "metadata": {
        "id": "0279be07",
        "colab": {
          "base_uri": "https://localhost:8080/"
        },
        "outputId": "3b0ad8bf-1309-459f-a00c-b2b1598fc608"
      },
      "outputs": [
        {
          "output_type": "stream",
          "name": "stdout",
          "text": [
            "VendorID                 0\n",
            "tpep_pickup_datetime     0\n",
            "tpep_dropoff_datetime    0\n",
            "passenger_count          0\n",
            "trip_distance            0\n",
            "RatecodeID               0\n",
            "store_and_fwd_flag       0\n",
            "PULocationID             0\n",
            "DOLocationID             0\n",
            "payment_type             0\n",
            "fare_amount              0\n",
            "extra                    0\n",
            "mta_tax                  0\n",
            "tip_amount               0\n",
            "tolls_amount             0\n",
            "improvement_surcharge    0\n",
            "total_amount             0\n",
            "dtype: int64\n"
          ]
        }
      ],
      "source": [
        "print(df.isnull().sum())"
      ],
      "id": "0279be07"
    },
    {
      "cell_type": "markdown",
      "metadata": {
        "id": "734f34d7"
      },
      "source": [
        "dealing with negative values"
      ],
      "id": "734f34d7"
    },
    {
      "cell_type": "code",
      "execution_count": 7,
      "metadata": {
        "id": "fdee3622",
        "colab": {
          "base_uri": "https://localhost:8080/"
        },
        "outputId": "92c9b454-0b45-45ab-f4d6-4f3f3a27acbd"
      },
      "outputs": [
        {
          "output_type": "stream",
          "name": "stdout",
          "text": [
            "payment_type: 0\n",
            "VendorID: 0\n",
            "passenger_count: 0\n",
            "trip_distance: 0\n",
            "RatecodeID: 0\n",
            "PULocationID: 0\n",
            "DOLocationID: 0\n",
            "fare_amount: 58779\n",
            "extra: 29015\n",
            "mta_tax: 57686\n",
            "tip_amount: 514\n",
            "tolls_amount: 391\n",
            "improvement_surcharge: 58748\n",
            "total_amount: 58781\n"
          ]
        }
      ],
      "source": [
        "x = [\n",
        "    \"payment_type\", \"VendorID\", \"passenger_count\", \"trip_distance\",\n",
        "    \"RatecodeID\",\"PULocationID\",\"DOLocationID\",\"fare_amount\",\n",
        "    \"extra\",\"mta_tax\",\"tip_amount\",\"tolls_amount\",\"improvement_surcharge\",\n",
        "    \"total_amount\"\n",
        "]\n",
        "\n",
        "\n",
        "d = {}\n",
        "\n",
        "\n",
        "for feature in x:\n",
        "    if feature in df.columns:\n",
        "        d[feature] = (df[feature] < 0).sum()\n",
        "\n",
        "for feature,  count in d.items():\n",
        "    print(f'{feature}: {count}')"
      ],
      "id": "fdee3622"
    },
    {
      "cell_type": "code",
      "execution_count": 8,
      "metadata": {
        "id": "48be0795"
      },
      "outputs": [],
      "source": [
        "for i in x:\n",
        "    if i in df.columns:\n",
        "        df[i] = df[i].apply(lambda y: abs(y) if y < 0 else y)"
      ],
      "id": "48be0795"
    },
    {
      "cell_type": "code",
      "execution_count": 9,
      "metadata": {
        "id": "86c81477",
        "colab": {
          "base_uri": "https://localhost:8080/"
        },
        "outputId": "d0775346-24c5-4027-820b-57a82a37d081"
      },
      "outputs": [
        {
          "output_type": "stream",
          "name": "stdout",
          "text": [
            "payment_type: 0\n",
            "VendorID: 0\n",
            "passenger_count: 0\n",
            "trip_distance: 0\n",
            "RatecodeID: 0\n",
            "PULocationID: 0\n",
            "DOLocationID: 0\n",
            "fare_amount: 0\n",
            "extra: 0\n",
            "mta_tax: 0\n",
            "tip_amount: 0\n",
            "tolls_amount: 0\n",
            "improvement_surcharge: 0\n",
            "total_amount: 0\n"
          ]
        }
      ],
      "source": [
        "x = [\n",
        "    \"payment_type\", \"VendorID\", \"passenger_count\", \"trip_distance\",\n",
        "    \"RatecodeID\",\"PULocationID\",\"DOLocationID\",\"fare_amount\",\n",
        "    \"extra\",\"mta_tax\",\"tip_amount\",\"tolls_amount\",\"improvement_surcharge\",\n",
        "    \"total_amount\"\n",
        "]\n",
        "\n",
        "\n",
        "d = {}\n",
        "\n",
        "\n",
        "for feature in x:\n",
        "    if feature in df.columns:\n",
        "        d[feature] = (df[feature] < 0).sum()\n",
        "\n",
        "for feature,  count in d.items():\n",
        "    print(f'{feature}: {count}')"
      ],
      "id": "86c81477"
    },
    {
      "cell_type": "markdown",
      "metadata": {
        "id": "359960dc"
      },
      "source": [
        "Next we are going to remove values that are incoherent based on domain knowledge. As discussed in the data quality report NYC taxis can only take 6 passengers including a child under 7 and the base fare for 2018 was 2.50$\n",
        "\n",
        "we will count hte number of rows with incoherent values. If many compared to the large  dataset we may choose imputation or if there are only a few rows we may just remove them.\n",
        "\n",
        "References\n",
        "\n",
        "Bloomberg (2022) 'NYC Taxi Cab Fares to Rise 23% in First Increase Since 2012', Bloomberg. Available at: https://www.bloomberg.com/news/articles/2022-11-15/nyc-taxi-cab-fares-to-rise-23-in-firs t-increase-since-2012 (Accessed: 7 July 2023).\n",
        "NYC.gov (n.d.) 'TLC Rules', NYC.gov. Available at: https://www.nyc.gov/site/tlc/about/tlc-rules.page (Accessed: 7 July 2023)."
      ],
      "id": "359960dc"
    },
    {
      "cell_type": "code",
      "execution_count": 10,
      "metadata": {
        "id": "7810a3a3",
        "colab": {
          "base_uri": "https://localhost:8080/"
        },
        "outputId": "b7acdfb5-038e-4d6d-f276-06b6e49551ef"
      },
      "outputs": [
        {
          "output_type": "stream",
          "name": "stdout",
          "text": [
            "500\n"
          ]
        }
      ],
      "source": [
        "o1 = df[df['passenger_count'] > 6 ].shape[0]\n",
        "print(o1)"
      ],
      "id": "7810a3a3"
    },
    {
      "cell_type": "code",
      "execution_count": 11,
      "metadata": {
        "id": "bd7899e8"
      },
      "outputs": [],
      "source": [
        "df = df[ df['passenger_count']  <= 6]"
      ],
      "id": "bd7899e8"
    },
    {
      "cell_type": "code",
      "execution_count": 12,
      "metadata": {
        "id": "771fbdf2",
        "colab": {
          "base_uri": "https://localhost:8080/"
        },
        "outputId": "2a557855-21e7-4d3c-861b-274775d0eead"
      },
      "outputs": [
        {
          "output_type": "stream",
          "name": "stdout",
          "text": [
            "0\n"
          ]
        }
      ],
      "source": [
        "o1 = df[df['passenger_count'] > 6 ].shape[0]\n",
        "print(o1)"
      ],
      "id": "771fbdf2"
    },
    {
      "cell_type": "code",
      "execution_count": 13,
      "metadata": {
        "id": "0961a39e",
        "colab": {
          "base_uri": "https://localhost:8080/"
        },
        "outputId": "1a88fd06-2aba-481e-a674-d0f17f1e71b6"
      },
      "outputs": [
        {
          "output_type": "stream",
          "name": "stdout",
          "text": [
            "848284\n"
          ]
        }
      ],
      "source": [
        "o2 = df[df['passenger_count'] == 0].shape[0]\n",
        "print(o2)"
      ],
      "id": "0961a39e"
    },
    {
      "cell_type": "code",
      "execution_count": 14,
      "metadata": {
        "id": "15b431df"
      },
      "outputs": [],
      "source": [
        "df['passenger_count'].replace(0 , 1 ,  inplace=True)"
      ],
      "id": "15b431df"
    },
    {
      "cell_type": "code",
      "execution_count": 15,
      "metadata": {
        "id": "3d8b99a7",
        "colab": {
          "base_uri": "https://localhost:8080/"
        },
        "outputId": "c23e8917-6d67-4c69-bde2-96de821ba45f"
      },
      "outputs": [
        {
          "output_type": "stream",
          "name": "stdout",
          "text": [
            "0\n"
          ]
        }
      ],
      "source": [
        "o2 = df[df['passenger_count'] == 0].shape[0]\n",
        "print(o2)"
      ],
      "id": "3d8b99a7"
    },
    {
      "cell_type": "code",
      "execution_count": 16,
      "metadata": {
        "id": "279a07c1",
        "colab": {
          "base_uri": "https://localhost:8080/"
        },
        "outputId": "57aef9cc-6058-48ef-be25-029287d5f7da"
      },
      "outputs": [
        {
          "output_type": "stream",
          "name": "stdout",
          "text": [
            "5198\n"
          ]
        }
      ],
      "source": [
        "o3 = (df['tpep_pickup_datetime']  >=  df['tpep_dropoff_datetime']).sum()\n",
        "print(o3)"
      ],
      "id": "279a07c1"
    },
    {
      "cell_type": "code",
      "execution_count": 17,
      "metadata": {
        "id": "90fa7771"
      },
      "outputs": [],
      "source": [
        "df =   df[df['tpep_pickup_datetime']   < df['tpep_dropoff_datetime']]"
      ],
      "id": "90fa7771"
    },
    {
      "cell_type": "code",
      "execution_count": 18,
      "metadata": {
        "id": "61bb0e6f"
      },
      "outputs": [],
      "source": [
        "start = pd.Timestamp('2018-01-01')\n",
        "end = pd.Timestamp('2018-12-31')"
      ],
      "id": "61bb0e6f"
    },
    {
      "cell_type": "code",
      "execution_count": 19,
      "metadata": {
        "id": "b9d62693",
        "colab": {
          "base_uri": "https://localhost:8080/"
        },
        "outputId": "fff3ecd1-071a-41b9-cc1b-9a63f41ba737"
      },
      "outputs": [
        {
          "output_type": "stream",
          "name": "stdout",
          "text": [
            "186473\n"
          ]
        }
      ],
      "source": [
        "out = ((df['tpep_pickup_datetime'] < start)  | (df['tpep_pickup_datetime'] > end)) | ((df['tpep_dropoff_datetime'] < start) |  (df['tpep_dropoff_datetime']  > end))\n",
        "print(out.sum())"
      ],
      "id": "b9d62693"
    },
    {
      "cell_type": "code",
      "execution_count": 20,
      "metadata": {
        "id": "0a8ba7c2"
      },
      "outputs": [],
      "source": [
        "df = df[((df['tpep_pickup_datetime']  >= start)    & (df['tpep_pickup_datetime']  <= end))   & ((df['tpep_dropoff_datetime'] >= start)    & (df['tpep_dropoff_datetime']  <= end))]"
      ],
      "id": "0a8ba7c2"
    },
    {
      "cell_type": "code",
      "execution_count": 21,
      "metadata": {
        "id": "1e9e2441",
        "colab": {
          "base_uri": "https://localhost:8080/"
        },
        "outputId": "fff03d62-47e7-454a-a8ac-3d25a4d69536"
      },
      "outputs": [
        {
          "output_type": "stream",
          "name": "stdout",
          "text": [
            "0\n"
          ]
        }
      ],
      "source": [
        "out = ((df['tpep_pickup_datetime'] < start)  | (df['tpep_pickup_datetime'] > end)) | ((df['tpep_dropoff_datetime'] < start) |  (df['tpep_dropoff_datetime']  > end))\n",
        "print(out.sum())"
      ],
      "id": "1e9e2441"
    },
    {
      "cell_type": "code",
      "execution_count": 22,
      "metadata": {
        "id": "d6e8e345",
        "colab": {
          "base_uri": "https://localhost:8080/"
        },
        "outputId": "8b3bf0f9-0e3f-4ebb-8a13-1543574097a8"
      },
      "outputs": [
        {
          "output_type": "stream",
          "name": "stdout",
          "text": [
            "440216\n"
          ]
        }
      ],
      "source": [
        "print((df['VendorID'] == 4).sum())"
      ],
      "id": "d6e8e345"
    },
    {
      "cell_type": "code",
      "execution_count": 23,
      "metadata": {
        "id": "d3080fb4",
        "colab": {
          "base_uri": "https://localhost:8080/"
        },
        "outputId": "ad09c81c-e0d3-4fdb-ee93-4d93493d73d4"
      },
      "outputs": [
        {
          "output_type": "stream",
          "name": "stdout",
          "text": [
            "600\n"
          ]
        }
      ],
      "source": [
        "print((df['RatecodeID'] == 99).sum())"
      ],
      "id": "d3080fb4"
    },
    {
      "cell_type": "code",
      "execution_count": 24,
      "metadata": {
        "id": "aabe82e2"
      },
      "outputs": [],
      "source": [
        "df['RatecodeID'].replace(99 , 1 , inplace=True)"
      ],
      "id": "aabe82e2"
    },
    {
      "cell_type": "code",
      "execution_count": 25,
      "metadata": {
        "id": "5cdf16c3",
        "colab": {
          "base_uri": "https://localhost:8080/"
        },
        "outputId": "1022d016-9aef-4386-cdf3-6296231c5382"
      },
      "outputs": [
        {
          "output_type": "stream",
          "name": "stdout",
          "text": [
            "0\n"
          ]
        }
      ],
      "source": [
        "print((df['RatecodeID'] == 99).sum())"
      ],
      "id": "5cdf16c3"
    },
    {
      "cell_type": "code",
      "execution_count": 26,
      "metadata": {
        "id": "b72e6d4d",
        "colab": {
          "base_uri": "https://localhost:8080/"
        },
        "outputId": "c29983c5-83ce-44ff-f4dd-bedc010590df"
      },
      "outputs": [
        {
          "output_type": "stream",
          "name": "stdout",
          "text": [
            "98985793\n"
          ]
        }
      ],
      "source": [
        "print(len(df))"
      ],
      "id": "b72e6d4d"
    },
    {
      "cell_type": "code",
      "execution_count": 27,
      "metadata": {
        "id": "cf6a16e6",
        "colab": {
          "base_uri": "https://localhost:8080/"
        },
        "outputId": "d6d968bd-ef53-4b67-d909-cb44958f97dd"
      },
      "outputs": [
        {
          "output_type": "stream",
          "name": "stdout",
          "text": [
            "[3.0000e-01 0.0000e+00 4.0003e+03]\n"
          ]
        }
      ],
      "source": [
        "print(df['improvement_surcharge'].unique())"
      ],
      "id": "cf6a16e6"
    },
    {
      "cell_type": "markdown",
      "metadata": {
        "id": "c230deb3"
      },
      "source": [
        "0.03 is likely a mistake since data dictionary states its a standard 30% tax."
      ],
      "id": "c230deb3"
    },
    {
      "cell_type": "code",
      "execution_count": 28,
      "metadata": {
        "id": "d1f2d85b",
        "colab": {
          "base_uri": "https://localhost:8080/"
        },
        "outputId": "9522862b-b968-47d3-d052-c8a9a8dbe46d"
      },
      "outputs": [
        {
          "output_type": "stream",
          "name": "stdout",
          "text": [
            "2\n"
          ]
        }
      ],
      "source": [
        "print((df['improvement_surcharge'] == 4.0003e+03).sum())"
      ],
      "id": "d1f2d85b"
    },
    {
      "cell_type": "code",
      "execution_count": 29,
      "metadata": {
        "id": "1b0084d7"
      },
      "outputs": [],
      "source": [
        "df['improvement_surcharge'].replace(4.0003e+03 , 0.3 , inplace=True)"
      ],
      "id": "1b0084d7"
    },
    {
      "cell_type": "code",
      "execution_count": 30,
      "metadata": {
        "id": "0f4c99d8",
        "colab": {
          "base_uri": "https://localhost:8080/"
        },
        "outputId": "cf7ddb08-1c82-419f-b679-21f8fccd36f2"
      },
      "outputs": [
        {
          "output_type": "stream",
          "name": "stdout",
          "text": [
            "0\n"
          ]
        }
      ],
      "source": [
        "print((df['improvement_surcharge'] == 4.0003e+03 ).sum())"
      ],
      "id": "0f4c99d8"
    },
    {
      "cell_type": "code",
      "execution_count": 31,
      "metadata": {
        "id": "623ec8f2",
        "colab": {
          "base_uri": "https://localhost:8080/"
        },
        "outputId": "b0096451-5bfe-4caf-a555-5cc80a7f9d0a"
      },
      "outputs": [
        {
          "output_type": "stream",
          "name": "stdout",
          "text": [
            "[ 0.    0.5   0.35  2.31  0.32  0.6  15.49  1.17  0.87 80.8   0.89 21.5\n",
            "  6.42 33.63  5.9  18.32 60.8 ]\n"
          ]
        }
      ],
      "source": [
        "print(df['mta_tax'].unique())"
      ],
      "id": "623ec8f2"
    },
    {
      "cell_type": "code",
      "execution_count": 32,
      "metadata": {
        "id": "9672f9ad"
      },
      "outputs": [],
      "source": [
        "mode_mta_tax = df['mta_tax'].mode()[0]\n",
        "\n",
        "# mta tax is a standard 50 cent charge\n",
        "df.loc[~df['mta_tax'].isin([0, 0.50]), 'mta_tax'] = mode_mta_tax"
      ],
      "id": "9672f9ad"
    },
    {
      "cell_type": "code",
      "execution_count": 33,
      "metadata": {
        "id": "e664d12b",
        "colab": {
          "base_uri": "https://localhost:8080/"
        },
        "outputId": "dba328f8-a6b5-41a3-cf64-52c265ac51fc"
      },
      "outputs": [
        {
          "output_type": "execute_result",
          "data": {
            "text/plain": [
              "{'trip_distance': 8424515,\n",
              " 'fare_amount': 6724112,\n",
              " 'tip_amount': 3603089,\n",
              " 'tolls_amount': 3407796,\n",
              " 'total_amount': 6598549}"
            ]
          },
          "metadata": {},
          "execution_count": 33
        }
      ],
      "source": [
        "\n",
        "def detectouts(z):\n",
        "    Q1 = z.quantile(0.25)\n",
        "    Q3 = z.quantile(0.75)\n",
        "    IQR = Q3 - Q1\n",
        "    outliers = ((z < (Q1 - 1.5 * IQR)) | (z > (Q3 + 1.5 * IQR)))\n",
        "    return outliers.sum()\n",
        "\n",
        "outcols1 = ['trip_distance', 'fare_amount', 'tip_amount',  'tolls_amount', 'total_amount']\n",
        "\n",
        "\n",
        "outcounts = {col: detectouts(df[col]) for col in outcols1}\n",
        "\n",
        "outcounts\n"
      ],
      "id": "e664d12b"
    },
    {
      "cell_type": "code",
      "execution_count": 34,
      "metadata": {
        "id": "ee70fbc8",
        "colab": {
          "base_uri": "https://localhost:8080/",
          "height": 270
        },
        "outputId": "b5dacc7b-1e3a-4c06-949d-f3b369ec1db3"
      },
      "outputs": [
        {
          "output_type": "execute_result",
          "data": {
            "text/plain": [
              "   VendorID tpep_pickup_datetime tpep_dropoff_datetime  passenger_count  \\\n",
              "0         1  2018-04-27 20:15:08   2018-04-27 20:15:33                1   \n",
              "1         1  2018-04-27 20:22:24   2018-04-27 20:34:10                1   \n",
              "2         1  2018-04-27 20:38:44   2018-04-27 20:52:05                1   \n",
              "3         1  2018-04-27 20:54:27   2018-04-27 20:59:53                1   \n",
              "4         1  2018-04-27 20:08:20   2018-04-27 20:12:44                2   \n",
              "\n",
              "   trip_distance  RatecodeID store_and_fwd_flag  PULocationID  DOLocationID  \\\n",
              "0            0.0           5                  N           143           143   \n",
              "1            1.9           1                  N            48            68   \n",
              "2            1.5           1                  N            90           170   \n",
              "3            0.9           1                  N           170            79   \n",
              "4            0.6           1                  N           237           237   \n",
              "\n",
              "   payment_type  fare_amount  extra  mta_tax  tip_amount  tolls_amount  \\\n",
              "0             1        22.75    0.0      0.0        5.65           0.0   \n",
              "1             2        10.00    0.5      0.5        0.00           0.0   \n",
              "2             1        10.00    0.5      0.5        2.80           0.0   \n",
              "3             2         6.00    0.5      0.5        0.00           0.0   \n",
              "4             2         5.00    0.5      0.5        0.00           0.0   \n",
              "\n",
              "   improvement_surcharge  total_amount  \n",
              "0                    0.3        27.425  \n",
              "1                    0.3        11.300  \n",
              "2                    0.3        14.100  \n",
              "3                    0.3         7.300  \n",
              "4                    0.3         6.300  "
            ],
            "text/html": [
              "\n",
              "\n",
              "  <div id=\"df-f72dc5b7-83f2-4384-b1de-d350cd3f8801\">\n",
              "    <div class=\"colab-df-container\">\n",
              "      <div>\n",
              "<style scoped>\n",
              "    .dataframe tbody tr th:only-of-type {\n",
              "        vertical-align: middle;\n",
              "    }\n",
              "\n",
              "    .dataframe tbody tr th {\n",
              "        vertical-align: top;\n",
              "    }\n",
              "\n",
              "    .dataframe thead th {\n",
              "        text-align: right;\n",
              "    }\n",
              "</style>\n",
              "<table border=\"1\" class=\"dataframe\">\n",
              "  <thead>\n",
              "    <tr style=\"text-align: right;\">\n",
              "      <th></th>\n",
              "      <th>VendorID</th>\n",
              "      <th>tpep_pickup_datetime</th>\n",
              "      <th>tpep_dropoff_datetime</th>\n",
              "      <th>passenger_count</th>\n",
              "      <th>trip_distance</th>\n",
              "      <th>RatecodeID</th>\n",
              "      <th>store_and_fwd_flag</th>\n",
              "      <th>PULocationID</th>\n",
              "      <th>DOLocationID</th>\n",
              "      <th>payment_type</th>\n",
              "      <th>fare_amount</th>\n",
              "      <th>extra</th>\n",
              "      <th>mta_tax</th>\n",
              "      <th>tip_amount</th>\n",
              "      <th>tolls_amount</th>\n",
              "      <th>improvement_surcharge</th>\n",
              "      <th>total_amount</th>\n",
              "    </tr>\n",
              "  </thead>\n",
              "  <tbody>\n",
              "    <tr>\n",
              "      <th>0</th>\n",
              "      <td>1</td>\n",
              "      <td>2018-04-27 20:15:08</td>\n",
              "      <td>2018-04-27 20:15:33</td>\n",
              "      <td>1</td>\n",
              "      <td>0.0</td>\n",
              "      <td>5</td>\n",
              "      <td>N</td>\n",
              "      <td>143</td>\n",
              "      <td>143</td>\n",
              "      <td>1</td>\n",
              "      <td>22.75</td>\n",
              "      <td>0.0</td>\n",
              "      <td>0.0</td>\n",
              "      <td>5.65</td>\n",
              "      <td>0.0</td>\n",
              "      <td>0.3</td>\n",
              "      <td>27.425</td>\n",
              "    </tr>\n",
              "    <tr>\n",
              "      <th>1</th>\n",
              "      <td>1</td>\n",
              "      <td>2018-04-27 20:22:24</td>\n",
              "      <td>2018-04-27 20:34:10</td>\n",
              "      <td>1</td>\n",
              "      <td>1.9</td>\n",
              "      <td>1</td>\n",
              "      <td>N</td>\n",
              "      <td>48</td>\n",
              "      <td>68</td>\n",
              "      <td>2</td>\n",
              "      <td>10.00</td>\n",
              "      <td>0.5</td>\n",
              "      <td>0.5</td>\n",
              "      <td>0.00</td>\n",
              "      <td>0.0</td>\n",
              "      <td>0.3</td>\n",
              "      <td>11.300</td>\n",
              "    </tr>\n",
              "    <tr>\n",
              "      <th>2</th>\n",
              "      <td>1</td>\n",
              "      <td>2018-04-27 20:38:44</td>\n",
              "      <td>2018-04-27 20:52:05</td>\n",
              "      <td>1</td>\n",
              "      <td>1.5</td>\n",
              "      <td>1</td>\n",
              "      <td>N</td>\n",
              "      <td>90</td>\n",
              "      <td>170</td>\n",
              "      <td>1</td>\n",
              "      <td>10.00</td>\n",
              "      <td>0.5</td>\n",
              "      <td>0.5</td>\n",
              "      <td>2.80</td>\n",
              "      <td>0.0</td>\n",
              "      <td>0.3</td>\n",
              "      <td>14.100</td>\n",
              "    </tr>\n",
              "    <tr>\n",
              "      <th>3</th>\n",
              "      <td>1</td>\n",
              "      <td>2018-04-27 20:54:27</td>\n",
              "      <td>2018-04-27 20:59:53</td>\n",
              "      <td>1</td>\n",
              "      <td>0.9</td>\n",
              "      <td>1</td>\n",
              "      <td>N</td>\n",
              "      <td>170</td>\n",
              "      <td>79</td>\n",
              "      <td>2</td>\n",
              "      <td>6.00</td>\n",
              "      <td>0.5</td>\n",
              "      <td>0.5</td>\n",
              "      <td>0.00</td>\n",
              "      <td>0.0</td>\n",
              "      <td>0.3</td>\n",
              "      <td>7.300</td>\n",
              "    </tr>\n",
              "    <tr>\n",
              "      <th>4</th>\n",
              "      <td>1</td>\n",
              "      <td>2018-04-27 20:08:20</td>\n",
              "      <td>2018-04-27 20:12:44</td>\n",
              "      <td>2</td>\n",
              "      <td>0.6</td>\n",
              "      <td>1</td>\n",
              "      <td>N</td>\n",
              "      <td>237</td>\n",
              "      <td>237</td>\n",
              "      <td>2</td>\n",
              "      <td>5.00</td>\n",
              "      <td>0.5</td>\n",
              "      <td>0.5</td>\n",
              "      <td>0.00</td>\n",
              "      <td>0.0</td>\n",
              "      <td>0.3</td>\n",
              "      <td>6.300</td>\n",
              "    </tr>\n",
              "  </tbody>\n",
              "</table>\n",
              "</div>\n",
              "      <button class=\"colab-df-convert\" onclick=\"convertToInteractive('df-f72dc5b7-83f2-4384-b1de-d350cd3f8801')\"\n",
              "              title=\"Convert this dataframe to an interactive table.\"\n",
              "              style=\"display:none;\">\n",
              "\n",
              "  <svg xmlns=\"http://www.w3.org/2000/svg\" height=\"24px\"viewBox=\"0 0 24 24\"\n",
              "       width=\"24px\">\n",
              "    <path d=\"M0 0h24v24H0V0z\" fill=\"none\"/>\n",
              "    <path d=\"M18.56 5.44l.94 2.06.94-2.06 2.06-.94-2.06-.94-.94-2.06-.94 2.06-2.06.94zm-11 1L8.5 8.5l.94-2.06 2.06-.94-2.06-.94L8.5 2.5l-.94 2.06-2.06.94zm10 10l.94 2.06.94-2.06 2.06-.94-2.06-.94-.94-2.06-.94 2.06-2.06.94z\"/><path d=\"M17.41 7.96l-1.37-1.37c-.4-.4-.92-.59-1.43-.59-.52 0-1.04.2-1.43.59L10.3 9.45l-7.72 7.72c-.78.78-.78 2.05 0 2.83L4 21.41c.39.39.9.59 1.41.59.51 0 1.02-.2 1.41-.59l7.78-7.78 2.81-2.81c.8-.78.8-2.07 0-2.86zM5.41 20L4 18.59l7.72-7.72 1.47 1.35L5.41 20z\"/>\n",
              "  </svg>\n",
              "      </button>\n",
              "\n",
              "\n",
              "\n",
              "    <div id=\"df-5f3acce7-52c2-43d8-ba32-05a3ff33bb37\">\n",
              "      <button class=\"colab-df-quickchart\" onclick=\"quickchart('df-5f3acce7-52c2-43d8-ba32-05a3ff33bb37')\"\n",
              "              title=\"Suggest charts.\"\n",
              "              style=\"display:none;\">\n",
              "\n",
              "<svg xmlns=\"http://www.w3.org/2000/svg\" height=\"24px\"viewBox=\"0 0 24 24\"\n",
              "     width=\"24px\">\n",
              "    <g>\n",
              "        <path d=\"M19 3H5c-1.1 0-2 .9-2 2v14c0 1.1.9 2 2 2h14c1.1 0 2-.9 2-2V5c0-1.1-.9-2-2-2zM9 17H7v-7h2v7zm4 0h-2V7h2v10zm4 0h-2v-4h2v4z\"/>\n",
              "    </g>\n",
              "</svg>\n",
              "      </button>\n",
              "    </div>\n",
              "\n",
              "<style>\n",
              "  .colab-df-quickchart {\n",
              "    background-color: #E8F0FE;\n",
              "    border: none;\n",
              "    border-radius: 50%;\n",
              "    cursor: pointer;\n",
              "    display: none;\n",
              "    fill: #1967D2;\n",
              "    height: 32px;\n",
              "    padding: 0 0 0 0;\n",
              "    width: 32px;\n",
              "  }\n",
              "\n",
              "  .colab-df-quickchart:hover {\n",
              "    background-color: #E2EBFA;\n",
              "    box-shadow: 0px 1px 2px rgba(60, 64, 67, 0.3), 0px 1px 3px 1px rgba(60, 64, 67, 0.15);\n",
              "    fill: #174EA6;\n",
              "  }\n",
              "\n",
              "  [theme=dark] .colab-df-quickchart {\n",
              "    background-color: #3B4455;\n",
              "    fill: #D2E3FC;\n",
              "  }\n",
              "\n",
              "  [theme=dark] .colab-df-quickchart:hover {\n",
              "    background-color: #434B5C;\n",
              "    box-shadow: 0px 1px 3px 1px rgba(0, 0, 0, 0.15);\n",
              "    filter: drop-shadow(0px 1px 2px rgba(0, 0, 0, 0.3));\n",
              "    fill: #FFFFFF;\n",
              "  }\n",
              "</style>\n",
              "\n",
              "    <script>\n",
              "      async function quickchart(key) {\n",
              "        const containerElement = document.querySelector('#' + key);\n",
              "        const charts = await google.colab.kernel.invokeFunction(\n",
              "            'suggestCharts', [key], {});\n",
              "      }\n",
              "    </script>\n",
              "\n",
              "      <script>\n",
              "\n",
              "function displayQuickchartButton(domScope) {\n",
              "  let quickchartButtonEl =\n",
              "    domScope.querySelector('#df-5f3acce7-52c2-43d8-ba32-05a3ff33bb37 button.colab-df-quickchart');\n",
              "  quickchartButtonEl.style.display =\n",
              "    google.colab.kernel.accessAllowed ? 'block' : 'none';\n",
              "}\n",
              "\n",
              "        displayQuickchartButton(document);\n",
              "      </script>\n",
              "      <style>\n",
              "    .colab-df-container {\n",
              "      display:flex;\n",
              "      flex-wrap:wrap;\n",
              "      gap: 12px;\n",
              "    }\n",
              "\n",
              "    .colab-df-convert {\n",
              "      background-color: #E8F0FE;\n",
              "      border: none;\n",
              "      border-radius: 50%;\n",
              "      cursor: pointer;\n",
              "      display: none;\n",
              "      fill: #1967D2;\n",
              "      height: 32px;\n",
              "      padding: 0 0 0 0;\n",
              "      width: 32px;\n",
              "    }\n",
              "\n",
              "    .colab-df-convert:hover {\n",
              "      background-color: #E2EBFA;\n",
              "      box-shadow: 0px 1px 2px rgba(60, 64, 67, 0.3), 0px 1px 3px 1px rgba(60, 64, 67, 0.15);\n",
              "      fill: #174EA6;\n",
              "    }\n",
              "\n",
              "    [theme=dark] .colab-df-convert {\n",
              "      background-color: #3B4455;\n",
              "      fill: #D2E3FC;\n",
              "    }\n",
              "\n",
              "    [theme=dark] .colab-df-convert:hover {\n",
              "      background-color: #434B5C;\n",
              "      box-shadow: 0px 1px 3px 1px rgba(0, 0, 0, 0.15);\n",
              "      filter: drop-shadow(0px 1px 2px rgba(0, 0, 0, 0.3));\n",
              "      fill: #FFFFFF;\n",
              "    }\n",
              "  </style>\n",
              "\n",
              "      <script>\n",
              "        const buttonEl =\n",
              "          document.querySelector('#df-f72dc5b7-83f2-4384-b1de-d350cd3f8801 button.colab-df-convert');\n",
              "        buttonEl.style.display =\n",
              "          google.colab.kernel.accessAllowed ? 'block' : 'none';\n",
              "\n",
              "        async function convertToInteractive(key) {\n",
              "          const element = document.querySelector('#df-f72dc5b7-83f2-4384-b1de-d350cd3f8801');\n",
              "          const dataTable =\n",
              "            await google.colab.kernel.invokeFunction('convertToInteractive',\n",
              "                                                     [key], {});\n",
              "          if (!dataTable) return;\n",
              "\n",
              "          const docLinkHtml = 'Like what you see? Visit the ' +\n",
              "            '<a target=\"_blank\" href=https://colab.research.google.com/notebooks/data_table.ipynb>data table notebook</a>'\n",
              "            + ' to learn more about interactive tables.';\n",
              "          element.innerHTML = '';\n",
              "          dataTable['output_type'] = 'display_data';\n",
              "          await google.colab.output.renderOutput(dataTable, element);\n",
              "          const docLink = document.createElement('div');\n",
              "          docLink.innerHTML = docLinkHtml;\n",
              "          element.appendChild(docLink);\n",
              "        }\n",
              "      </script>\n",
              "    </div>\n",
              "  </div>\n"
            ]
          },
          "metadata": {},
          "execution_count": 34
        }
      ],
      "source": [
        "def cappy(df, w):\n",
        "\n",
        "\n",
        "    Q1 = df[w].quantile(0.25)\n",
        "    Q3 = df[w].quantile(0.75)\n",
        "\n",
        "    #subtract the 2\n",
        "    IQR = Q3 - Q1\n",
        "\n",
        "\n",
        "    lower_b = Q1 - 1.5 * IQR\n",
        "    upper_b = Q3 + 1.5 * IQR\n",
        "\n",
        "\n",
        "    df[w] = df[w].clip(lower=lower_b, upper=upper_b)\n",
        "\n",
        "    return df\n",
        "\n",
        "outcols = ['trip_distance',   'fare_amount', 'tip_amount',   'tolls_amount', 'total_amount']\n",
        "\n",
        "for col in outcols:\n",
        "\n",
        "\n",
        "    df =  cappy(df, col)\n",
        "\n",
        "df.head()\n",
        "\n"
      ],
      "id": "ee70fbc8"
    },
    {
      "cell_type": "code",
      "execution_count": 35,
      "metadata": {
        "id": "66e68fca",
        "colab": {
          "base_uri": "https://localhost:8080/"
        },
        "outputId": "8b6d50b2-578b-4e80-9a91-130133d0a6ea"
      },
      "outputs": [
        {
          "output_type": "stream",
          "name": "stdout",
          "text": [
            "8337182\n"
          ]
        }
      ],
      "source": [
        "print(df.duplicated().sum())"
      ],
      "id": "66e68fca"
    },
    {
      "cell_type": "code",
      "execution_count": 36,
      "metadata": {
        "id": "6e83e0fe",
        "colab": {
          "base_uri": "https://localhost:8080/"
        },
        "outputId": "43727a5e-fa09-41cc-8943-444740ef08ff"
      },
      "outputs": [
        {
          "output_type": "stream",
          "name": "stdout",
          "text": [
            "98985793\n"
          ]
        }
      ],
      "source": [
        "print(len(df))"
      ],
      "id": "6e83e0fe"
    },
    {
      "cell_type": "code",
      "execution_count": 37,
      "metadata": {
        "id": "1cb0659c"
      },
      "outputs": [],
      "source": [
        "df.drop_duplicates(inplace=True)"
      ],
      "id": "1cb0659c"
    },
    {
      "cell_type": "code",
      "execution_count": 38,
      "metadata": {
        "id": "e3f53bb8",
        "colab": {
          "base_uri": "https://localhost:8080/"
        },
        "outputId": "e17cccf9-670a-4195-d005-7580c1675b91"
      },
      "outputs": [
        {
          "output_type": "stream",
          "name": "stdout",
          "text": [
            "90648611\n"
          ]
        }
      ],
      "source": [
        "print(len(df))"
      ],
      "id": "e3f53bb8"
    },
    {
      "cell_type": "code",
      "execution_count": 39,
      "metadata": {
        "id": "a8204631"
      },
      "outputs": [],
      "source": [
        "df.to_csv('/content/drive/MyDrive/2018.22manhattenyellowtaxis.csv', index=False)"
      ],
      "id": "a8204631"
    }
  ],
  "metadata": {
    "accelerator": "GPU",
    "colab": {
      "machine_shape": "hm",
      "provenance": [],
      "gpuType": "A100"
    },
    "kernelspec": {
      "display_name": "Python 3",
      "name": "python3"
    },
    "language_info": {
      "codemirror_mode": {
        "name": "ipython",
        "version": 3
      },
      "file_extension": ".py",
      "mimetype": "text/x-python",
      "name": "python",
      "nbconvert_exporter": "python",
      "pygments_lexer": "ipython3",
      "version": "3.10.9"
    }
  },
  "nbformat": 4,
  "nbformat_minor": 5
}