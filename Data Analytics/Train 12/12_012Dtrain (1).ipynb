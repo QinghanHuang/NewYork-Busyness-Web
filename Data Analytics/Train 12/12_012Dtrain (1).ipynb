{
  "nbformat": 4,
  "nbformat_minor": 0,
  "metadata": {
    "colab": {
      "provenance": [],
      "machine_shape": "hm"
    },
    "kernelspec": {
      "name": "python3",
      "display_name": "Python 3"
    },
    "language_info": {
      "name": "python"
    }
  },
  "cells": [
    {
      "cell_type": "code",
      "execution_count": 1,
      "metadata": {
        "colab": {
          "base_uri": "https://localhost:8080/"
        },
        "id": "4Aq1L9BorA9d",
        "outputId": "07c4852a-ee83-4517-84ee-27dd342712d2"
      },
      "outputs": [
        {
          "output_type": "stream",
          "name": "stdout",
          "text": [
            "Requirement already satisfied: sklearn2pmml in /usr/local/lib/python3.10/dist-packages (0.96.0)\n",
            "Requirement already satisfied: dill>=0.3.4 in /usr/local/lib/python3.10/dist-packages (from sklearn2pmml) (0.3.7)\n",
            "Requirement already satisfied: joblib>=0.13.0 in /usr/local/lib/python3.10/dist-packages (from sklearn2pmml) (1.3.1)\n",
            "Requirement already satisfied: scikit-learn>=0.18.0 in /usr/local/lib/python3.10/dist-packages (from sklearn2pmml) (1.2.2)\n",
            "Requirement already satisfied: sklearn-pandas>=0.0.10 in /usr/local/lib/python3.10/dist-packages (from sklearn2pmml) (2.2.0)\n",
            "Requirement already satisfied: numpy>=1.17.3 in /usr/local/lib/python3.10/dist-packages (from scikit-learn>=0.18.0->sklearn2pmml) (1.22.4)\n",
            "Requirement already satisfied: scipy>=1.3.2 in /usr/local/lib/python3.10/dist-packages (from scikit-learn>=0.18.0->sklearn2pmml) (1.10.1)\n",
            "Requirement already satisfied: threadpoolctl>=2.0.0 in /usr/local/lib/python3.10/dist-packages (from scikit-learn>=0.18.0->sklearn2pmml) (3.2.0)\n",
            "Requirement already satisfied: pandas>=1.1.4 in /usr/local/lib/python3.10/dist-packages (from sklearn-pandas>=0.0.10->sklearn2pmml) (1.5.3)\n",
            "Requirement already satisfied: python-dateutil>=2.8.1 in /usr/local/lib/python3.10/dist-packages (from pandas>=1.1.4->sklearn-pandas>=0.0.10->sklearn2pmml) (2.8.2)\n",
            "Requirement already satisfied: pytz>=2020.1 in /usr/local/lib/python3.10/dist-packages (from pandas>=1.1.4->sklearn-pandas>=0.0.10->sklearn2pmml) (2022.7.1)\n",
            "Requirement already satisfied: six>=1.5 in /usr/local/lib/python3.10/dist-packages (from python-dateutil>=2.8.1->pandas>=1.1.4->sklearn-pandas>=0.0.10->sklearn2pmml) (1.16.0)\n",
            "Drive already mounted at /content/drive; to attempt to forcibly remount, call drive.mount(\"/content/drive\", force_remount=True).\n",
            "   DOLocationID  dropoff_hour  DOLocation_area  DOLocation_perimeter  \\\n",
            "0           140            13         0.000114              0.047584   \n",
            "1           243            13         0.000438              0.094331   \n",
            "2            41            14         0.000143              0.052793   \n",
            "3            48            14         0.000094              0.043747   \n",
            "4            68            14         0.000111              0.049337   \n",
            "\n",
            "   dropoff_day_of_week  dropoff_day_of_month  dropoff_month  temp  dew_point  \\\n",
            "0                    0                    31             12  7.07       1.98   \n",
            "1                    0                    31             12  7.07       1.98   \n",
            "2                    0                    31             12  6.84       2.53   \n",
            "3                    0                    31             12  6.84       2.53   \n",
            "4                    0                    31             12  6.84       2.53   \n",
            "\n",
            "   feels_like  temp_min  temp_max  pressure  humidity  wind_speed  wind_deg  \\\n",
            "0        3.77      5.97      7.60    1026.0      70.0        5.36     177.0   \n",
            "1        3.77      5.97      7.60    1026.0      70.0        5.36     177.0   \n",
            "2        2.98      5.89      7.12    1025.0      74.0        6.71     150.0   \n",
            "3        2.98      5.89      7.12    1025.0      74.0        6.71     150.0   \n",
            "4        2.98      5.89      7.12    1025.0      74.0        6.71     150.0   \n",
            "\n",
            "   busyness  \n",
            "0         1  \n",
            "1         1  \n",
            "2         1  \n",
            "3         1  \n",
            "4         1  \n"
          ]
        }
      ],
      "source": [
        "!pip install sklearn2pmml\n",
        "\n",
        "import pandas as panda\n",
        "\n",
        "from sklearn import metrics\n",
        "from sklearn.model_selection import train_test_split\n",
        "\n",
        "\n",
        "\n",
        "\n",
        "from google.colab import drive\n",
        "drive.mount('/content/drive')\n",
        "\n",
        "df = panda.read_csv('/content/drive/MyDrive/feature_complete6.012manhattenyellowtaxis.csv')\n",
        "\n",
        "\n",
        "\n",
        "print(df.head())\n",
        "\n",
        "\n",
        "\n",
        "\n",
        "\n"
      ]
    },
    {
      "cell_type": "code",
      "source": [
        "#make the features into more efficient datatypes\n",
        "\n",
        "df['DOLocationID'] =  df['DOLocationID'].astype('uint16')\n",
        "df['dropoff_hour'] =   df['dropoff_hour'].astype('uint8')\n",
        "\n",
        "df['dropoff_day_of_week'] =   df['dropoff_day_of_week'].astype('uint8')\n",
        "df['dropoff_day_of_month'] =   df['dropoff_day_of_month'].astype('uint8')\n",
        "\n",
        "\n",
        "df['dropoff_month'] =  df['dropoff_month'].astype('uint8')\n",
        "df['busyness'] =  df['busyness'].astype('uint8')\n"
      ],
      "metadata": {
        "id": "kdgvNF2j18Z6"
      },
      "execution_count": 2,
      "outputs": []
    },
    {
      "cell_type": "code",
      "source": [
        "from sklearn.ensemble import RandomForestClassifier\n",
        "from sklearn.preprocessing import StandardScaler\n",
        "from sklearn.pipeline import Pipeline\n",
        "\n",
        "\n",
        "\n",
        "\n",
        "training_size = int(0.8 *   len(df))\n",
        "\n",
        "\n",
        "training_df = df.iloc[:training_size]\n",
        "\n",
        "\n",
        "testing_df =  df.iloc[training_size:]\n",
        "\n",
        "X_training =   training_df.drop('busyness',   axis=1)\n",
        "\n",
        "\n",
        "y_training =   training_df['busyness']\n",
        "\n",
        "X_testing =   testing_df.drop('busyness',   axis=1)\n",
        "y_testing =  testing_df['busyness']\n",
        "\n",
        "pipeline =   Pipeline([\n",
        "    ('classifier',   RandomForestClassifier(n_estimators=15,   max_depth=10,  random_state=40))\n",
        "])\n",
        "\n",
        "pipeline.fit(X_training, y_training)\n",
        "\n",
        "\n",
        "y_pred = pipeline.predict(X_testing)\n",
        "\n",
        "# make the metrics for the model\n",
        "accuracy = metrics.accuracy_score(y_testing , y_pred)\n",
        "f1=    metrics.f1_score(y_testing , y_pred, average='macro')\n",
        "\n",
        "\n",
        "recall = metrics.recall_score(y_testing , y_pred, average='macro')\n",
        "precision = metrics.precision_score(y_testing , y_pred, average='macro')\n",
        "\n",
        "# print the metrics for the model..\n",
        "print(\"Accuracy:\",   accuracy)\n",
        "print(\"F1 score:\",    f1)\n",
        "print(\"Recall:\",    recall)\n",
        "print(\"Precision:\",  precision)\n",
        "\n",
        "\n",
        "\n"
      ],
      "metadata": {
        "id": "auk00kFKrT9V",
        "colab": {
          "base_uri": "https://localhost:8080/"
        },
        "outputId": "ff720d54-9403-4dd1-cee3-0e9fe95d003d"
      },
      "execution_count": 3,
      "outputs": [
        {
          "output_type": "stream",
          "name": "stdout",
          "text": [
            "Accuracy: 0.7074644635255068\n",
            "F1 score: 0.6984214469605168\n",
            "Recall: 0.7057505095893944\n",
            "Precision: 0.7096632387431688\n"
          ]
        }
      ]
    },
    {
      "cell_type": "code",
      "source": [
        "!pip install nyoka"
      ],
      "metadata": {
        "colab": {
          "base_uri": "https://localhost:8080/"
        },
        "id": "SCmDRwe-35qH",
        "outputId": "7f749d0a-4a9d-4d5a-d2b9-0e0fc3ca95c7"
      },
      "execution_count": 4,
      "outputs": [
        {
          "output_type": "stream",
          "name": "stdout",
          "text": [
            "Requirement already satisfied: nyoka in /usr/local/lib/python3.10/dist-packages (5.5.0)\n",
            "Requirement already satisfied: lxml in /usr/local/lib/python3.10/dist-packages (from nyoka) (4.9.3)\n"
          ]
        }
      ]
    },
    {
      "cell_type": "code",
      "source": [
        "from sklearn2pmml  import make_pmml_pipeline,  sklearn2pmml\n",
        "\n",
        "\n",
        "\n",
        "\n",
        "\n",
        "from nyoka import skl_to_pmml\n",
        "\n",
        "\n",
        "\n",
        "cols   =  X_training.columns.tolist()\n",
        "targ = 'busyness'\n",
        "\n",
        "\n",
        "file2 =   \"/content/drive/MyDrive/model12.012D.pmml\"\n",
        "skl_to_pmml(pipeline,  col_names=cols, target_name=targ,   pmml_f_name=file2)\n"
      ],
      "metadata": {
        "id": "Yg6-mgVi8d4f"
      },
      "execution_count": 5,
      "outputs": []
    }
  ]
}