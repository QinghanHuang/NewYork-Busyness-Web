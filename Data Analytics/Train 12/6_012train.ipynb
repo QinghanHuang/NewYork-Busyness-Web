{
  "nbformat": 4,
  "nbformat_minor": 0,
  "metadata": {
    "colab": {
      "provenance": [],
      "machine_shape": "hm"
    },
    "kernelspec": {
      "name": "python3",
      "display_name": "Python 3"
    },
    "language_info": {
      "name": "python"
    }
  },
  "cells": [
    {
      "cell_type": "code",
      "execution_count": 1,
      "metadata": {
        "colab": {
          "base_uri": "https://localhost:8080/"
        },
        "id": "4Aq1L9BorA9d",
        "outputId": "912c0193-b460-464f-d382-3aa57c1acd10"
      },
      "outputs": [
        {
          "output_type": "stream",
          "name": "stdout",
          "text": [
            "Mounted at /content/drive\n",
            "   DOLocationID  dropoff_hour  DOLocation_area  DOLocation_perimeter  \\\n",
            "0           140            13         0.000114              0.047584   \n",
            "1           243            13         0.000438              0.094331   \n",
            "2            41            14         0.000143              0.052793   \n",
            "3            48            14         0.000094              0.043747   \n",
            "4            68            14         0.000111              0.049337   \n",
            "\n",
            "   dropoff_day_of_week  dropoff_day_of_month  dropoff_month  temp  dew_point  \\\n",
            "0                    0                    31             12  7.07       1.98   \n",
            "1                    0                    31             12  7.07       1.98   \n",
            "2                    0                    31             12  6.84       2.53   \n",
            "3                    0                    31             12  6.84       2.53   \n",
            "4                    0                    31             12  6.84       2.53   \n",
            "\n",
            "   feels_like  temp_min  temp_max  pressure  humidity  wind_speed  wind_deg  \\\n",
            "0        3.77      5.97      7.60    1026.0      70.0        5.36     177.0   \n",
            "1        3.77      5.97      7.60    1026.0      70.0        5.36     177.0   \n",
            "2        2.98      5.89      7.12    1025.0      74.0        6.71     150.0   \n",
            "3        2.98      5.89      7.12    1025.0      74.0        6.71     150.0   \n",
            "4        2.98      5.89      7.12    1025.0      74.0        6.71     150.0   \n",
            "\n",
            "   busyness  \n",
            "0         1  \n",
            "1         1  \n",
            "2         1  \n",
            "3         1  \n",
            "4         1  \n"
          ]
        }
      ],
      "source": [
        "import pandas as panda\n",
        "\n",
        "from sklearn import metrics\n",
        "from sklearn.model_selection import train_test_split\n",
        "\n",
        "\n",
        "\n",
        "\n",
        "from google.colab import drive\n",
        "drive.mount('/content/drive')\n",
        "\n",
        "df = panda.read_csv('/content/drive/MyDrive/feature_complete6.012manhattenyellowtaxis.csv')\n",
        "\n",
        "\n",
        "\n",
        "print(df.head())\n",
        "\n",
        "\n",
        "\n",
        "\n",
        "\n"
      ]
    },
    {
      "cell_type": "code",
      "source": [
        "#make the features into more efficient datatypes\n",
        "\n",
        "df['DOLocationID'] =  df['DOLocationID'].astype('uint16')\n",
        "df['dropoff_hour'] =   df['dropoff_hour'].astype('uint8')\n",
        "\n",
        "df['dropoff_day_of_week'] =   df['dropoff_day_of_week'].astype('uint8')\n",
        "df['dropoff_day_of_month'] =   df['dropoff_day_of_month'].astype('uint8')\n",
        "\n",
        "\n",
        "df['dropoff_month'] =  df['dropoff_month'].astype('uint8')\n",
        "df['busyness'] =  df['busyness'].astype('uint8')\n"
      ],
      "metadata": {
        "id": "kdgvNF2j18Z6"
      },
      "execution_count": 2,
      "outputs": []
    },
    {
      "cell_type": "code",
      "source": [
        "!pip install sklearn2pmml"
      ],
      "metadata": {
        "id": "kBAtyx0O7q10",
        "colab": {
          "base_uri": "https://localhost:8080/"
        },
        "outputId": "55d62621-4db1-4b40-cb39-aa0811f1b242"
      },
      "execution_count": 3,
      "outputs": [
        {
          "output_type": "stream",
          "name": "stdout",
          "text": [
            "Collecting sklearn2pmml\n",
            "  Downloading sklearn2pmml-0.96.0.tar.gz (7.0 MB)\n",
            "\u001b[2K     \u001b[90m━━━━━━━━━━━━━━━━━━━━━━━━━━━━━━━━━━━━━━━━\u001b[0m \u001b[32m7.0/7.0 MB\u001b[0m \u001b[31m34.9 MB/s\u001b[0m eta \u001b[36m0:00:00\u001b[0m\n",
            "\u001b[?25h  Preparing metadata (setup.py) ... \u001b[?25l\u001b[?25hdone\n",
            "Collecting dill>=0.3.4 (from sklearn2pmml)\n",
            "  Downloading dill-0.3.7-py3-none-any.whl (115 kB)\n",
            "\u001b[2K     \u001b[90m━━━━━━━━━━━━━━━━━━━━━━━━━━━━━━━━━━━━━━\u001b[0m \u001b[32m115.3/115.3 kB\u001b[0m \u001b[31m12.9 MB/s\u001b[0m eta \u001b[36m0:00:00\u001b[0m\n",
            "\u001b[?25hRequirement already satisfied: joblib>=0.13.0 in /usr/local/lib/python3.10/dist-packages (from sklearn2pmml) (1.3.1)\n",
            "Requirement already satisfied: scikit-learn>=0.18.0 in /usr/local/lib/python3.10/dist-packages (from sklearn2pmml) (1.2.2)\n",
            "Requirement already satisfied: sklearn-pandas>=0.0.10 in /usr/local/lib/python3.10/dist-packages (from sklearn2pmml) (2.2.0)\n",
            "Requirement already satisfied: numpy>=1.17.3 in /usr/local/lib/python3.10/dist-packages (from scikit-learn>=0.18.0->sklearn2pmml) (1.22.4)\n",
            "Requirement already satisfied: scipy>=1.3.2 in /usr/local/lib/python3.10/dist-packages (from scikit-learn>=0.18.0->sklearn2pmml) (1.10.1)\n",
            "Requirement already satisfied: threadpoolctl>=2.0.0 in /usr/local/lib/python3.10/dist-packages (from scikit-learn>=0.18.0->sklearn2pmml) (3.2.0)\n",
            "Requirement already satisfied: pandas>=1.1.4 in /usr/local/lib/python3.10/dist-packages (from sklearn-pandas>=0.0.10->sklearn2pmml) (1.5.3)\n",
            "Requirement already satisfied: python-dateutil>=2.8.1 in /usr/local/lib/python3.10/dist-packages (from pandas>=1.1.4->sklearn-pandas>=0.0.10->sklearn2pmml) (2.8.2)\n",
            "Requirement already satisfied: pytz>=2020.1 in /usr/local/lib/python3.10/dist-packages (from pandas>=1.1.4->sklearn-pandas>=0.0.10->sklearn2pmml) (2022.7.1)\n",
            "Requirement already satisfied: six>=1.5 in /usr/local/lib/python3.10/dist-packages (from python-dateutil>=2.8.1->pandas>=1.1.4->sklearn-pandas>=0.0.10->sklearn2pmml) (1.16.0)\n",
            "Building wheels for collected packages: sklearn2pmml\n",
            "  Building wheel for sklearn2pmml (setup.py) ... \u001b[?25l\u001b[?25hdone\n",
            "  Created wheel for sklearn2pmml: filename=sklearn2pmml-0.96.0-py3-none-any.whl size=7011434 sha256=44a8d99eb56f78d3945b15c0d94f69f47b5664db9f962070566516a1d6a2d29f\n",
            "  Stored in directory: /root/.cache/pip/wheels/19/59/3e/fd83bd2afab7b665089b82babf3c7c1c04950d53135f92257c\n",
            "Successfully built sklearn2pmml\n",
            "Installing collected packages: dill, sklearn2pmml\n",
            "Successfully installed dill-0.3.7 sklearn2pmml-0.96.0\n"
          ]
        }
      ]
    },
    {
      "cell_type": "code",
      "source": [
        "from sklearn.ensemble import RandomForestClassifier\n",
        "from sklearn.preprocessing import StandardScaler\n",
        "from sklearn.pipeline import Pipeline\n",
        "\n",
        "\n",
        "\n",
        "\n",
        "X =   df.drop('busyness', axis=1)\n",
        "\n",
        "\n",
        "y =   df['busyness']\n",
        "\n",
        "X_training  , X_testing , y_training   , y_testing  = train_test_split(X, y,   test_size=0.2, random_state=40)\n",
        "\n",
        "s =     StandardScaler()\n",
        "\n",
        "\n",
        "model = RandomForestClassifier(n_estimators=1, random_state=40)\n",
        "\n",
        "p =   Pipeline(steps=[('scaler',   s),\n",
        "                       ('model', model)])\n",
        "\n",
        "\n",
        "p.fit(X_training , y_training )\n",
        "\n",
        "y_pred =   p.predict(X_testing )\n",
        "\n",
        "\n",
        "accuracy = metrics.accuracy_score(y_testing , y_pred)\n",
        "f1=    metrics.f1_score(y_testing , y_pred, average='macro')\n",
        "\n",
        "\n",
        "recall = metrics.recall_score(y_testing , y_pred, average='macro')\n",
        "precision = metrics.precision_score(y_testing , y_pred, average='macro')\n",
        "\n",
        "\n",
        "print(\"Accuracy:\",   accuracy)\n",
        "print(\"F1 score:\",    f1)\n",
        "print(\"Recall:\",    recall)\n",
        "print(\"Precision:\",  precision)\n",
        "\n",
        "\n",
        "\n"
      ],
      "metadata": {
        "id": "auk00kFKrT9V",
        "colab": {
          "base_uri": "https://localhost:8080/"
        },
        "outputId": "15acd5f5-ca50-48ec-b480-b13db82511f8"
      },
      "execution_count": 4,
      "outputs": [
        {
          "output_type": "stream",
          "name": "stdout",
          "text": [
            "Accuracy: 0.7857258820982755\n",
            "F1 score: 0.78572656050385\n",
            "Recall: 0.7858122760402473\n",
            "Precision: 0.7856569919691473\n"
          ]
        }
      ]
    },
    {
      "cell_type": "code",
      "source": [
        "from sklearn2pmml import sklearn2pmml, make_pmml_pipeline"
      ],
      "metadata": {
        "id": "m3MTYfn29zhB"
      },
      "execution_count": 5,
      "outputs": []
    },
    {
      "cell_type": "code",
      "source": [
        "pp = make_pmml_pipeline(p, active_fields=X_training.columns,   target_fields=['busyness'])\n",
        "path_p =    \"/content/drive/MyDrive/model6.012.pmml\"\n",
        "\n",
        "\n",
        "sklearn2pmml(pp,   path_p,   with_repr=True)"
      ],
      "metadata": {
        "id": "Yg6-mgVi8d4f"
      },
      "execution_count": 6,
      "outputs": []
    },
    {
      "cell_type": "code",
      "source": [
        "import pickle\n",
        "\n",
        "\n",
        "\n",
        "\n",
        "with open('/content/drive/My Drive/t6.012random_forest_model.pkl',   'wb') as f:\n",
        "    pickle.dump(p, f)\n",
        "\n",
        "\n",
        "\n",
        "\n"
      ],
      "metadata": {
        "id": "Q_vLlxhrrUAT"
      },
      "execution_count": 7,
      "outputs": []
    }
  ]
}