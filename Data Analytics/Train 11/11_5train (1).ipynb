{
  "nbformat": 4,
  "nbformat_minor": 0,
  "metadata": {
    "colab": {
      "provenance": [],
      "machine_shape": "hm",
      "gpuType": "A100"
    },
    "kernelspec": {
      "name": "python3",
      "display_name": "Python 3"
    },
    "language_info": {
      "name": "python"
    },
    "accelerator": "GPU"
  },
  "cells": [
    {
      "cell_type": "code",
      "execution_count": null,
      "metadata": {
        "colab": {
          "base_uri": "https://localhost:8080/"
        },
        "id": "4Aq1L9BorA9d",
        "outputId": "9e9a1729-fcbd-4214-e409-0e414a7d6686"
      },
      "outputs": [
        {
          "output_type": "stream",
          "name": "stdout",
          "text": [
            "Drive already mounted at /content/drive; to attempt to forcibly remount, call drive.mount(\"/content/drive\", force_remount=True).\n",
            "   trip_distance  fare_amount  total_amount  extra  tip_amount  \\\n",
            "0           3.15         15.0     19.560000    0.5    3.260000   \n",
            "1           0.83          5.5      6.800000    0.5    0.000000   \n",
            "2           1.00          5.0      6.300000    0.5    0.000000   \n",
            "3           2.32         11.0     12.786667    0.5    0.486667   \n",
            "4           1.46          7.5     11.440000    0.5    2.640000   \n",
            "\n",
            "   congestion_surcharge  ride_duration  average_speed  DOLocation_area  \\\n",
            "0                     1      21.150000       8.936170         0.000114   \n",
            "1                     1       5.550000       8.972973         0.000438   \n",
            "2                     1       3.816667      15.720524         0.000143   \n",
            "3                     1      13.788889       9.586343         0.000094   \n",
            "4                     1       7.850000      11.159236         0.000111   \n",
            "\n",
            "   DOLocation_perimeter  ...  dropoff_month_3  dropoff_month_4  \\\n",
            "0              0.047584  ...                0                0   \n",
            "1              0.094331  ...                0                0   \n",
            "2              0.052793  ...                0                0   \n",
            "3              0.043747  ...                0                0   \n",
            "4              0.049337  ...                0                0   \n",
            "\n",
            "   dropoff_month_5  dropoff_month_6  dropoff_month_7  dropoff_month_8  \\\n",
            "0                0                0                0                0   \n",
            "1                0                0                0                0   \n",
            "2                0                0                0                0   \n",
            "3                0                0                0                0   \n",
            "4                0                0                0                0   \n",
            "\n",
            "   dropoff_month_9  dropoff_month_10  dropoff_month_11  dropoff_month_12  \n",
            "0                0                 0                 0                 1  \n",
            "1                0                 0                 0                 1  \n",
            "2                0                 0                 0                 1  \n",
            "3                0                 0                 0                 1  \n",
            "4                0                 0                 0                 1  \n",
            "\n",
            "[5 rows x 164 columns]\n"
          ]
        }
      ],
      "source": [
        "import pandas as panda\n",
        "import numpy as nump\n",
        "\n",
        "from sklearn import metrics\n",
        "from sklearn.model_selection import train_test_split\n",
        "\n",
        "\n",
        "\n",
        "\n",
        "from google.colab import drive\n",
        "drive.mount('/content/drive')\n",
        "\n",
        "df = panda.read_csv('/content/drive/MyDrive/feature_complete1.3manhattenyellowtaxis.csv')\n",
        "\n",
        "\n",
        "\n",
        "print(df.head())\n",
        "\n",
        "\n",
        "\n",
        "\n",
        "\n"
      ]
    },
    {
      "cell_type": "code",
      "source": [
        "from sklearn.preprocessing import StandardScaler\n",
        "\n",
        "continuous_feats = [\"average_speed\", \"ride_duration\", \"tip_amount\", \"trip_distance\",\n",
        "                       \"extra\", \"passenger_count\", \"fare_amount\", \"total_amount\",\n",
        "                       \"DOLocation_area\", \"DOLocation_perimeter\", \"congestion_surcharge\"]\n",
        "\n",
        "\n",
        "\n",
        "s = StandardScaler()\n",
        "\n",
        "\n",
        "\n",
        "df[continuous_feats]   = s.fit_transform(df[continuous_feats])\n",
        "\n"
      ],
      "metadata": {
        "id": "47_PmVE32b0-"
      },
      "execution_count": null,
      "outputs": []
    },
    {
      "cell_type": "code",
      "source": [
        "!pip install tensorflow\n"
      ],
      "metadata": {
        "colab": {
          "base_uri": "https://localhost:8080/"
        },
        "id": "gHmJpJMwp2_6",
        "outputId": "07c49b1d-900c-48bd-e0cd-8116e256de71"
      },
      "execution_count": null,
      "outputs": [
        {
          "output_type": "stream",
          "name": "stdout",
          "text": [
            "Requirement already satisfied: tensorflow in /usr/local/lib/python3.10/dist-packages (2.12.0)\n",
            "Requirement already satisfied: absl-py>=1.0.0 in /usr/local/lib/python3.10/dist-packages (from tensorflow) (1.4.0)\n",
            "Requirement already satisfied: astunparse>=1.6.0 in /usr/local/lib/python3.10/dist-packages (from tensorflow) (1.6.3)\n",
            "Requirement already satisfied: flatbuffers>=2.0 in /usr/local/lib/python3.10/dist-packages (from tensorflow) (23.5.26)\n",
            "Requirement already satisfied: gast<=0.4.0,>=0.2.1 in /usr/local/lib/python3.10/dist-packages (from tensorflow) (0.4.0)\n",
            "Requirement already satisfied: google-pasta>=0.1.1 in /usr/local/lib/python3.10/dist-packages (from tensorflow) (0.2.0)\n",
            "Requirement already satisfied: grpcio<2.0,>=1.24.3 in /usr/local/lib/python3.10/dist-packages (from tensorflow) (1.56.2)\n",
            "Requirement already satisfied: h5py>=2.9.0 in /usr/local/lib/python3.10/dist-packages (from tensorflow) (3.8.0)\n",
            "Requirement already satisfied: jax>=0.3.15 in /usr/local/lib/python3.10/dist-packages (from tensorflow) (0.4.13)\n",
            "Requirement already satisfied: keras<2.13,>=2.12.0 in /usr/local/lib/python3.10/dist-packages (from tensorflow) (2.12.0)\n",
            "Requirement already satisfied: libclang>=13.0.0 in /usr/local/lib/python3.10/dist-packages (from tensorflow) (16.0.6)\n",
            "Requirement already satisfied: numpy<1.24,>=1.22 in /usr/local/lib/python3.10/dist-packages (from tensorflow) (1.22.4)\n",
            "Requirement already satisfied: opt-einsum>=2.3.2 in /usr/local/lib/python3.10/dist-packages (from tensorflow) (3.3.0)\n",
            "Requirement already satisfied: packaging in /usr/local/lib/python3.10/dist-packages (from tensorflow) (23.1)\n",
            "Requirement already satisfied: protobuf!=4.21.0,!=4.21.1,!=4.21.2,!=4.21.3,!=4.21.4,!=4.21.5,<5.0.0dev,>=3.20.3 in /usr/local/lib/python3.10/dist-packages (from tensorflow) (3.20.3)\n",
            "Requirement already satisfied: setuptools in /usr/local/lib/python3.10/dist-packages (from tensorflow) (67.7.2)\n",
            "Requirement already satisfied: six>=1.12.0 in /usr/local/lib/python3.10/dist-packages (from tensorflow) (1.16.0)\n",
            "Requirement already satisfied: tensorboard<2.13,>=2.12 in /usr/local/lib/python3.10/dist-packages (from tensorflow) (2.12.3)\n",
            "Requirement already satisfied: tensorflow-estimator<2.13,>=2.12.0 in /usr/local/lib/python3.10/dist-packages (from tensorflow) (2.12.0)\n",
            "Requirement already satisfied: termcolor>=1.1.0 in /usr/local/lib/python3.10/dist-packages (from tensorflow) (2.3.0)\n",
            "Requirement already satisfied: typing-extensions>=3.6.6 in /usr/local/lib/python3.10/dist-packages (from tensorflow) (4.7.1)\n",
            "Requirement already satisfied: wrapt<1.15,>=1.11.0 in /usr/local/lib/python3.10/dist-packages (from tensorflow) (1.14.1)\n",
            "Requirement already satisfied: tensorflow-io-gcs-filesystem>=0.23.1 in /usr/local/lib/python3.10/dist-packages (from tensorflow) (0.32.0)\n",
            "Requirement already satisfied: wheel<1.0,>=0.23.0 in /usr/local/lib/python3.10/dist-packages (from astunparse>=1.6.0->tensorflow) (0.41.0)\n",
            "Requirement already satisfied: ml-dtypes>=0.1.0 in /usr/local/lib/python3.10/dist-packages (from jax>=0.3.15->tensorflow) (0.2.0)\n",
            "Requirement already satisfied: scipy>=1.7 in /usr/local/lib/python3.10/dist-packages (from jax>=0.3.15->tensorflow) (1.10.1)\n",
            "Requirement already satisfied: google-auth<3,>=1.6.3 in /usr/local/lib/python3.10/dist-packages (from tensorboard<2.13,>=2.12->tensorflow) (2.17.3)\n",
            "Requirement already satisfied: google-auth-oauthlib<1.1,>=0.5 in /usr/local/lib/python3.10/dist-packages (from tensorboard<2.13,>=2.12->tensorflow) (1.0.0)\n",
            "Requirement already satisfied: markdown>=2.6.8 in /usr/local/lib/python3.10/dist-packages (from tensorboard<2.13,>=2.12->tensorflow) (3.4.3)\n",
            "Requirement already satisfied: requests<3,>=2.21.0 in /usr/local/lib/python3.10/dist-packages (from tensorboard<2.13,>=2.12->tensorflow) (2.27.1)\n",
            "Requirement already satisfied: tensorboard-data-server<0.8.0,>=0.7.0 in /usr/local/lib/python3.10/dist-packages (from tensorboard<2.13,>=2.12->tensorflow) (0.7.1)\n",
            "Requirement already satisfied: werkzeug>=1.0.1 in /usr/local/lib/python3.10/dist-packages (from tensorboard<2.13,>=2.12->tensorflow) (2.3.6)\n",
            "Requirement already satisfied: cachetools<6.0,>=2.0.0 in /usr/local/lib/python3.10/dist-packages (from google-auth<3,>=1.6.3->tensorboard<2.13,>=2.12->tensorflow) (5.3.1)\n",
            "Requirement already satisfied: pyasn1-modules>=0.2.1 in /usr/local/lib/python3.10/dist-packages (from google-auth<3,>=1.6.3->tensorboard<2.13,>=2.12->tensorflow) (0.3.0)\n",
            "Requirement already satisfied: rsa<5,>=3.1.4 in /usr/local/lib/python3.10/dist-packages (from google-auth<3,>=1.6.3->tensorboard<2.13,>=2.12->tensorflow) (4.9)\n",
            "Requirement already satisfied: requests-oauthlib>=0.7.0 in /usr/local/lib/python3.10/dist-packages (from google-auth-oauthlib<1.1,>=0.5->tensorboard<2.13,>=2.12->tensorflow) (1.3.1)\n",
            "Requirement already satisfied: urllib3<1.27,>=1.21.1 in /usr/local/lib/python3.10/dist-packages (from requests<3,>=2.21.0->tensorboard<2.13,>=2.12->tensorflow) (1.26.16)\n",
            "Requirement already satisfied: certifi>=2017.4.17 in /usr/local/lib/python3.10/dist-packages (from requests<3,>=2.21.0->tensorboard<2.13,>=2.12->tensorflow) (2023.7.22)\n",
            "Requirement already satisfied: charset-normalizer~=2.0.0 in /usr/local/lib/python3.10/dist-packages (from requests<3,>=2.21.0->tensorboard<2.13,>=2.12->tensorflow) (2.0.12)\n",
            "Requirement already satisfied: idna<4,>=2.5 in /usr/local/lib/python3.10/dist-packages (from requests<3,>=2.21.0->tensorboard<2.13,>=2.12->tensorflow) (3.4)\n",
            "Requirement already satisfied: MarkupSafe>=2.1.1 in /usr/local/lib/python3.10/dist-packages (from werkzeug>=1.0.1->tensorboard<2.13,>=2.12->tensorflow) (2.1.3)\n",
            "Requirement already satisfied: pyasn1<0.6.0,>=0.4.6 in /usr/local/lib/python3.10/dist-packages (from pyasn1-modules>=0.2.1->google-auth<3,>=1.6.3->tensorboard<2.13,>=2.12->tensorflow) (0.5.0)\n",
            "Requirement already satisfied: oauthlib>=3.0.0 in /usr/local/lib/python3.10/dist-packages (from requests-oauthlib>=0.7.0->google-auth-oauthlib<1.1,>=0.5->tensorboard<2.13,>=2.12->tensorflow) (3.2.2)\n"
          ]
        }
      ]
    },
    {
      "cell_type": "code",
      "source": [
        "from tensorflow.keras.utils import to_categorical\n",
        "\n",
        "from tensorflow.keras.models import Sequential\n",
        "from tensorflow.keras.layers import Dense\n",
        "\n",
        "\n",
        "\n",
        "\n",
        "from sklearn.metrics import accuracy_score,   f1_score,   recall_score, precision_score\n",
        "\n",
        "\n",
        "X =   df.drop('busyness', axis=1).values\n",
        "\n",
        "\n",
        "\n",
        "y =   to_categorical(df['busyness'] - 1)\n",
        "\n",
        "\n",
        "X_training,  X_testing,   y_training,   y_testing =    train_test_split(X, y, test_size=0.2, random_state=40)\n",
        "\n",
        "\n",
        "model =   Sequential()\n",
        "\n",
        "model.add(Dense(256,  input_dim=X_training.shape[1],     activation='relu'))\n",
        "\n",
        "\n",
        "model.add(Dense(256,    activation='relu'))\n",
        "\n",
        "# this is the output layer\n",
        "model.add(Dense(y_training.shape[1],   activation='softmax'))\n",
        "\n",
        "\n",
        "model.compile(loss='categorical_crossentropy',    optimizer='adam',    metrics=['accuracy'])\n",
        "\n",
        "# Fit the model\n",
        "model.fit(X_training,  y_training, epochs=10,  batch_size=10,  verbose=2,  validation_data=(X_testing, y_testing))\n",
        "\n",
        "\n",
        "y_pred = model.predict(X_testing)\n",
        "\n",
        "y_pred = nump.argmax(y_pred,  axis=1)\n",
        "\n",
        "y_test = nump.argmax(y_testing,  axis=1)\n",
        "\n",
        "# make the metrics\n",
        "accuracy = accuracy_score(y_test, y_pred)\n",
        "\n",
        "f1 = f1_score(y_test, y_pred,  average='macro')\n",
        "\n",
        "recall = recall_score(y_test, y_pred,  average='macro')\n",
        "\n",
        "precision = precision_score(y_test, y_pred, average='macro')\n",
        "\n",
        "print(f\"Accuracy: {accuracy}\")\n",
        "print(f\"F1 Score: {f1}\")\n",
        "print(f\"Recall: {recall}\")\n",
        "print(f\"Precision: {precision}\")\n",
        "\n",
        "\n",
        "\n",
        "\n"
      ],
      "metadata": {
        "id": "auk00kFKrT9V",
        "colab": {
          "base_uri": "https://localhost:8080/"
        },
        "outputId": "281b4e86-6070-4244-d88e-4b1d1459c7a6"
      },
      "execution_count": null,
      "outputs": [
        {
          "output_type": "stream",
          "name": "stdout",
          "text": [
            "Epoch 1/10\n",
            "44373/44373 - 113s - loss: 0.3543 - accuracy: 0.8503 - val_loss: 0.2941 - val_accuracy: 0.8769 - 113s/epoch - 3ms/step\n",
            "Epoch 2/10\n",
            "44373/44373 - 110s - loss: 0.2882 - accuracy: 0.8791 - val_loss: 0.2946 - val_accuracy: 0.8758 - 110s/epoch - 2ms/step\n",
            "Epoch 3/10\n",
            "44373/44373 - 109s - loss: 0.2708 - accuracy: 0.8856 - val_loss: 0.2819 - val_accuracy: 0.8848 - 109s/epoch - 2ms/step\n",
            "Epoch 4/10\n",
            "44373/44373 - 109s - loss: 0.2608 - accuracy: 0.8903 - val_loss: 0.2764 - val_accuracy: 0.8858 - 109s/epoch - 2ms/step\n",
            "Epoch 5/10\n",
            "44373/44373 - 109s - loss: 0.2541 - accuracy: 0.8931 - val_loss: 0.2772 - val_accuracy: 0.8859 - 109s/epoch - 2ms/step\n",
            "Epoch 6/10\n",
            "44373/44373 - 109s - loss: 0.2506 - accuracy: 0.8951 - val_loss: 0.2798 - val_accuracy: 0.8860 - 109s/epoch - 2ms/step\n",
            "Epoch 7/10\n",
            "44373/44373 - 110s - loss: 0.2462 - accuracy: 0.8968 - val_loss: 0.2773 - val_accuracy: 0.8881 - 110s/epoch - 2ms/step\n",
            "Epoch 8/10\n",
            "44373/44373 - 109s - loss: 0.2435 - accuracy: 0.8979 - val_loss: 0.2798 - val_accuracy: 0.8896 - 109s/epoch - 2ms/step\n",
            "Epoch 9/10\n",
            "44373/44373 - 109s - loss: 0.2408 - accuracy: 0.8998 - val_loss: 0.2861 - val_accuracy: 0.8876 - 109s/epoch - 2ms/step\n",
            "Epoch 10/10\n",
            "44373/44373 - 109s - loss: 0.2388 - accuracy: 0.9006 - val_loss: 0.2845 - val_accuracy: 0.8850 - 109s/epoch - 2ms/step\n",
            "3467/3467 [==============================] - 4s 1ms/step\n",
            "Accuracy: 0.8850466952727797\n",
            "F1 Score: 0.8854620508904979\n",
            "Recall: 0.8850977818205438\n",
            "Precision: 0.8874826502396747\n"
          ]
        }
      ]
    },
    {
      "cell_type": "code",
      "source": [
        "import pickle\n",
        "\n",
        "\n",
        "\n",
        "with open('/content/drive/My Drive/t11.5neuralnetwork.pkl', 'wb') as file:\n",
        "    pickle.dump(model, file)\n",
        "\n",
        "\n",
        "\n",
        "\n"
      ],
      "metadata": {
        "id": "Q_vLlxhrrUAT"
      },
      "execution_count": null,
      "outputs": []
    }
  ]
}