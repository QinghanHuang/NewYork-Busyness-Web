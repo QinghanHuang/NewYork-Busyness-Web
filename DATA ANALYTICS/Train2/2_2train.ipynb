{
  "nbformat": 4,
  "nbformat_minor": 0,
  "metadata": {
    "colab": {
      "provenance": [],
      "machine_shape": "hm"
    },
    "kernelspec": {
      "name": "python3",
      "display_name": "Python 3"
    },
    "language_info": {
      "name": "python"
    }
  },
  "cells": [
    {
      "cell_type": "code",
      "execution_count": 1,
      "metadata": {
        "colab": {
          "base_uri": "https://localhost:8080/"
        },
        "id": "4Aq1L9BorA9d",
        "outputId": "f4a4877e-97d4-48ee-d462-7d478a0f4c12"
      },
      "outputs": [
        {
          "output_type": "stream",
          "name": "stdout",
          "text": [
            "Mounted at /content/drive\n",
            "   trip_distance  fare_amount  total_amount  extra  tip_amount  \\\n",
            "0           3.15         15.0     19.560000    0.5    3.260000   \n",
            "1           0.83          5.5      6.800000    0.5    0.000000   \n",
            "2           1.00          5.0      6.300000    0.5    0.000000   \n",
            "3           2.32         11.0     12.786667    0.5    0.486667   \n",
            "4           1.46          7.5     11.440000    0.5    2.640000   \n",
            "\n",
            "   congestion_surcharge  ride_duration  average_speed  DOLocation_area  \\\n",
            "0                     1      21.150000       8.936170         0.000114   \n",
            "1                     1       5.550000       8.972973         0.000438   \n",
            "2                     1       3.816667      15.720524         0.000143   \n",
            "3                     1      13.788889       9.586343         0.000094   \n",
            "4                     1       7.850000      11.159236         0.000111   \n",
            "\n",
            "   DOLocation_perimeter  ...  weather_main_Clouds  weather_main_Drizzle  \\\n",
            "0              0.047584  ...                    1                     0   \n",
            "1              0.094331  ...                    1                     0   \n",
            "2              0.052793  ...                    0                     0   \n",
            "3              0.043747  ...                    0                     0   \n",
            "4              0.049337  ...                    0                     0   \n",
            "\n",
            "   weather_main_Fog  weather_main_Haze  weather_main_Mist  weather_main_Rain  \\\n",
            "0                 0                  0                  0                  0   \n",
            "1                 0                  0                  0                  0   \n",
            "2                 0                  0                  0                  1   \n",
            "3                 0                  0                  0                  1   \n",
            "4                 0                  0                  0                  1   \n",
            "\n",
            "   weather_main_Smoke  weather_main_Snow  weather_main_Squall  \\\n",
            "0                   0                  0                    0   \n",
            "1                   0                  0                    0   \n",
            "2                   0                  0                    0   \n",
            "3                   0                  0                    0   \n",
            "4                   0                  0                    0   \n",
            "\n",
            "   weather_main_Thunderstorm  \n",
            "0                          0  \n",
            "1                          0  \n",
            "2                          0  \n",
            "3                          0  \n",
            "4                          0  \n",
            "\n",
            "[5 rows x 211 columns]\n"
          ]
        }
      ],
      "source": [
        "import pandas as panda\n",
        "\n",
        "from sklearn import metrics\n",
        "from sklearn.model_selection import train_test_split\n",
        "\n",
        "\n",
        "\n",
        "\n",
        "from google.colab import drive\n",
        "drive.mount('/content/drive')\n",
        "\n",
        "df = panda.read_csv('/content/drive/MyDrive/feature_complete2.2manhattenyellowtaxis.csv')\n",
        "\n",
        "\n",
        "\n",
        "print(df.head())\n",
        "\n",
        "\n",
        "\n",
        "\n",
        "\n"
      ]
    },
    {
      "cell_type": "code",
      "source": [
        "import numpy as nump\n",
        "from sklearn.ensemble import RandomForestClassifier\n",
        "\n",
        "\n",
        "\n",
        "training_size =  int(0.8 * len(df))\n",
        "\n",
        "training_df =   df.iloc[:training_size]\n",
        "\n",
        "testing_df =  df.iloc[training_size:]\n",
        "\n",
        "\n",
        "\n",
        "\n",
        "\n",
        "\n",
        "\n",
        "X_training = training_df.drop('busyness',  axis=1)\n",
        "y_training = training_df['busyness']\n",
        "\n",
        "X_testing = testing_df.drop('busyness',  axis=1)\n",
        "y_testing = testing_df['busyness']\n",
        "\n",
        "\n",
        "\n",
        "\n",
        "\n",
        "\n",
        "\n",
        "\n",
        "model = RandomForestClassifier(n_estimators=100, random_state=40)\n",
        "\n",
        "model.fit(X_training, y_training)\n",
        "\n",
        "\n",
        "\n",
        "\n",
        "y_predict = model.predict(X_testing)\n",
        "\n",
        "\n",
        "# make metrics\n",
        "accuracy =  metrics.accuracy_score(y_testing, y_predict)\n",
        "\n",
        "f1_score =    metrics.f1_score(y_testing, y_predict, average='macro')\n",
        "recall =   metrics.recall_score(y_testing, y_predict, average='macro')\n",
        "precision =   metrics.precision_score(y_testing, y_predict, average='macro')\n",
        "\n",
        "\n",
        "\n",
        "# print the metrics\n",
        "print(\"accuracy:\",  accuracy)\n",
        "print(\"f1:\",   f1_score)\n",
        "print(\"recall:\",   recall)\n",
        "print(\"pecision:\",   precision)\n",
        "\n",
        "\n"
      ],
      "metadata": {
        "id": "auk00kFKrT9V",
        "colab": {
          "base_uri": "https://localhost:8080/"
        },
        "outputId": "0ec9e23f-fb3c-4340-93e2-c5afaab459fb"
      },
      "execution_count": 2,
      "outputs": [
        {
          "output_type": "stream",
          "name": "stdout",
          "text": [
            "accuracy: 0.8319232989393174\n",
            "f1: 0.8308211402749391\n",
            "recall: 0.8316513708143066\n",
            "pecision: 0.8312831188684935\n"
          ]
        }
      ]
    },
    {
      "cell_type": "code",
      "source": [
        "import pickle\n",
        "\n",
        "\n",
        "\n",
        "with open('/content/drive/My Drive/t2random_forest_model.pkl', 'wb') as file:\n",
        "    pickle.dump(model, file)\n",
        "\n",
        "\n",
        "\n",
        "\n"
      ],
      "metadata": {
        "id": "Q_vLlxhrrUAT"
      },
      "execution_count": 3,
      "outputs": []
    },
    {
      "cell_type": "code",
      "source": [
        "i = model.feature_importances_\n",
        "\n",
        "\n",
        "\n",
        "how_important_df = panda.DataFrame({\n",
        "    'Feature': X_training.columns,\n",
        "    'Importance': i\n",
        "})\n",
        "\n",
        "\n",
        "how_important_df.sort_values('Importance', ascending=False, inplace=True)\n",
        "\n",
        "\n",
        "how_important_df.to_csv('/content/drive/My Drive/t2feature_importances.csv',  index=False)\n"
      ],
      "metadata": {
        "id": "8zlG8Ob5y3ez"
      },
      "execution_count": 4,
      "outputs": []
    }
  ]
}