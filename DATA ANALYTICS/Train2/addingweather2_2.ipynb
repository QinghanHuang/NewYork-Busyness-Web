{
  "nbformat": 4,
  "nbformat_minor": 0,
  "metadata": {
    "colab": {
      "provenance": [],
      "machine_shape": "hm"
    },
    "kernelspec": {
      "name": "python3",
      "display_name": "Python 3"
    },
    "language_info": {
      "name": "python"
    }
  },
  "cells": [
    {
      "cell_type": "code",
      "execution_count": 1,
      "metadata": {
        "colab": {
          "base_uri": "https://localhost:8080/"
        },
        "id": "4ukmthhXcl7A",
        "outputId": "e30de0fb-a124-4108-a283-4a9fe94c82bb"
      },
      "outputs": [
        {
          "output_type": "stream",
          "name": "stdout",
          "text": [
            "Mounted at /content/drive\n"
          ]
        }
      ],
      "source": [
        "import pandas as pd\n",
        "\n",
        "\n",
        "from google.colab import drive\n",
        "drive.mount('/content/drive')\n",
        "\n",
        "\n",
        "df = pd.read_csv('/content/drive/MyDrive/320manhattenyellowtaxis.csv')\n",
        "\n",
        "weather_df = pd.read_csv('/content/drive/MyDrive/new_york_weather_final.csv')"
      ]
    },
    {
      "cell_type": "code",
      "source": [
        "df['dropoff_datetime_hour'] = pd.to_datetime(df['dropoff_datetime_hour'])"
      ],
      "metadata": {
        "id": "CNJjyXOhdTaB"
      },
      "execution_count": 2,
      "outputs": []
    },
    {
      "cell_type": "code",
      "source": [
        "weather_df['dt_iso'] = pd.to_datetime(weather_df['dt_iso'])"
      ],
      "metadata": {
        "id": "RC5sqlSBdi73"
      },
      "execution_count": 3,
      "outputs": []
    },
    {
      "cell_type": "code",
      "source": [
        "weather_df = weather_df.sort_values('dt_iso')"
      ],
      "metadata": {
        "id": "nznqu017d495"
      },
      "execution_count": 4,
      "outputs": []
    },
    {
      "cell_type": "code",
      "source": [
        "weather_df = weather_df.drop_duplicates(subset='dt_iso', keep='first')"
      ],
      "metadata": {
        "id": "WTRO3KOKd_XP"
      },
      "execution_count": 5,
      "outputs": []
    },
    {
      "cell_type": "code",
      "source": [
        "weather_df.head"
      ],
      "metadata": {
        "colab": {
          "base_uri": "https://localhost:8080/"
        },
        "id": "1FiiQNML3LP_",
        "outputId": "a7e1c6d9-b94f-478e-a9f4-1711aef5562d"
      },
      "execution_count": 6,
      "outputs": [
        {
          "output_type": "execute_result",
          "data": {
            "text/plain": [
              "<bound method NDFrame.head of                   dt_iso  temp  visibility  dew_point  feels_like  temp_min  \\\n",
              "0    2018-12-31 00:00:00  3.27     10000.0      -0.64        0.35      2.56   \n",
              "1    2018-12-31 01:00:00  3.65     10000.0      -0.48        0.45      2.00   \n",
              "2    2018-12-31 02:00:00  3.72     10000.0      -0.26        0.89      1.12   \n",
              "3    2018-12-31 03:00:00  3.62     10000.0      -0.34        1.65      0.35   \n",
              "4    2018-12-31 04:00:00  3.39     10000.0      -0.38        0.49     -1.21   \n",
              "...                  ...   ...         ...        ...         ...       ...   \n",
              "9677 2019-12-31 19:00:00  6.06     10000.0       2.70        2.85      4.84   \n",
              "9678 2019-12-31 20:00:00  6.43     10000.0       2.14        3.08      5.64   \n",
              "9679 2019-12-31 21:00:00  6.86     10000.0       1.58        3.37      5.84   \n",
              "9680 2019-12-31 22:00:00  6.68     10000.0       1.60        2.95      5.57   \n",
              "9681 2019-12-31 23:00:00  6.27     10000.0       1.60        3.11      5.06   \n",
              "\n",
              "      temp_max  pressure  humidity  wind_speed  wind_deg  clouds_all  \\\n",
              "0         3.79      1025        75         3.1       140         100   \n",
              "1         4.34      1026        74         3.6       160         100   \n",
              "2         4.34      1026        75         3.1       180         100   \n",
              "3         4.34      1026        75         2.1       160           0   \n",
              "4         4.34      1026        76         3.1       170           0   \n",
              "...        ...       ...       ...         ...       ...         ...   \n",
              "9677      7.79      1004        79         4.6       240          75   \n",
              "9678      7.23      1003        74         5.1       270         100   \n",
              "9679      7.12      1004        69         5.7       250          40   \n",
              "9680      7.12      1004        70         6.2       250          75   \n",
              "9681      7.00      1005        72         4.6       240          75   \n",
              "\n",
              "     weather_main weather_description  \n",
              "0          Clouds     overcast clouds  \n",
              "1          Clouds     overcast clouds  \n",
              "2          Clouds     overcast clouds  \n",
              "3           Clear        sky is clear  \n",
              "4           Clear        sky is clear  \n",
              "...           ...                 ...  \n",
              "9677         Rain          light rain  \n",
              "9678       Clouds     overcast clouds  \n",
              "9679         Rain          light rain  \n",
              "9680         Rain          light rain  \n",
              "9681       Clouds       broken clouds  \n",
              "\n",
              "[8784 rows x 14 columns]>"
            ]
          },
          "metadata": {},
          "execution_count": 6
        }
      ]
    },
    {
      "cell_type": "code",
      "source": [
        "import pytz\n",
        "from pandas.tseries.offsets import DateOffset\n",
        "\n",
        "\n",
        "\n",
        "weather_df['dt_iso'] = weather_df['dt_iso'].dt.tz_localize('UTC')\n",
        "\n",
        "weather_df['dt_iso'] = weather_df['dt_iso'].dt.tz_convert('America/New_York')\n",
        "\n",
        "\n",
        "weather_df.head"
      ],
      "metadata": {
        "colab": {
          "base_uri": "https://localhost:8080/"
        },
        "id": "23r4Mvwq1BdU",
        "outputId": "87bcbc0c-7f2b-4392-c98e-06ee271b311a"
      },
      "execution_count": 7,
      "outputs": [
        {
          "output_type": "execute_result",
          "data": {
            "text/plain": [
              "<bound method NDFrame.head of                         dt_iso  temp  visibility  dew_point  feels_like  \\\n",
              "0    2018-12-30 19:00:00-05:00  3.27     10000.0      -0.64        0.35   \n",
              "1    2018-12-30 20:00:00-05:00  3.65     10000.0      -0.48        0.45   \n",
              "2    2018-12-30 21:00:00-05:00  3.72     10000.0      -0.26        0.89   \n",
              "3    2018-12-30 22:00:00-05:00  3.62     10000.0      -0.34        1.65   \n",
              "4    2018-12-30 23:00:00-05:00  3.39     10000.0      -0.38        0.49   \n",
              "...                        ...   ...         ...        ...         ...   \n",
              "9677 2019-12-31 14:00:00-05:00  6.06     10000.0       2.70        2.85   \n",
              "9678 2019-12-31 15:00:00-05:00  6.43     10000.0       2.14        3.08   \n",
              "9679 2019-12-31 16:00:00-05:00  6.86     10000.0       1.58        3.37   \n",
              "9680 2019-12-31 17:00:00-05:00  6.68     10000.0       1.60        2.95   \n",
              "9681 2019-12-31 18:00:00-05:00  6.27     10000.0       1.60        3.11   \n",
              "\n",
              "      temp_min  temp_max  pressure  humidity  wind_speed  wind_deg  \\\n",
              "0         2.56      3.79      1025        75         3.1       140   \n",
              "1         2.00      4.34      1026        74         3.6       160   \n",
              "2         1.12      4.34      1026        75         3.1       180   \n",
              "3         0.35      4.34      1026        75         2.1       160   \n",
              "4        -1.21      4.34      1026        76         3.1       170   \n",
              "...        ...       ...       ...       ...         ...       ...   \n",
              "9677      4.84      7.79      1004        79         4.6       240   \n",
              "9678      5.64      7.23      1003        74         5.1       270   \n",
              "9679      5.84      7.12      1004        69         5.7       250   \n",
              "9680      5.57      7.12      1004        70         6.2       250   \n",
              "9681      5.06      7.00      1005        72         4.6       240   \n",
              "\n",
              "      clouds_all weather_main weather_description  \n",
              "0            100       Clouds     overcast clouds  \n",
              "1            100       Clouds     overcast clouds  \n",
              "2            100       Clouds     overcast clouds  \n",
              "3              0        Clear        sky is clear  \n",
              "4              0        Clear        sky is clear  \n",
              "...          ...          ...                 ...  \n",
              "9677          75         Rain          light rain  \n",
              "9678         100       Clouds     overcast clouds  \n",
              "9679          40         Rain          light rain  \n",
              "9680          75         Rain          light rain  \n",
              "9681          75       Clouds       broken clouds  \n",
              "\n",
              "[8784 rows x 14 columns]>"
            ]
          },
          "metadata": {},
          "execution_count": 7
        }
      ]
    },
    {
      "cell_type": "code",
      "source": [
        "# first lets get rid of the timezone awareness\n",
        "weather_df['dt_iso'] = weather_df['dt_iso'].dt.tz_localize(None)\n",
        "\n",
        "\n",
        "\n",
        "\n",
        "\n",
        "\n",
        "combination_df = pd.merge(df, weather_df, left_on='dropoff_datetime_hour', right_on='dt_iso', how='left')"
      ],
      "metadata": {
        "id": "1esP15qDeHJx"
      },
      "execution_count": 8,
      "outputs": []
    },
    {
      "cell_type": "code",
      "source": [
        "x = combination_df.isnull().sum()\n",
        "\n",
        "x"
      ],
      "metadata": {
        "colab": {
          "base_uri": "https://localhost:8080/"
        },
        "id": "nq3e1SOVfLhm",
        "outputId": "5e292d50-e95e-4c4f-9da3-92370b3d49f6"
      },
      "execution_count": 9,
      "outputs": [
        {
          "output_type": "execute_result",
          "data": {
            "text/plain": [
              "dropoff_datetime_hour                        0\n",
              "DOLocationID                                 0\n",
              "VendorID                                     0\n",
              "trip_distance                                0\n",
              "fare_amount                                  0\n",
              "total_amount                                 0\n",
              "extra                                        0\n",
              "RatecodeID                                   0\n",
              "payment_type                                 0\n",
              "tip_amount                                   0\n",
              "congestion_surcharge                         0\n",
              "ride_duration                                0\n",
              "average_speed                                0\n",
              "dropoff_hour                                 0\n",
              "DOLocation_area                              0\n",
              "DOLocation_perimeter                         0\n",
              "number_taxis_DOLocationID_for_this_hour      0\n",
              "dropoff_day_of_week                          0\n",
              "dropoff_day_of_month                         0\n",
              "dropoff_month                                0\n",
              "passenger_count                              0\n",
              "dt_iso                                     364\n",
              "temp                                       364\n",
              "visibility                                 364\n",
              "dew_point                                  364\n",
              "feels_like                                 364\n",
              "temp_min                                   364\n",
              "temp_max                                   364\n",
              "pressure                                   364\n",
              "humidity                                   364\n",
              "wind_speed                                 364\n",
              "wind_deg                                   364\n",
              "clouds_all                                 364\n",
              "weather_main                               364\n",
              "weather_description                        364\n",
              "dtype: int64"
            ]
          },
          "metadata": {},
          "execution_count": 9
        }
      ]
    },
    {
      "cell_type": "code",
      "source": [
        "combination_df2 = combination_df.dropna()"
      ],
      "metadata": {
        "id": "UIZSAch3gBQq"
      },
      "execution_count": 10,
      "outputs": []
    },
    {
      "cell_type": "code",
      "source": [
        "x = combination_df2.isnull().sum()\n",
        "\n",
        "x"
      ],
      "metadata": {
        "colab": {
          "base_uri": "https://localhost:8080/"
        },
        "id": "toPmtCzWgKSA",
        "outputId": "8637bc1c-dfaa-4096-eded-145426de39c2"
      },
      "execution_count": 11,
      "outputs": [
        {
          "output_type": "execute_result",
          "data": {
            "text/plain": [
              "dropoff_datetime_hour                      0\n",
              "DOLocationID                               0\n",
              "VendorID                                   0\n",
              "trip_distance                              0\n",
              "fare_amount                                0\n",
              "total_amount                               0\n",
              "extra                                      0\n",
              "RatecodeID                                 0\n",
              "payment_type                               0\n",
              "tip_amount                                 0\n",
              "congestion_surcharge                       0\n",
              "ride_duration                              0\n",
              "average_speed                              0\n",
              "dropoff_hour                               0\n",
              "DOLocation_area                            0\n",
              "DOLocation_perimeter                       0\n",
              "number_taxis_DOLocationID_for_this_hour    0\n",
              "dropoff_day_of_week                        0\n",
              "dropoff_day_of_month                       0\n",
              "dropoff_month                              0\n",
              "passenger_count                            0\n",
              "dt_iso                                     0\n",
              "temp                                       0\n",
              "visibility                                 0\n",
              "dew_point                                  0\n",
              "feels_like                                 0\n",
              "temp_min                                   0\n",
              "temp_max                                   0\n",
              "pressure                                   0\n",
              "humidity                                   0\n",
              "wind_speed                                 0\n",
              "wind_deg                                   0\n",
              "clouds_all                                 0\n",
              "weather_main                               0\n",
              "weather_description                        0\n",
              "dtype: int64"
            ]
          },
          "metadata": {},
          "execution_count": 11
        }
      ]
    },
    {
      "cell_type": "code",
      "source": [
        "combination_df2.to_csv('/content/drive/MyDrive/330weathermanhattenyellowtaxis.csv', index=False)"
      ],
      "metadata": {
        "id": "a-mNC_aJeqOO"
      },
      "execution_count": 12,
      "outputs": []
    }
  ]
}