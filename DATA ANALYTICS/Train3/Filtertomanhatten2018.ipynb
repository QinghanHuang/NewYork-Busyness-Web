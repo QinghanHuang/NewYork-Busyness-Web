{
  "cells": [
    {
      "cell_type": "code",
      "execution_count": 1,
      "id": "4ae52062",
      "metadata": {
        "colab": {
          "base_uri": "https://localhost:8080/"
        },
        "id": "4ae52062",
        "outputId": "11876b0f-3ca9-4407-a7ce-f68eeb774519"
      },
      "outputs": [
        {
          "output_type": "stream",
          "name": "stdout",
          "text": [
            "Mounted at /content/drive\n"
          ]
        }
      ],
      "source": [
        "import pandas as pd\n",
        "\n",
        "\n",
        "from google.colab import drive\n",
        "drive.mount('/content/drive')\n",
        "\n",
        "\n",
        "x = pd.read_csv('/content/drive/MyDrive/taxi_zones (1).csv')"
      ]
    },
    {
      "cell_type": "code",
      "execution_count": 2,
      "id": "c9335160",
      "metadata": {
        "colab": {
          "base_uri": "https://localhost:8080/"
        },
        "id": "c9335160",
        "outputId": "f38f92c9-968b-4a14-fbc1-482d53dc423c"
      },
      "outputs": [
        {
          "output_type": "stream",
          "name": "stdout",
          "text": [
            "Index(['OBJECTID', 'Shape_Leng', 'the_geom', 'Shape_Area', 'zone',\n",
            "       'LocationID', 'borough'],\n",
            "      dtype='object')\n"
          ]
        }
      ],
      "source": [
        "print(x.columns)"
      ]
    },
    {
      "cell_type": "code",
      "execution_count": 3,
      "id": "1956a5a0",
      "metadata": {
        "id": "1956a5a0"
      },
      "outputs": [],
      "source": [
        "manhattantaxizones = x[x['borough'] == 'Manhattan']\n",
        "\n",
        "themanhattan_ids = manhattantaxizones['LocationID'].tolist()"
      ]
    },
    {
      "cell_type": "code",
      "execution_count": 4,
      "id": "a0093065",
      "metadata": {
        "colab": {
          "base_uri": "https://localhost:8080/"
        },
        "id": "a0093065",
        "outputId": "25604e22-8741-4a65-87df-2c9f7951ccc7"
      },
      "outputs": [
        {
          "output_type": "stream",
          "name": "stdout",
          "text": [
            "[4, 24, 12, 13, 41, 45, 42, 43, 48, 50, 68, 79, 74, 75, 87, 88, 90, 125, 100, 103, 103, 103, 107, 113, 114, 116, 120, 127, 128, 151, 140, 137, 141, 142, 152, 143, 144, 148, 153, 158, 161, 162, 163, 164, 170, 166, 186, 194, 202, 209, 211, 224, 229, 230, 231, 239, 232, 233, 234, 236, 237, 238, 263, 243, 244, 246, 249, 261, 262]\n"
          ]
        }
      ],
      "source": [
        "print(themanhattan_ids)"
      ]
    },
    {
      "cell_type": "code",
      "execution_count": 5,
      "id": "9d2b9753",
      "metadata": {
        "id": "9d2b9753"
      },
      "outputs": [],
      "source": [
        "import os"
      ]
    },
    {
      "cell_type": "code",
      "execution_count": 6,
      "id": "8a07d3bb",
      "metadata": {
        "id": "8a07d3bb"
      },
      "outputs": [],
      "source": [
        "df = pd.read_csv('/content/drive/MyDrive/2018_Yellow_Taxi_Trip_Data.csv')\n"
      ]
    },
    {
      "cell_type": "code",
      "execution_count": 7,
      "id": "2aa49692",
      "metadata": {
        "id": "2aa49692"
      },
      "outputs": [],
      "source": [
        "y = len(df)"
      ]
    },
    {
      "cell_type": "code",
      "execution_count": 8,
      "id": "56658f1e",
      "metadata": {
        "colab": {
          "base_uri": "https://localhost:8080/"
        },
        "id": "56658f1e",
        "outputId": "350a5918-ffe5-4793-a852-7657b596f45a"
      },
      "outputs": [
        {
          "output_type": "stream",
          "name": "stdout",
          "text": [
            "112234626\n"
          ]
        }
      ],
      "source": [
        "print(y)"
      ]
    },
    {
      "cell_type": "code",
      "execution_count": 9,
      "id": "7c593e42",
      "metadata": {
        "id": "7c593e42"
      },
      "outputs": [],
      "source": [
        "filtered_x = df[df['DOLocationID'].isin(themanhattan_ids)]"
      ]
    },
    {
      "cell_type": "code",
      "execution_count": 10,
      "id": "8eaf73f8",
      "metadata": {
        "id": "8eaf73f8"
      },
      "outputs": [],
      "source": [
        "rows = filtered_x.shape[0]"
      ]
    },
    {
      "cell_type": "code",
      "execution_count": 11,
      "id": "1561be41",
      "metadata": {
        "colab": {
          "base_uri": "https://localhost:8080/"
        },
        "id": "1561be41",
        "outputId": "71a0c6f4-383f-4584-be47-d0ba7d4bf182"
      },
      "outputs": [
        {
          "output_type": "stream",
          "name": "stdout",
          "text": [
            "The number of rows is : 99177964\n"
          ]
        }
      ],
      "source": [
        "print(f\"The number of rows is : {rows}\")"
      ]
    },
    {
      "cell_type": "code",
      "execution_count": 12,
      "id": "4949e471",
      "metadata": {
        "id": "4949e471"
      },
      "outputs": [],
      "source": [
        "filtered_x.to_csv('/content/drive/MyDrive/2018.1manhattenyellowtaxis.csv', index=False)"
      ]
    }
  ],
  "metadata": {
    "kernelspec": {
      "display_name": "Python 3",
      "name": "python3"
    },
    "language_info": {
      "codemirror_mode": {
        "name": "ipython",
        "version": 3
      },
      "file_extension": ".py",
      "mimetype": "text/x-python",
      "name": "python",
      "nbconvert_exporter": "python",
      "pygments_lexer": "ipython3",
      "version": "3.10.9"
    },
    "colab": {
      "provenance": [],
      "machine_shape": "hm",
      "gpuType": "A100"
    },
    "accelerator": "GPU"
  },
  "nbformat": 4,
  "nbformat_minor": 5
}