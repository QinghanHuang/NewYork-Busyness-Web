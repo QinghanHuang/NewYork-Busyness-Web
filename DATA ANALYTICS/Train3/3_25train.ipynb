{
  "nbformat": 4,
  "nbformat_minor": 0,
  "metadata": {
    "colab": {
      "provenance": [],
      "machine_shape": "hm"
    },
    "kernelspec": {
      "name": "python3",
      "display_name": "Python 3"
    },
    "language_info": {
      "name": "python"
    }
  },
  "cells": [
    {
      "cell_type": "code",
      "execution_count": 1,
      "metadata": {
        "colab": {
          "base_uri": "https://localhost:8080/"
        },
        "id": "4Aq1L9BorA9d",
        "outputId": "d6745af9-e3af-4aa8-e469-3293e00106f5"
      },
      "outputs": [
        {
          "output_type": "stream",
          "name": "stdout",
          "text": [
            "Drive already mounted at /content/drive; to attempt to forcibly remount, call drive.mount(\"/content/drive\", force_remount=True).\n",
            "   trip_distance  fare_amount  total_amount     extra  tip_amount  \\\n",
            "0       1.742100     9.237500     11.722200  0.495000    1.209800   \n",
            "1       1.678889     9.391026     11.951154  0.500000    1.277863   \n",
            "2       1.406822    10.264019     12.211519  0.495327    0.633645   \n",
            "3       1.494133     8.451667     10.569750  0.495000    0.803167   \n",
            "4       1.545000     9.836538     11.809231  0.500000    0.672692   \n",
            "\n",
            "   ride_duration  average_speed  DOLocation_area  DOLocation_perimeter  \\\n",
            "0      10.812167       9.950562         0.000112              0.043567   \n",
            "1      11.640171       8.853774         0.000186              0.054810   \n",
            "2      14.098442       6.403840         0.000072              0.035804   \n",
            "3       9.966500       9.542621         0.000048              0.035270   \n",
            "4      13.081731       7.755746         0.000041              0.034177   \n",
            "\n",
            "   passenger_count  ...  dropoff_month_3  dropoff_month_4  dropoff_month_5  \\\n",
            "0         1.680000  ...                0                0                0   \n",
            "1         1.717949  ...                0                0                0   \n",
            "2         1.813084  ...                0                0                0   \n",
            "3         1.966667  ...                0                0                0   \n",
            "4         1.634615  ...                0                0                0   \n",
            "\n",
            "   dropoff_month_6  dropoff_month_7  dropoff_month_8  dropoff_month_9  \\\n",
            "0                0                0                0                0   \n",
            "1                0                0                0                0   \n",
            "2                0                0                0                0   \n",
            "3                0                0                0                0   \n",
            "4                0                0                0                0   \n",
            "\n",
            "   dropoff_month_10  dropoff_month_11  dropoff_month_12  \n",
            "0                 0                 0                 0  \n",
            "1                 0                 0                 0  \n",
            "2                 0                 0                 0  \n",
            "3                 0                 0                 0  \n",
            "4                 0                 0                 0  \n",
            "\n",
            "[5 rows x 165 columns]\n"
          ]
        }
      ],
      "source": [
        "import pandas as panda\n",
        "\n",
        "from sklearn import metrics\n",
        "from sklearn.model_selection import train_test_split\n",
        "\n",
        "\n",
        "\n",
        "\n",
        "from google.colab import drive\n",
        "drive.mount('/content/drive')\n",
        "\n",
        "df = panda.read_csv('/content/drive/MyDrive/feature_complete3.25manhattenyellowtaxis.csv')\n",
        "\n",
        "\n",
        "\n",
        "print(df.head())\n",
        "\n",
        "\n",
        "\n",
        "\n",
        "\n"
      ]
    },
    {
      "cell_type": "code",
      "source": [
        "import numpy as nump\n",
        "from sklearn.ensemble import RandomForestClassifier\n",
        "\n",
        "\n",
        "\n",
        "training_size =  int(0.8 * len(df))\n",
        "\n",
        "training_df =   df.iloc[:training_size]\n",
        "\n",
        "testing_df =  df.iloc[training_size:]\n",
        "\n",
        "\n",
        "\n",
        "\n",
        "\n",
        "\n",
        "\n",
        "X_training = training_df.drop('busyness',  axis=1)\n",
        "y_training = training_df['busyness']\n",
        "\n",
        "X_testing = testing_df.drop('busyness',  axis=1)\n",
        "y_testing = testing_df['busyness']\n",
        "\n",
        "\n",
        "\n",
        "\n",
        "\n",
        "\n",
        "\n",
        "\n",
        "model = RandomForestClassifier(n_estimators=100, random_state=40)\n",
        "\n",
        "model.fit(X_training, y_training)\n",
        "\n",
        "\n",
        "\n",
        "\n",
        "y_predict = model.predict(X_testing)\n",
        "\n",
        "\n",
        "# make metrics\n",
        "accuracy =  metrics.accuracy_score(y_testing, y_predict)\n",
        "\n",
        "f1_score =    metrics.f1_score(y_testing, y_predict, average='macro')\n",
        "recall =   metrics.recall_score(y_testing, y_predict, average='macro')\n",
        "precision =   metrics.precision_score(y_testing, y_predict, average='macro')\n",
        "\n",
        "\n",
        "\n",
        "# print the metrics\n",
        "print(\"accuracy:\",  accuracy)\n",
        "print(\"f1:\",   f1_score)\n",
        "print(\"recall:\",   recall)\n",
        "print(\"pecision:\",   precision)\n",
        "\n",
        "\n"
      ],
      "metadata": {
        "id": "auk00kFKrT9V",
        "colab": {
          "base_uri": "https://localhost:8080/"
        },
        "outputId": "718aa3d1-7fd4-410d-b39c-4e66aa1eb53d"
      },
      "execution_count": 2,
      "outputs": [
        {
          "output_type": "stream",
          "name": "stdout",
          "text": [
            "accuracy: 0.8491290879659481\n",
            "f1: 0.8499258354696984\n",
            "recall: 0.8523871592535311\n",
            "pecision: 0.8491064483259834\n"
          ]
        }
      ]
    },
    {
      "cell_type": "code",
      "source": [
        "import pickle\n",
        "\n",
        "\n",
        "\n",
        "with open('/content/drive/My Drive/t3random_forest_model.pkl', 'wb') as file:\n",
        "    pickle.dump(model, file)\n",
        "\n",
        "\n",
        "\n",
        "\n"
      ],
      "metadata": {
        "id": "Q_vLlxhrrUAT"
      },
      "execution_count": 3,
      "outputs": []
    },
    {
      "cell_type": "code",
      "source": [
        "i = model.feature_importances_\n",
        "\n",
        "\n",
        "\n",
        "how_important_df = panda.DataFrame({\n",
        "    'Feature': X_training.columns,\n",
        "    'Importance': i\n",
        "})\n",
        "\n",
        "\n",
        "how_important_df.sort_values('Importance', ascending=False, inplace=True)\n",
        "\n",
        "\n",
        "how_important_df.to_csv('/content/drive/My Drive/t3feature_importances.csv',  index=False)\n"
      ],
      "metadata": {
        "id": "8zlG8Ob5y3ez"
      },
      "execution_count": 4,
      "outputs": []
    }
  ]
}